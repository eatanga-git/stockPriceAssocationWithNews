{
  "nbformat": 4,
  "nbformat_minor": 0,
  "metadata": {
    "colab": {
      "name": "Erick Atanga ISH",
      "provenance": [],
      "collapsed_sections": [],
      "toc_visible": true,
      "authorship_tag": "ABX9TyO8zQ9hZ9NlFBX5eV6k2AgM",
      "include_colab_link": true
    },
    "kernelspec": {
      "name": "python3",
      "display_name": "Python 3"
    },
    "language_info": {
      "name": "python"
    }
  },
  "cells": [
    {
      "cell_type": "markdown",
      "metadata": {
        "id": "view-in-github",
        "colab_type": "text"
      },
      "source": [
        "<a href=\"https://colab.research.google.com/github/eatanga-git/stockPriceAssocationWithNews/blob/main/Erick_Atanga_ISH.ipynb\" target=\"_parent\"><img src=\"https://colab.research.google.com/assets/colab-badge.svg\" alt=\"Open In Colab\"/></a>"
      ]
    },
    {
      "cell_type": "markdown",
      "metadata": {
        "id": "Jn90KahOtEVI"
      },
      "source": [
        "# Finding Association Between a Stock's Price and News Directly Related to Company of Said Stock"
      ]
    },
    {
      "cell_type": "markdown",
      "metadata": {
        "id": "Jg1qdNMZRVpF"
      },
      "source": [
        "This is a program that displays data for popular stocks - more spefically, their stock prices over time - and that *scrapes the web* for articles corresponding to time periods where the stock price underwent a sudden and stark change. This is meant to investigate whether there is an association between the publicity/news of the stock, and the actual stock price (i.e. does negative or positive news about a company negatively or positvely influence the stock price? Or is there little association).\n",
        "\n",
        "### The tools being used\n",
        "\n",
        "Pandas (to help display data easily):\n",
        "https://pandas.pydata.org/docs/index.html\n",
        "\n",
        "Pandas Data-Reader (to get stock info easily): \n",
        "https://pandas-datareader.readthedocs.io/en/latest/\n",
        "\n",
        "Beautiful Soup (to scrape the web for articles): \n",
        "https://realpython.com/beautiful-soup-web-scraper-python/\n",
        "\n",
        "Numpy (to find calculations such as standard deviation, average, etc.)\n",
        "https://numpy.org/\n",
        "\n",
        "\n",
        "For this project, we use the *closing* price of a stock: this is because generally, news for a stock can come out pre-market or in the early hours market when its open, and thus it is better to find the final price of the stock at the end of the trading day. "
      ]
    },
    {
      "cell_type": "markdown",
      "metadata": {
        "id": "bC0EaRVzv6Ok"
      },
      "source": [
        "First, we will begin with a preliminary step by step run through of what we will do in order to achieve this end, using selected data from Apple as an example. Then we'll make a more generalized version of the code later on and test it with other stocks.\n",
        "\n",
        "(Note: When running each block of code in this preliminary sectino, try to only run once. For some reason, when I run the code twice, what's in the output doubles for some reason. If it needs to be rerun, it is best to start over the whole thing.)\n",
        "\n"
      ]
    },
    {
      "cell_type": "markdown",
      "metadata": {
        "id": "jbm_jqmsIZMT"
      },
      "source": [
        "#Preliminary Trial\n"
      ]
    },
    {
      "cell_type": "markdown",
      "metadata": {
        "id": "hj-qswyIIhJ_"
      },
      "source": [
        "##Plot Data\n",
        "We import the aforementioned libraries.\n",
        "\n",
        "Then, we'll look at a moment in time when Apple's stock jumped. We'll use July 28th 2020 to August 6th 2020, and plot it"
      ]
    },
    {
      "cell_type": "code",
      "metadata": {
        "colab": {
          "base_uri": "https://localhost:8080/",
          "height": 336
        },
        "id": "FRI6AJzyRUpR",
        "outputId": "4d2cec59-bb71-4b80-aebd-19e81658d4a3"
      },
      "source": [
        "import pandas as pd \n",
        "#!pip install pandas-datareader\n",
        "from pandas_datareader import data \n",
        "\n",
        "#Web Scraping\n",
        "from bs4 import BeautifulSoup\n",
        "import requests\n",
        "import urllib.request\n",
        "\n",
        "#Used to render graphs in notebook\n",
        "%matplotlib inline \n",
        "import numpy as np\n",
        "import matplotlib.pyplot as plt #Plotting library\n",
        "from datetime import datetime #datetime for timeseries support\n",
        "import math\n",
        "\n",
        "symbol = 'AAPL'\n",
        "data_source='yahoo'\n",
        "year1, year2 = 2020, 2020\n",
        "month1, month2 = 7, 8\n",
        "day1, day2 = 28, 6\n",
        "\n",
        "start = datetime(2020, 7, 28)\n",
        "end = datetime(2020, 8, 6)\n",
        "\n",
        "# b. Generate plot of the data\n",
        "drApplePlot = data.DataReader(symbol, data_source, start, end)['Close']\n",
        "drApplePlot.plot(title='AAPL', legend=True, xlabel='Time', ylabel='Closing Prices')\n",
        " \n",
        "\n",
        "\n",
        "\n"
      ],
      "execution_count": 23,
      "outputs": [
        {
          "output_type": "execute_result",
          "data": {
            "text/plain": [
              "<matplotlib.axes._subplots.AxesSubplot at 0x7f9bbe43efd0>"
            ]
          },
          "metadata": {
            "tags": []
          },
          "execution_count": 23
        },
        {
          "output_type": "display_data",
          "data": {
            "image/png": "[encoded data removed]",
            "text/plain": [
              "<Figure size 432x288 with 1 Axes>"
            ]
          },
          "metadata": {
            "tags": [],
            "needs_background": "light"
          }
        }
      ]
    },
    {
      "cell_type": "markdown",
      "metadata": {
        "id": "jWCZBlXIy94a"
      },
      "source": [
        "We see the graph above. We notice that from the 30th of July to the 3rd of August, we saw a very high jump. We then want to investigate what happened during this time by scraping the web.\n",
        "\n",
        "First, we'll create a list for stock prices, and a list for dates, for future reference"
      ]
    },
    {
      "cell_type": "code",
      "metadata": {
        "colab": {
          "base_uri": "https://localhost:8080/"
        },
        "id": "GId25QCZzAfE",
        "outputId": "3be38b3a-2d0e-48f3-a180-ca8faf14ea8c"
      },
      "source": [
        "draf = data.DataReader(symbol, data_source, start, end)['Close']\n",
        "drAF = pd.DataFrame(draf) \n",
        "\n",
        "appleclosePriceList = drAF['Close'].tolist()\n",
        "applecloseDateList = drAF['Close'].keys().tolist() \n",
        "#drClosePD = drAF[['Close']]\n",
        "#drClosePD.head(10)\n",
        "\n",
        "print(applecloseDateList)\n"
      ],
      "execution_count": 24,
      "outputs": [
        {
          "output_type": "stream",
          "text": [
            "[Timestamp('2020-07-28 00:00:00'), Timestamp('2020-07-29 00:00:00'), Timestamp('2020-07-30 00:00:00'), Timestamp('2020-07-31 00:00:00'), Timestamp('2020-08-03 00:00:00'), Timestamp('2020-08-04 00:00:00'), Timestamp('2020-08-05 00:00:00'), Timestamp('2020-08-06 00:00:00')]\n"
          ],
          "name": "stdout"
        }
      ]
    },
    {
      "cell_type": "markdown",
      "metadata": {
        "id": "bw2KkJZiLCdL"
      },
      "source": [
        "##Collect slopes from plot\n",
        "We'll make a list of slopes and a list of stock jumps. \n",
        "\n",
        "Each day-to-day stock price change is essentially a slope (y is the stock price, x is the day). We use slopes to measure changes since, on a \"typical\" day, the stock price won't jump dramatically (or, the slope won't be so high or so low.)\n",
        "\n",
        "![stock price demonstration.png](data:image/png;base64,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)\n",
        "\n",
        "We can collect the slopes that make up the plot, then determine which slopes are outliers. Then put that into the stock jumps list.\n",
        "\n",
        "\n",
        "We'll also print out the price list."
      ]
    },
    {
      "cell_type": "code",
      "metadata": {
        "colab": {
          "base_uri": "https://localhost:8080/"
        },
        "id": "XyDu8I05LETT",
        "outputId": "6722d13c-bf3e-435e-8406-cb030274afe8"
      },
      "source": [
        "slopesList=[]\n",
        "stockJumpsList = [] \n",
        "\n",
        "print(appleclosePriceList)\n"
      ],
      "execution_count": 25,
      "outputs": [
        {
          "output_type": "stream",
          "text": [
            "[93.25250244140625, 95.04000091552734, 96.19000244140625, 106.26000213623047, 108.9375, 109.66500091552734, 110.0625, 113.90249633789062]\n"
          ],
          "name": "stdout"
        }
      ]
    },
    {
      "cell_type": "markdown",
      "metadata": {
        "id": "Ck_ovspD2HzG"
      },
      "source": [
        "Slope equation"
      ]
    },
    {
      "cell_type": "code",
      "metadata": {
        "colab": {
          "base_uri": "https://localhost:8080/"
        },
        "id": "APAl1zvGKi_F",
        "outputId": "b65a689f-8799-495a-899e-5190cc3b3036"
      },
      "source": [
        "for i in appleclosePriceList:\n",
        "  if appleclosePriceList.index(i) < (len(appleclosePriceList)-1):\n",
        "    #Normally, the equation of a slope is y2-y1/x2-x1. But because we are going day by day (and since markets are closed on the weekends for typical stocks),\n",
        "    #the x2-x1 will always end up being 1. So we only calculate the y2-y1.\n",
        "    slope = (appleclosePriceList[appleclosePriceList.index(i)+1] - i)\n",
        "    slopesList.append(slope)  \n",
        "    print(slope)\n",
        " \n",
        "\n",
        "print(slopesList)\n"
      ],
      "execution_count": 26,
      "outputs": [
        {
          "output_type": "stream",
          "text": [
            "1.7874984741210938\n",
            "1.1500015258789062\n",
            "10.069999694824219\n",
            "2.6774978637695312\n",
            "0.7275009155273438\n",
            "0.39749908447265625\n",
            "3.839996337890625\n",
            "[1.7874984741210938, 1.1500015258789062, 10.069999694824219, 2.6774978637695312, 0.7275009155273438, 0.39749908447265625, 3.839996337890625]\n"
          ],
          "name": "stdout"
        }
      ]
    },
    {
      "cell_type": "markdown",
      "metadata": {
        "id": "fbT9c1ey6p06"
      },
      "source": [
        "The plot shown above is reflected by the output shown here: most of the slopes are around 1-3 or so. We'll see that below."
      ]
    },
    {
      "cell_type": "markdown",
      "metadata": {
        "id": "mzuO-wswU9TV"
      },
      "source": [
        "Pull out outliers or extreme periods from slopelist (this is to help show areas where the stock price suddenly jumped or declined)"
      ]
    },
    {
      "cell_type": "code",
      "metadata": {
        "colab": {
          "base_uri": "https://localhost:8080/"
        },
        "id": "EWziX-5DU71B",
        "outputId": "4c986024-e22e-4ede-b15f-c6a370bb26b5"
      },
      "source": [
        "print(\"Standard Deviation of Stock Slopes:\", np.std(slopesList))\n",
        "print(\"Average of Stock Slopes:\", np.average(slopesList))\n",
        "print(\"Median of Stock Slopes:\", np.median(slopesList))\n",
        "\n",
        "#The median slope is 1.788. In other words, the typical increase of a stock price per day is usually just going to be over $1.5 dollars.\n",
        "#As a result, we'll use the dates where the stock price is at least 1 standard deviations above or below the mean to use for articles.\n",
        "\n",
        "for i in slopesList:\n",
        "  if ((i > np.std(slopesList)) or (i < - np.std(slopesList))):\n",
        "    stockJumpsList.append(i)\n",
        "\n",
        "print(stockJumpsList)"
      ],
      "execution_count": 27,
      "outputs": [
        {
          "output_type": "stream",
          "text": [
            "Standard Deviation of Stock Slopes: 3.1077532986929715\n",
            "Average of Stock Slopes: 2.9499991280691966\n",
            "Median of Stock Slopes: 1.7874984741210938\n",
            "[10.069999694824219, 3.839996337890625]\n"
          ],
          "name": "stdout"
        }
      ]
    },
    {
      "cell_type": "markdown",
      "metadata": {
        "id": "r-R__XUMh3d1"
      },
      "source": [
        "##Getting dates of slopes\n",
        "Now, with our outliers, we go and find the corresponding dates.\n",
        "\n",
        "We will backtrack to find the index of the outliers in the slopesList. Then use those indexes to find the dates in the applecloseDateList."
      ]
    },
    {
      "cell_type": "code",
      "metadata": {
        "id": "z7HwO2khhwdS",
        "colab": {
          "base_uri": "https://localhost:8080/"
        },
        "outputId": "6f57f087-eb40-47f7-a872-47c68ac8bd7d"
      },
      "source": [
        "indexList = []\n",
        "for i in stockJumpsList:\n",
        "  indexList.append(slopesList.index(i))\n",
        "\n",
        "print(indexList)"
      ],
      "execution_count": 28,
      "outputs": [
        {
          "output_type": "stream",
          "text": [
            "[2, 6]\n"
          ],
          "name": "stdout"
        }
      ]
    },
    {
      "cell_type": "markdown",
      "metadata": {
        "id": "EnI1AVAykM7O"
      },
      "source": [
        "Using the indexes, we append the dates with the corresponding indeces (and the following indeces to get the next date) and put them in a tuple that we pass into a list."
      ]
    },
    {
      "cell_type": "code",
      "metadata": {
        "colab": {
          "base_uri": "https://localhost:8080/"
        },
        "id": "ijU8HDrHy8bG",
        "outputId": "32bf8f3d-dd9a-4358-c0fa-4c09da11fd22"
      },
      "source": [
        "dateQueryList =[]\n",
        "for i in indexList:\n",
        "  dateQueryList.append((applecloseDateList[i], applecloseDateList[i+1]))\n",
        "\n",
        "print(dateQueryList) \n",
        "print((dateQueryList[1][1]))\n"
      ],
      "execution_count": 29,
      "outputs": [
        {
          "output_type": "stream",
          "text": [
            "[(Timestamp('2020-07-30 00:00:00'), Timestamp('2020-07-31 00:00:00')), (Timestamp('2020-08-05 00:00:00'), Timestamp('2020-08-06 00:00:00'))]\n",
            "2020-08-06 00:00:00\n"
          ],
          "name": "stdout"
        }
      ]
    },
    {
      "cell_type": "markdown",
      "metadata": {
        "id": "dzdJqjMzJacG"
      },
      "source": [
        "##Convert the date tuples to tuples of strings"
      ]
    },
    {
      "cell_type": "markdown",
      "metadata": {
        "id": "Z9ERsmOAdnoT"
      },
      "source": [
        "This converts the list of tuples to a list of string tuples, so we can then subscript them into the query later on."
      ]
    },
    {
      "cell_type": "code",
      "metadata": {
        "colab": {
          "base_uri": "https://localhost:8080/"
        },
        "id": "MvXBeLJE3lRG",
        "outputId": "12cf14a3-63c2-42cd-b198-78df10d31515"
      },
      "source": [
        "\n",
        "def convertDateTupleListToStrings(dateTupleList):\n",
        "  strDateTupleList = []\n",
        "  for i in (dateTupleList):\n",
        "    date1 = (str(i[0]))\n",
        "    date2 = (str(i[1]))\n",
        "    dateTuple = (date1, date2)\n",
        "    strDateTupleList.append(dateTuple)\n",
        "  return strDateTupleList\n",
        "     \n",
        "convertDateTupleListToStrings(dateQueryList)   \n",
        "\n",
        "print(convertDateTupleListToStrings(dateQueryList))\n",
        "ex = convertDateTupleListToStrings(dateQueryList)\n",
        "print(ex[0])\n",
        "print(ex[0][0])\n",
        "\n",
        "#return a tuple"
      ],
      "execution_count": 30,
      "outputs": [
        {
          "output_type": "stream",
          "text": [
            "[('2020-07-30 00:00:00', '2020-07-31 00:00:00'), ('2020-08-05 00:00:00', '2020-08-06 00:00:00')]\n",
            "('2020-07-30 00:00:00', '2020-07-31 00:00:00')\n",
            "2020-07-30 00:00:00\n"
          ],
          "name": "stdout"
        }
      ]
    },
    {
      "cell_type": "markdown",
      "metadata": {
        "id": "qyt9VQaSd6FV"
      },
      "source": [
        "We then use this method to convert an element of a tuple into a string in \"yyyy, mm, dd\" format that can be easily inserted into the query. For this example, we will just use the first element (column) in the first tuple (or row). (This will be index [0][0] of the tuple.)"
      ]
    },
    {
      "cell_type": "code",
      "metadata": {
        "id": "27icQEfLZW_T"
      },
      "source": [
        "convertedStringDateList = convertDateTupleListToStrings(dateQueryList)\n",
        "\n",
        "\n",
        "\n",
        "def getYMDstr(dateStrTupleList, row, column):\n",
        "  date1 = dateStrTupleList[row][column]\n",
        "  year = date1[0:4]\n",
        "  month = date1[5:7]\n",
        "  day = date1[8:10]\n",
        "  return(year, month, day)\n",
        "\n",
        "\n",
        " "
      ],
      "execution_count": 31,
      "outputs": []
    },
    {
      "cell_type": "markdown",
      "metadata": {
        "id": "dlSeLKWJK8sX"
      },
      "source": [
        "##Query"
      ]
    },
    {
      "cell_type": "markdown",
      "metadata": {
        "id": "FZfjok2FzBEE"
      },
      "source": [
        "With our methods complete, we can now insert the dates into a query like so. This is for Apple during July 30th and 31st.\n",
        "\n",
        "(Our query is a simple google search: We can get a gist of the overall \"situation\" by looking at some 20 or so articles around the web at a glance - namely, article titles and their descriptions. There is no need to scrape each particular website, as the overall gist and \"mood\" of the article can be seen by looking at the title and meta description.)"
      ]
    },
    {
      "cell_type": "code",
      "metadata": {
        "id": "VeU2p-TQsaJn",
        "colab": {
          "base_uri": "https://localhost:8080/"
        },
        "outputId": "b68ec900-3943-49e9-b349-14374ba95864"
      },
      "source": [
        "year1 = getYMDstr(convertedStringDateList, 0, 0)[0]\n",
        "month1 = getYMDstr(convertedStringDateList, 0, 0)[1]\n",
        "day30 = getYMDstr(convertedStringDateList, 0, 0)[2]\n",
        "\n",
        "year2 = getYMDstr(convertedStringDateList, 0, 1)[0]\n",
        "month2 = getYMDstr(convertedStringDateList, 0, 1)[1]\n",
        "day31 = getYMDstr(convertedStringDateList, 0, 1)[2]\n",
        "\n",
        "#url = \"https://google.com/search?q=Apple+after:2020-07-28+before:2020-08-06&num=20\"\n",
        "url = \"https://google.com/search?q=Apple+after:\"+ year1 + \"-\" + month1 + \"-\" + day30 + \"+before:\" + year2 + \"-\" + month2 + \"-\" + day31 + \"&num=20\"\n",
        "response =requests.get(url)\n",
        "if not response.status_code==200 :\n",
        "    print(\"request not successful\")\n",
        "else:\n",
        "    print(url)\n",
        "\n",
        "results_page = BeautifulSoup(response.content, 'lxml')\n",
        "print (results_page.prettify())\n"
      ],
      "execution_count": 32,
      "outputs": [
        {
          "output_type": "stream",
          "text": [
            "https://google.com/search?q=Apple+after:2020-07-30+before:2020-07-31&num=20\n",
            "<!DOCTYPE html>\n",
            "<html lang=\"en\">\n",
            " <head>\n",
            "  <meta charset=\"utf-8\"/>\n",
            "  <meta content=\"/images/branding/googleg/1x/googleg_standard_color_128dp.png\" itemprop=\"image\"/>\n",
            "  <title>\n",
            "   Apple after:2020-07-30 before:2020-07-31 - Google Search\n",
            "  </title>\n",
            "  <script nonce=\"rk3rXObKAZB6k3Rn3CuWhA==\">\n",
            "   (function(){\n",
            "document.documentElement.addEventListener(\"submit\",function(b){var a;if(a=b.target){var c=a.getAttribute(\"data-submitfalse\");a=\"1\"==c||\"q\"==c&&!a.elements.q.value?!0:!1}else a=!1;a&&(b.preventDefault(),b.stopPropagation())},!0);document.documentElement.addEventListener(\"click\",function(b){var a;a:{for(a=b.target;a&&a!=document.documentElement;a=a.parentElement)if(\"A\"==a.tagName){a=\"1\"==a.getAttribute(\"data-nohref\");break a}a=!1}a&&b.preventDefault()},!0);}).call(this);(function(){\n",
            "var a=window.performance;window.start=Date.now();a:{var b=window;if(a){var c=a.timing;if(c){var d=c.navigationStart,f=c.responseStart;if(f>d&&f<=window.start){window.start=f;b.wsrt=f-d;break a}}a.now&&(b.wsrt=Math.floor(a.now()))}}window.google=window.google||{};var h=function(g){g&&g.target.setAttribute(\"data-iml\",Date.now())};document.documentElement.addEventListener(\"load\",h,!0);google.rglh=function(){document.documentElement.removeEventListener(\"load\",h,!0)};}).call(this);(function(){\n",
            "var c=[],e=0;window.ping=function(b){-1==b.indexOf(\"&zx\")&&(b+=\"&zx=\"+Date.now());var a=new Image,d=e++;c[d]=a;a.onerror=a.onload=a.onabort=function(){delete c[d]};a.src=b};}).call(this);\n",
            "  </script>\n",
            "  <style>\n",
            "   body{margin:0 auto;max-width:736px;padding:0 8px;}a{color:#1967D2;text-decoration:none;tap-highlight-color:rgba(0,0,0,.10)}a:visited{color:#4B11A8}a:hover{text-decoration:underline}img{border:0}html{font-family:Roboto,Helvetica Neue,Arial,sans-serif;font-size:14px;line-height:20px;text-size-adjust:100%;color:#3c4043;word-wrap:break-word;background-color:#fff}.bRsWnc{background-color:#fff;border-top:1px solid #dadce0;height:39px;overflow:hidden}.N6RWV{height:51px;overflow-scrolling:touch;overflow-x:auto;overflow-y:hidden}.Uv67qb{box-pack:justify;font-size:12px;line-height:37px;justify-content:space-between;justify-content:space-between}.Uv67qb a,.Uv67qb span{color:#70757a;display:block;flex:none;padding:0 16px;text-align:center;text-transform:uppercase;}span.OXXup{border-bottom:2px solid #4285f4;color:#4285f4;font-weight:bold}a.eZt8xd:visited{color:#70757a}.FElbsf{border-left:1px solid rgba(0,0,0,.12)}header article{overflow:visible}.Pg70bf{height:39px;display:box;display:flex;display:flex;width:100%}.H0PQec{position:relative;flex:1}.sbc{display:flex;width:100%}.Pg70bf input{margin:2px 4px 2px 8px;}.x{width:26px;color:#70757a;font:27px/38px arial, sans-serif;line-height:40px;}#qdClwb{flex:0 0 auto;width:39px;height:39px;border-bottom:0;padding:0;border-top-right-radius:8px;background-color:#1a73e8;border:1px solid #1558d6;background-image:url(data:image/gif;base64,R0lGODdhJAAjAPIHAODr/nCk+MPZ/FmV96zK+/7+/5K5+kqL9iwAAAAAJAAjAEADani63P4wykmbKcQRXDscQAEMXmmeaLQVLCukzyC09AjfeK7v/MAajACLhPMVAgwjsUcEiZa8xgAYrVqv2Kx2iwsIAAABknfBBAKrTE4IcMyot8ur8datqIbQfJdnAfo2WE6BV05wXIiJigkAOw==);}.sc{font-size:;position:absolute;top:39px;left:0;right:0;box-shadow:0px 2px 5px rgba(0,0,0,.2);z-index:2;background-color:#fff}.sc>div{padding:10px 10px;padding-left:16px;padding-left:14px;border-top:1px solid #dfe1e5}.scs{background-color:#f8f9fa;}.noHIxc{display:block;font-size:16px;padding:0 0 0 8px;flex:1;height:35px;outline:none;border:none;width:100%;-webkit-tap-highlight-color:rgba(0,0,0,.00);overflow:hidden;}.sbc input[type=text]{background:none}.sml .cOl4Id{display:none}.l{display:none}.sml header{background:none}.sml .l{display:block;padding:0 8px}.sml .l{letter-spacing:-1px;text-align:center;border-radius:2px 0 0 0;font:22px/36px Futura, Arial, sans-serif;font-smoothing:antialiased}.bz1lBb{background:#fff;border-radius:8px 8px 0 0;box-shadow:0 1px 6px rgba(32, 33, 36, 0.18);margin-top:10px}.KP7LCb{border-radius:0 0 8px 8px;box-shadow:0 2px 3px rgba(32, 33, 36, 0.18);margin-bottom:10px;overflow:hidden}.cOl4Id{letter-spacing:-1px;text-align:center;font:22pt Futura, Arial, sans-serif;padding:10px 0 5px 0;height:37px;font-smoothing:antialiased}.cOl4Id span{display:inline-block}.S591j{height:100%}.V6gwVd{color:#4285f4}.iWkuvd{color:#ea4335}.cDrQ7{color:#fcc934}.ntlR9{color:#34a853}.tJ3Myc{-webkit-transform:rotate(-20deg);position:relative;left:-1px;display:inline-block}footer{text-align:center;margin-top:18px}footer a,footer a:visited,.smiUbb{color:#70757a}.xeDNfc{margin:0 13px}#EOlPnc{margin-top:36px}#EOlPnc>div{margin:20px}.Srfpq{color:#70757a}\n",
            "  </style>\n",
            " </head>\n",
            " <body jsmodel=\"TvHxbe\">\n",
            "  <header id=\"hdr\">\n",
            "   <script nonce=\"rk3rXObKAZB6k3Rn3CuWhA==\">\n",
            "    (function(){\n",
            "var k=this||self,l=function(){},m=function(a){var b=typeof a;return\"object\"==b&&null!=a||\"function\"==b},n=function(a,b){function c(){}c.prototype=b.prototype;a.l=b.prototype;a.prototype=new c;a.prototype.constructor=a;a.m=function(d,e,g){for(var f=Array(arguments.length-2),h=2;h<arguments.length;h++)f[h-2]=arguments[h];return b.prototype[e].apply(d,f)}};var p=Array.prototype.indexOf?function(a,b){return Array.prototype.indexOf.call(a,b,void 0)}:function(a,b){if(\"string\"===typeof a)return\"string\"!==typeof b||1!=b.length?-1:a.indexOf(b,0);for(var c=0;c<a.length;c++)if(c in a&&a[c]===b)return c;return-1},q=Array.prototype.filter?function(a,b){return Array.prototype.filter.call(a,b,void 0)}:function(a,b){for(var c=a.length,d=[],e=0,g=\"string\"===typeof a?a.split(\"\"):a,f=0;f<c;f++)if(f in g){var h=g[f];b.call(void 0,h,f,a)&&(d[e++]=h)}return d};var r=function(a){return\"string\"==typeof a.className?a.className:a.getAttribute&&a.getAttribute(\"class\")||\"\"},t=function(a,b){\"string\"==typeof a.className?a.className=b:a.setAttribute&&a.setAttribute(\"class\",b)},u=function(a,b){a.classList?b=a.classList.contains(b):(a=a.classList?a.classList:r(a).match(/\\S+/g)||[],b=0<=p(a,b));return b},x=function(){var a=v,b=w;a.classList?a.classList.remove(b):u(a,b)&&t(a,q(a.classList?a.classList:r(a).match(/\\S+/g)||[],function(c){return c!=b}).join(\" \"))};var y;a:{var z=k.navigator;if(z){var A=z.userAgent;if(A){y=A;break a}}y=\"\"};var B=function(a){B[\" \"](a);return a};B[\" \"]=l;var C=-1!=y.indexOf(\"Gecko\")&&!(-1!=y.toLowerCase().indexOf(\"webkit\")&&-1==y.indexOf(\"Edge\"))&&!(-1!=y.indexOf(\"Trident\")||-1!=y.indexOf(\"MSIE\"))&&-1==y.indexOf(\"Edge\");var D=function(){if(!k.addEventListener||!Object.defineProperty)return!1;var a=!1,b=Object.defineProperty({},\"passive\",{get:function(){a=!0}});try{k.addEventListener(\"test\",l,b),k.removeEventListener(\"test\",l,b)}catch(c){}return a}();var E=function(a,b){this.type=a;this.target=b};E.prototype.g=function(){};var G=function(a){E.call(this,a?a.type:\"\");this.relatedTarget=this.target=null;this.button=this.screenY=this.screenX=this.clientY=this.clientX=0;this.key=\"\";this.keyCode=0;this.metaKey=this.shiftKey=this.altKey=this.ctrlKey=!1;this.state=null;this.pointerId=0;this.pointerType=\"\";this.h=null;if(a){var b=this.type=a.type,c=a.changedTouches&&a.changedTouches.length?a.changedTouches[0]:null;this.target=a.target||a.srcElement;var d=a.relatedTarget;if(d){if(C){a:{try{B(d.nodeName);var e=!0;break a}catch(g){}e=\n",
            "!1}e||(d=null)}}else\"mouseover\"==b?d=a.fromElement:\"mouseout\"==b&&(d=a.toElement);this.relatedTarget=d;c?(this.clientX=void 0!==c.clientX?c.clientX:c.pageX,this.clientY=void 0!==c.clientY?c.clientY:c.pageY,this.screenX=c.screenX||0,this.screenY=c.screenY||0):(this.clientX=void 0!==a.clientX?a.clientX:a.pageX,this.clientY=void 0!==a.clientY?a.clientY:a.pageY,this.screenX=a.screenX||0,this.screenY=a.screenY||0);this.button=a.button;this.keyCode=a.keyCode||0;this.key=a.key||\"\";this.ctrlKey=a.ctrlKey;this.altKey=a.altKey;this.shiftKey=a.shiftKey;this.metaKey=a.metaKey;this.pointerId=a.pointerId||0;this.pointerType=\"string\"===typeof a.pointerType?a.pointerType:F[a.pointerType]||\"\";this.state=a.state;this.h=a;a.defaultPrevented&&G.l.g.call(this)}};n(G,E);var F={2:\"touch\",3:\"pen\",4:\"mouse\"};G.prototype.g=function(){G.l.g.call(this);var a=this.h;a.preventDefault?a.preventDefault():a.returnValue=!1};var H=\"closure_listenable_\"+(1E6*Math.random()|0);var I=0;var J=function(a,b,c,d,e){this.listener=a;this.g=null;this.src=b;this.type=c;this.capture=!!d;this.i=e;this.key=++I;this.h=this.j=!1},K=function(a){a.h=!0;a.listener=null;a.g=null;a.src=null;a.i=null};var L=function(a){this.src=a;this.g={};this.h=0};L.prototype.add=function(a,b,c,d,e){var g=a.toString();a=this.g[g];a||(a=this.g[g]=[],this.h++);var f;a:{for(f=0;f<a.length;++f){var h=a[f];if(!h.h&&h.listener==b&&h.capture==!!d&&h.i==e)break a}f=-1}-1<f?(b=a[f],c||(b.j=!1)):(b=new J(b,this.src,g,!!d,e),b.j=c,a.push(b));return b};var M=\"closure_lm_\"+(1E6*Math.random()|0),N={},O=0,Q=function(a,b,c,d,e){if(d&&d.once)return P(a,b,c,d,e);if(Array.isArray(b)){for(var g=0;g<b.length;g++)Q(a,b[g],c,d,e);return null}c=R(c);return a&&a[H]?a.g(b,c,m(d)?!!d.capture:!!d,e):S(a,b,c,!1,d,e)},S=function(a,b,c,d,e,g){if(!b)throw Error(\"a\");var f=m(e)?!!e.capture:!!e,h=T(a);h||(a[M]=h=new L(a));c=h.add(b,c,d,f,g);if(c.g)return c;d=U();c.g=d;d.src=a;d.listener=c;if(a.addEventListener)D||(e=f),void 0===e&&(e=!1),a.addEventListener(b.toString(),d,e);else if(a.attachEvent)a.attachEvent(V(b.toString()),d);else if(a.addListener&&a.removeListener)a.addListener(d);else throw Error(\"b\");O++;return c},U=function(){var a=aa,b=function(c){return a.call(b.src,b.listener,c)};return b},P=function(a,b,c,d,e){if(Array.isArray(b)){for(var g=0;g<b.length;g++)P(a,b[g],c,d,e);return null}c=R(c);return a&&a[H]?a.h(b,c,m(d)?!!d.capture:!!d,e):S(a,b,c,!0,d,e)},W=function(a){if(\"number\"!==typeof a&&a&&!a.h){var b=a.src;if(b&&b[H])b.i(a);else{var c=a.type,d=a.g;b.removeEventListener?b.removeEventListener(c,d,a.capture):b.detachEvent?b.detachEvent(V(c),d):b.addListener&&b.removeListener&&b.removeListener(d);O--;if(c=T(b)){d=a.type;if(d in c.g){var e=c.g[d],g=p(e,a),f;(f=0<=g)&&Array.prototype.splice.call(e,g,1);f&&(K(a),0==c.g[d].length&&(delete c.g[d],c.h--))}0==c.h&&(c.src=null,b[M]=null)}else K(a)}}},V=function(a){return a in N?N[a]:N[a]=\"on\"+a},aa=function(a,b){if(a.h)a=!0;else{b=new G(b,this);var c=a.listener,d=a.i||a.src;a.j&&W(a);a=c.call(d,b)}return a},T=function(a){a=a[M];return a instanceof L?a:null},X=\"__closure_events_fn_\"+(1E9*Math.random()>>>0),R=function(a){if(\"function\"===typeof a)return a;a[X]||(a[X]=function(b){return a.handleEvent(b)});return a[X]};var w,v=document.documentElement,Y;function ba(){W(Y);Y=P(v,\"mousedown\",function(){x();Z()},{capture:!0})}function Z(){W(Y);Y=Q(v,\"keydown\",function(a){if(9==a.keyCode){a=v;var b=w;if(a.classList)a.classList.add(b);else if(!u(a,b)){var c=r(a);t(a,c+(0<c.length?\" \"+b:b))}ba()}})};w=\"zAoYTe\";Z();}).call(this);(function(){var c=500;(function(){\n",
            "window.screen&&window.screen.width<=c&&window.screen.height<=c&&document.getElementById(\"hdr\").classList.add(\"sml\");}).call(this);})();\n",
            "   </script>\n",
            "   <div class=\"cOl4Id\">\n",
            "    <a href=\"/?sa=X&amp;ved=0ahUKEwjFlIjix9PwAhU6CjQIHalsBEoQOwgC\">\n",
            "     <span class=\"V6gwVd\">\n",
            "      G\n",
            "     </span>\n",
            "     <span class=\"iWkuvd\">\n",
            "      o\n",
            "     </span>\n",
            "     <span class=\"cDrQ7\">\n",
            "      o\n",
            "     </span>\n",
            "     <span class=\"V6gwVd\">\n",
            "      g\n",
            "     </span>\n",
            "     <span class=\"ntlR9\">\n",
            "      l\n",
            "     </span>\n",
            "     <span class=\"iWkuvd tJ3Myc\">\n",
            "      e\n",
            "     </span>\n",
            "    </a>\n",
            "   </div>\n",
            "   <div class=\"bz1lBb\">\n",
            "    <form class=\"Pg70bf\" id=\"sf\">\n",
            "     <a class=\"l\" href=\"/?num=20&amp;output=search&amp;ie=UTF-8&amp;sa=X&amp;ved=0ahUKEwjFlIjix9PwAhU6CjQIHalsBEoQPAgE\">\n",
            "      <span class=\"V6gwVd\">\n",
            "       G\n",
            "      </span>\n",
            "      <span class=\"iWkuvd\">\n",
            "       o\n",
            "      </span>\n",
            "      <span class=\"cDrQ7\">\n",
            "       o\n",
            "      </span>\n",
            "      <span class=\"V6gwVd\">\n",
            "       g\n",
            "      </span>\n",
            "      <span class=\"ntlR9\">\n",
            "       l\n",
            "      </span>\n",
            "      <span class=\"iWkuvd tJ3Myc\">\n",
            "       e\n",
            "      </span>\n",
            "     </a>\n",
            "     <input name=\"num\" type=\"hidden\" value=\"20\"/>\n",
            "     <input name=\"ie\" type=\"hidden\" value=\"ISO-8859-1\"/>\n",
            "     <div class=\"H0PQec\">\n",
            "      <div class=\"sbc esbc\">\n",
            "       <input autocapitalize=\"none\" autocomplete=\"off\" class=\"noHIxc\" name=\"q\" spellcheck=\"false\" type=\"text\" value=\"Apple after:2020-07-30 before:2020-07-31\"/>\n",
            "       <input name=\"oq\" type=\"hidden\"/>\n",
            "       <input name=\"aqs\" type=\"hidden\"/>\n",
            "       <div class=\"x\">\n",
            "        ×\n",
            "       </div>\n",
            "       <div class=\"sc\">\n",
            "       </div>\n",
            "      </div>\n",
            "     </div>\n",
            "     <button id=\"qdClwb\" type=\"submit\">\n",
            "     </button>\n",
            "    </form>\n",
            "   </div>\n",
            "   <noscript>\n",
            "    <meta content=\"0;url=/search?q=Apple+after:2020-07-30+before:2020-07-31&amp;num=20&amp;ie=UTF-8&amp;gbv=1&amp;sei=Lt-jYMXFObqU0PEPqdmR0AQ\" http-equiv=\"refresh\"/>\n",
            "    <style>\n",
            "     table,div,span,p{display:none}\n",
            "    </style>\n",
            "    <div style=\"display:block\">\n",
            "     Please click\n",
            "     <a href=\"/search?q=Apple+after:2020-07-30+before:2020-07-31&amp;num=20&amp;ie=UTF-8&amp;gbv=1&amp;sei=Lt-jYMXFObqU0PEPqdmR0AQ\">\n",
            "      here\n",
            "     </a>\n",
            "     if you are not redirected within a few seconds.\n",
            "    </div>\n",
            "   </noscript>\n",
            "  </header>\n",
            "  <div id=\"main\">\n",
            "   <div>\n",
            "    <div class=\"KP7LCb\">\n",
            "     <div class=\"bRsWnc\">\n",
            "      <div class=\"N6RWV\">\n",
            "       <div class=\"Pg70bf Uv67qb\">\n",
            "        <span class=\"OXXup\">\n",
            "         All\n",
            "        </span>\n",
            "        <a class=\"eZt8xd\" href=\"/search?q=Apple+after:2020-07-30+before:2020-07-31&amp;num=20&amp;ie=UTF-8&amp;source=lnms&amp;tbm=nws&amp;sa=X&amp;ved=0ahUKEwjFlIjix9PwAhU6CjQIHalsBEoQ_AUICCgB\">\n",
            "         News\n",
            "        </a>\n",
            "        <a class=\"eZt8xd\" href=\"/search?q=Apple+after:2020-07-30+before:2020-07-31&amp;num=20&amp;ie=UTF-8&amp;source=lnms&amp;tbm=shop&amp;sa=X&amp;ved=0ahUKEwjFlIjix9PwAhU6CjQIHalsBEoQ_AUICSgC\">\n",
            "         Shopping\n",
            "        </a>\n",
            "        <a class=\"eZt8xd\" href=\"/search?q=Apple+after:2020-07-30+before:2020-07-31&amp;num=20&amp;ie=UTF-8&amp;source=lnms&amp;tbm=isch&amp;sa=X&amp;ved=0ahUKEwjFlIjix9PwAhU6CjQIHalsBEoQ_AUICigD\">\n",
            "         Images\n",
            "        </a>\n",
            "        <a href=\"https://maps.google.com/maps?q=Apple+after:2020-07-30+before:2020-07-31&amp;num=20&amp;um=1&amp;ie=UTF-8&amp;sa=X&amp;ved=0ahUKEwjFlIjix9PwAhU6CjQIHalsBEoQ_AUICygE\">\n",
            "         Maps\n",
            "        </a>\n",
            "        <a href=\"/search?q=Apple+after:2020-07-30+before:2020-07-31&amp;num=20&amp;ie=UTF-8&amp;source=lnms&amp;tbm=vid&amp;sa=X&amp;ved=0ahUKEwjFlIjix9PwAhU6CjQIHalsBEoQ_AUIDCgF\">\n",
            "         Videos\n",
            "        </a>\n",
            "        <a href=\"/search?q=Apple+after:2020-07-30+before:2020-07-31&amp;num=20&amp;ie=UTF-8&amp;source=lnms&amp;tbm=bks&amp;sa=X&amp;ved=0ahUKEwjFlIjix9PwAhU6CjQIHalsBEoQ_AUIDSgG\">\n",
            "         Books\n",
            "        </a>\n",
            "        <div class=\"FElbsf\">\n",
            "         <a href=\"/advanced_search\" id=\"st-toggle\" role=\"button\" style=\"white-space:nowrap\">\n",
            "          Search tools\n",
            "         </a>\n",
            "        </div>\n",
            "       </div>\n",
            "      </div>\n",
            "     </div>\n",
            "    </div>\n",
            "    <div class=\"Pg70bf wEsjbd ZINbbc xpd O9g5cc uUPGi\" id=\"st-card\" style=\"display:none\">\n",
            "     <style>\n",
            "      .wEsjbd{background-color:#fff;height:44px;white-space:nowrap}.coPU8c{height:60px;overflow-scrolling:touch;overflow-x:auto;overflow-y:hidden}.Xj2aue{height:44px;overflow:hidden}.RnNGze{margin:11px 16px}.wEsjbd div,.wEsjbd a,.wEsjbd li{outline-width:0;outline:none}\n",
            "     </style>\n",
            "     <div class=\"Xj2aue\">\n",
            "      <div class=\"coPU8c\">\n",
            "       <div class=\"RnNGze\">\n",
            "        <style>\n",
            "         .PA9J5{display:inline-block}.RXaOfd{display:inline-block;height:22px;position:relative;padding-top:0;padding-bottom:0;padding-right:16px;padding-left:0;line-height:22px;cursor:pointer;text-transform:uppercase;font-size:12px;color:#70757a}.sa1toc{display:none;position:absolute;background:#fff;border:1px solid #d6d6d6;box-shadow:0 2px 4px rgba(0,0,0,0.3);margin:0;white-space:nowrap;z-index:103;line-height:17px;padding-top:5px;padding-bottom:5px;padding-left:0}.PA9J5:hover .sa1toc{display:block}.mGSy8d a:active,.RXaOfd:active{color:#4285f4}\n",
            "        </style>\n",
            "        <div class=\"PA9J5\">\n",
            "         <div class=\"RXaOfd\" role=\"button\" tabindex=\"0\">\n",
            "          <style>\n",
            "           .TWMOUc{display:inline-block;padding-right:14px;white-space:nowrap}.vQYuGf{font-weight:bold}.OmTIzf{border-color:#909090 transparent;border-style:solid;border-width:4px 4px 0 4px;width:0;height:0;margin-left:-10px;top:50%;margin-top:-2px;position:absolute}.RXaOfd:active .OmTIzf{border-color:#4285f4 transparent}\n",
            "          </style>\n",
            "          <div class=\"TWMOUc\">\n",
            "           Any time\n",
            "          </div>\n",
            "          <span class=\"OmTIzf\">\n",
            "          </span>\n",
            "         </div>\n",
            "         <ul class=\"sa1toc ozatM\">\n",
            "          <style>\n",
            "           .ozatM{font-size:12px;text-transform:uppercase}.ozatM .yNFsl,.ozatM li{list-style-type:none;list-style-position:outside;list-style-image:none}.yNFsl.SkUj4c,.yNFsl a{color:rgba(0,0,0,0.54);text-decoration:none;padding:6px 44px 6px 14px;line-height:17px;display:block}.SkUj4c{background-image:url(//ssl.gstatic.com/ui/v1/menu/checkmark2.png);background-position:right center;background-repeat:no-repeat}.SkUj4c:active{background-color:#f8f9fa}\n",
            "          </style>\n",
            "          <li class=\"yNFsl SkUj4c\">\n",
            "           Any time\n",
            "          </li>\n",
            "          <li class=\"yNFsl\">\n",
            "           <a href=\"/search?q=Apple+after:2020-07-30+before:2020-07-31&amp;num=20&amp;ie=UTF-8&amp;source=lnt&amp;tbs=qdr:h&amp;sa=X&amp;ved=0ahUKEwjFlIjix9PwAhU6CjQIHalsBEoQpwUIDw\">\n",
            "            Past hour\n",
            "           </a>\n",
            "          </li>\n",
            "          <li class=\"yNFsl\">\n",
            "           <a href=\"/search?q=Apple+after:2020-07-30+before:2020-07-31&amp;num=20&amp;ie=UTF-8&amp;source=lnt&amp;tbs=qdr:d&amp;sa=X&amp;ved=0ahUKEwjFlIjix9PwAhU6CjQIHalsBEoQpwUIEA\">\n",
            "            Past 24 hours\n",
            "           </a>\n",
            "          </li>\n",
            "          <li class=\"yNFsl\">\n",
            "           <a href=\"/search?q=Apple+after:2020-07-30+before:2020-07-31&amp;num=20&amp;ie=UTF-8&amp;source=lnt&amp;tbs=qdr:w&amp;sa=X&amp;ved=0ahUKEwjFlIjix9PwAhU6CjQIHalsBEoQpwUIEQ\">\n",
            "            Past week\n",
            "           </a>\n",
            "          </li>\n",
            "          <li class=\"yNFsl\">\n",
            "           <a href=\"/search?q=Apple+after:2020-07-30+before:2020-07-31&amp;num=20&amp;ie=UTF-8&amp;source=lnt&amp;tbs=qdr:m&amp;sa=X&amp;ved=0ahUKEwjFlIjix9PwAhU6CjQIHalsBEoQpwUIEg\">\n",
            "            Past month\n",
            "           </a>\n",
            "          </li>\n",
            "          <li class=\"yNFsl\">\n",
            "           <a href=\"/search?q=Apple+after:2020-07-30+before:2020-07-31&amp;num=20&amp;ie=UTF-8&amp;source=lnt&amp;tbs=qdr:y&amp;sa=X&amp;ved=0ahUKEwjFlIjix9PwAhU6CjQIHalsBEoQpwUIEw\">\n",
            "            Past year\n",
            "           </a>\n",
            "          </li>\n",
            "         </ul>\n",
            "        </div>\n",
            "        <div class=\"PA9J5\">\n",
            "         <div class=\"RXaOfd\" role=\"button\" tabindex=\"0\">\n",
            "          <div class=\"TWMOUc\">\n",
            "           All results\n",
            "          </div>\n",
            "          <span class=\"OmTIzf\">\n",
            "          </span>\n",
            "         </div>\n",
            "         <ul class=\"sa1toc ozatM\">\n",
            "          <li class=\"yNFsl SkUj4c\">\n",
            "           All results\n",
            "          </li>\n",
            "          <li class=\"yNFsl\">\n",
            "           <a href=\"/search?q=Apple+after:2020-07-30+before:2020-07-31&amp;num=20&amp;ie=UTF-8&amp;source=lnt&amp;tbs=li:1&amp;sa=X&amp;ved=0ahUKEwjFlIjix9PwAhU6CjQIHalsBEoQpwUIFQ\">\n",
            "            Verbatim\n",
            "           </a>\n",
            "          </li>\n",
            "         </ul>\n",
            "        </div>\n",
            "       </div>\n",
            "      </div>\n",
            "     </div>\n",
            "     <script nonce=\"rk3rXObKAZB6k3Rn3CuWhA==\">\n",
            "      (function(){\n",
            "var a=document.getElementById(\"st-toggle\"),b=document.getElementById(\"st-card\");a&&b&&a.addEventListener(\"click\",function(c){b.style.display=b.style.display?\"\":\"none\";c.preventDefault()},!1);}).call(this);\n",
            "     </script>\n",
            "    </div>\n",
            "   </div>\n",
            "   <style>\n",
            "    .ZINbbc{background-color:#fff;margin-bottom:10px;box-shadow:0 1px 6px rgba(32, 33, 36, 0.28);border-radius:8px}.uUPGi{font-size:14px;line-height:20px;}.O9g5cc>*:first-child{border-top-left-radius:8px;border-top-right-radius:8px}.O9g5cc>*:last-child{border-bottom-left-radius:8px;border-bottom-right-radius:8px}.O9g5cc>.qxDOhb>*:first-child{border-top-left-radius:8px;border-top-right-radius:8px}.O9g5cc>.qxDOhb>*:last-child{border-bottom-left-radius:8px;border-bottom-right-radius:8px}.rl7ilb{display:block;clear:both}.kCrYT{padding:12px 16px 12px}a.fdYsqf{color:#4B11A8}.zBAuLc{font-weight:normal;line-height:normal;margin:0;padding:0}.BNeawe{white-space:pre-line;word-wrap:break-word}.vvjwJb{color:#1967D2;font-size:16px;line-height:20px}a:visited .vvjwJb,.vvjwJb a:visited{color:#4B11A8}.vvjwJb.HrGdeb{color:#fff}a:visited .vvjwJb.HrGdeb,.vvjwJb.HrGdeb a:visited{color:rgba(255,255,255,.70)}.UPmit{font-size:14px;line-height:20px}.UPmit.HrGdeb{color:rgba(255,255,255,.70)}.UPmit.AP7Wnd{color:#0d652d}.x54gtf{height:1px;background-color:#dfe1e5;margin:0 16px}.Q0HXG{height:1px;background-color:#dfe1e5}.Ap5OSd{padding-bottom:12px}.s3v9rd{font-size:14px;line-height:20px}.s3v9rd.HrGdeb{color:#fff}.s3v9rd.AP7Wnd{color:#202124}.mSx1Ee{padding-left:48px;margin:0}.v9i61e{padding-bottom:8px}.r0bn4c.tr0dw{color:rgba(255,255,255,.70)}.r0bn4c.rQMQod{color:#70757a}.wITvVb{margin:0;padding:12px 16px 12px}.deIvCb{font-size:16px;line-height:20px;font-weight:400}.deIvCb.HrGdeb{color:#fff}.deIvCb.AP7Wnd{color:#202124}.FCUp0c{font-weight:bold}.LKSyXe{height:1px;background-color:#dfe1e5;margin:0 16px}.xpc .hwc,.xpx .hwx{display:none}.iIWm4b{box-sizing:border-box;min-height:48px}.fLtXsc{padding:14px;position:relative}.NtmAdb{width:40px;height:40px;overflow:hidden;margin-top:-10px;margin-bottom:-16px;margin-right:8px;border-radius:4px}.xpc .NtmAdb{display:inline-block}.xpx .NtmAdb{display:none}.Lt3Tzc{display:inline-block;padding-right:26px}.Lym8W{width:14px;height:20px;position:relative;margin:0 auto}.xCgLUe{position:absolute;right:16px;margin-top:-10px;top:50%}.Lym8W div{position:absolute;border-left:7px solid transparent;border-right:7px solid transparent;width:0;height:0;left:0}.IyYaEd{top:7px;border-top:7px solid #70757a}.ECUHQe{top:4px;border-top:7px solid #fff}.AeQQub{bottom:7px;border-bottom:7px solid #70757a}.YCU7eb{bottom:4px;border-bottom:7px solid #fff}.qxDOhb{border-radius:0}.M56Nqc{padding:0 16px 12px}.Z8j5ae>div>div{border-radius:8px;box-shadow:none;border:1px solid #dadce0;margin-bottom:0}.oTWEpb{padding-top:12px}.n1Qedd{overflow:hidden;text-align:center}.KMAGC{margin:0 auto;display:block}.ho0sdc{margin:0 -50%;display:inline-block}.PDHNXc{display:table;width:100%;padding-top:16px;padding-bottom:16px;margin-bottom:-12px}.iU269d{display:table-cell;vertical-align:top}.TeHtNe{vertical-align:middle}.kXUfPb{color:#3c4043;font-size:14px;text-align:center}.Vp9uZ{display:block;white-space:pre-line;word-wrap:break-word}.kXUfPb.Vp9uZ{line-height:20px}.RtoYlb{padding:18px}.rLshyf,.BmP5tf{padding-top:12px;padding-bottom:12px}.YOx3Ab{padding-left:16px;}.w1C3Le,.BmP5tf,.G5NbBd,.CS4w5b{padding-left:16px;padding-right:16px;}.G5NbBd{padding-bottom:12px}.CS4w5b{padding-top:12px}.nMymef{display:flex}.G5eFlf{flex:1;display:block}.nMymef span{text-align:center}\n",
            "   </style>\n",
            "   <div>\n",
            "    <!--SW_C_X-->\n",
            "   </div>\n",
            "   <div>\n",
            "    <div class=\"ZINbbc xpd O9g5cc uUPGi\">\n",
            "     <div class=\"kCrYT\">\n",
            "      <a href=\"/url?q=https://www.apple.com/newsroom/2020/07/apple-reports-third-quarter-results/&amp;sa=U&amp;ved=2ahUKEwjFlIjix9PwAhU6CjQIHalsBEoQFjAAegQIDRAB&amp;usg=AOvVaw2Vp1c2ZO3-SEn6ufEQNTym\">\n",
            "       <h3 class=\"zBAuLc\">\n",
            "        <div class=\"BNeawe vvjwJb AP7Wnd\">\n",
            "         Apple Reports Third Quarter Results - Apple\n",
            "        </div>\n",
            "       </h3>\n",
            "       <div class=\"BNeawe UPmit AP7Wnd\">\n",
            "        www.apple.com › newsroom › 2020/07 › apple-reports-third-quarter-results\n",
            "       </div>\n",
            "      </a>\n",
            "     </div>\n",
            "     <div class=\"x54gtf\">\n",
            "     </div>\n",
            "     <div class=\"kCrYT\">\n",
            "      <div>\n",
            "       <div class=\"BNeawe s3v9rd AP7Wnd\">\n",
            "        <div>\n",
            "         <div>\n",
            "          <div class=\"BNeawe s3v9rd AP7Wnd\">\n",
            "           <span class=\"r0bn4c rQMQod\">\n",
            "            Jul 30, 2020\n",
            "           </span>\n",
            "           <span class=\"r0bn4c rQMQod\">\n",
            "            ·\n",
            "           </span>\n",
            "           Apple reported its third quarter financial results for the fiscal year after the market close on Thursday, July 30, 2020.\n",
            "          </div>\n",
            "         </div>\n",
            "        </div>\n",
            "       </div>\n",
            "      </div>\n",
            "     </div>\n",
            "    </div>\n",
            "   </div>\n",
            "   <div class=\"ZINbbc xpd O9g5cc uUPGi\">\n",
            "    <div>\n",
            "     <h2 class=\"wITvVb\">\n",
            "      <span>\n",
            "       <div class=\"BNeawe deIvCb AP7Wnd\">\n",
            "        <span class=\"FCUp0c rQMQod\">\n",
            "         People also ask\n",
            "        </span>\n",
            "       </div>\n",
            "      </span>\n",
            "     </h2>\n",
            "     <div class=\"LKSyXe\">\n",
            "     </div>\n",
            "     <div class=\"xpc\">\n",
            "      <div class=\"duf-h\">\n",
            "       <div aria-expanded=\"false\" class=\"fLtXsc iIWm4b\" data-ved=\"2ahUKEwjFlIjix9PwAhU6CjQIHalsBEoQuk56BAgYEAI\" id=\"tsuid1\" role=\"button\" tabindex=\"0\">\n",
            "        <div class=\"Lt3Tzc\">\n",
            "         How much money did Apple make in all of 2020?\n",
            "        </div>\n",
            "        <div class=\"Lym8W xCgLUe\">\n",
            "         <div class=\"AeQQub hwc\">\n",
            "         </div>\n",
            "         <div class=\"YCU7eb hwc\">\n",
            "         </div>\n",
            "         <div class=\"IyYaEd hwx\">\n",
            "         </div>\n",
            "         <div class=\"ECUHQe hwx\">\n",
            "         </div>\n",
            "        </div>\n",
            "       </div>\n",
            "      </div>\n",
            "      <div class=\"qxDOhb\" id=\"accdef_2\">\n",
            "      </div>\n",
            "     </div>\n",
            "     <div class=\"LKSyXe\">\n",
            "     </div>\n",
            "     <div class=\"xpc\">\n",
            "      <div class=\"duf-h\">\n",
            "       <div aria-expanded=\"false\" class=\"fLtXsc iIWm4b\" data-ved=\"2ahUKEwjFlIjix9PwAhU6CjQIHalsBEoQuk56BAgYEAU\" id=\"tsuid4\" role=\"button\" tabindex=\"0\">\n",
            "        <div class=\"Lt3Tzc\">\n",
            "         How much money does Apple make a day 2020?\n",
            "        </div>\n",
            "        <div class=\"Lym8W xCgLUe\">\n",
            "         <div class=\"AeQQub hwc\">\n",
            "         </div>\n",
            "         <div class=\"YCU7eb hwc\">\n",
            "         </div>\n",
            "         <div class=\"IyYaEd hwx\">\n",
            "         </div>\n",
            "         <div class=\"ECUHQe hwx\">\n",
            "         </div>\n",
            "        </div>\n",
            "       </div>\n",
            "      </div>\n",
            "      <div class=\"qxDOhb\" id=\"accdef_5\">\n",
            "      </div>\n",
            "     </div>\n",
            "     <div class=\"LKSyXe\">\n",
            "     </div>\n",
            "     <div class=\"xpc\">\n",
            "      <div class=\"duf-h\">\n",
            "       <div aria-expanded=\"false\" class=\"fLtXsc iIWm4b\" data-ved=\"2ahUKEwjFlIjix9PwAhU6CjQIHalsBEoQuk56BAgYEAg\" id=\"tsuid7\" role=\"button\" tabindex=\"0\">\n",
            "        <div class=\"Lt3Tzc\">\n",
            "         Is Apple doing well financially?\n",
            "        </div>\n",
            "        <div class=\"Lym8W xCgLUe\">\n",
            "         <div class=\"AeQQub hwc\">\n",
            "         </div>\n",
            "         <div class=\"YCU7eb hwc\">\n",
            "         </div>\n",
            "         <div class=\"IyYaEd hwx\">\n",
            "         </div>\n",
            "         <div class=\"ECUHQe hwx\">\n",
            "         </div>\n",
            "        </div>\n",
            "       </div>\n",
            "      </div>\n",
            "      <div class=\"qxDOhb\" id=\"accdef_8\">\n",
            "      </div>\n",
            "     </div>\n",
            "     <div class=\"LKSyXe\">\n",
            "     </div>\n",
            "     <div class=\"xpc\">\n",
            "      <div class=\"duf-h\">\n",
            "       <div aria-expanded=\"false\" class=\"fLtXsc iIWm4b\" data-ved=\"2ahUKEwjFlIjix9PwAhU6CjQIHalsBEoQuk56BAgYEAs\" id=\"tsuid10\" role=\"button\" tabindex=\"0\">\n",
            "        <div class=\"Lt3Tzc\">\n",
            "         Is Apple a good investment in 2020?\n",
            "        </div>\n",
            "        <div class=\"Lym8W xCgLUe\">\n",
            "         <div class=\"AeQQub hwc\">\n",
            "         </div>\n",
            "         <div class=\"YCU7eb hwc\">\n",
            "         </div>\n",
            "         <div class=\"IyYaEd hwx\">\n",
            "         </div>\n",
            "         <div class=\"ECUHQe hwx\">\n",
            "         </div>\n",
            "        </div>\n",
            "       </div>\n",
            "      </div>\n",
            "      <div class=\"qxDOhb\" id=\"accdef_11\">\n",
            "      </div>\n",
            "     </div>\n",
            "    </div>\n",
            "   </div>\n",
            "   <div>\n",
            "    <div class=\"ZINbbc xpd O9g5cc uUPGi\">\n",
            "     <div class=\"kCrYT\">\n",
            "      <a href=\"/url?q=https://www.apple.com/shop/gift-cards&amp;sa=U&amp;ved=2ahUKEwjFlIjix9PwAhU6CjQIHalsBEoQFjAJegQIERAB&amp;usg=AOvVaw2rH5AsdwxI_rwDaOCLrP7i\">\n",
            "       <h3 class=\"zBAuLc\">\n",
            "        <div class=\"BNeawe vvjwJb AP7Wnd\">\n",
            "         Apple Gift Card - Apple\n",
            "        </div>\n",
            "       </h3>\n",
            "       <div class=\"BNeawe UPmit AP7Wnd\">\n",
            "        www.apple.com › shop › gift-cards\n",
            "       </div>\n",
            "      </a>\n",
            "     </div>\n",
            "     <div class=\"x54gtf\">\n",
            "     </div>\n",
            "     <div class=\"kCrYT\">\n",
            "      <div>\n",
            "       <div class=\"BNeawe s3v9rd AP7Wnd\">\n",
            "        <div>\n",
            "         <div>\n",
            "          <div class=\"BNeawe s3v9rd AP7Wnd\">\n",
            "           <span class=\"r0bn4c rQMQod\">\n",
            "            Jul 31, 2020\n",
            "           </span>\n",
            "           <span class=\"r0bn4c rQMQod\">\n",
            "            ·\n",
            "           </span>\n",
            "           The all-new Apple Gift Card for everything Apple: products, accessories, services and more. Replaces the Apple Store and App Store &amp; iTunes ...\n",
            "          </div>\n",
            "         </div>\n",
            "        </div>\n",
            "       </div>\n",
            "      </div>\n",
            "     </div>\n",
            "    </div>\n",
            "   </div>\n",
            "   <div>\n",
            "    <div class=\"ZINbbc xpd O9g5cc uUPGi\">\n",
            "     <div class=\"kCrYT\">\n",
            "      <a href=\"/url?q=https://www.cnbc.com/2020/07/30/apple-aapl-earnings-q3-2020.html&amp;sa=U&amp;ved=2ahUKEwjFlIjix9PwAhU6CjQIHalsBEoQFjAKegQIDhAB&amp;usg=AOvVaw3IEHvfhgKwIEbdkg4jGYxE\">\n",
            "       <h3 class=\"zBAuLc\">\n",
            "        <div class=\"BNeawe vvjwJb AP7Wnd\">\n",
            "         Apple (AAPL) earnings Q3 2020 - CNBC\n",
            "        </div>\n",
            "       </h3>\n",
            "       <div class=\"BNeawe UPmit AP7Wnd\">\n",
            "        www.cnbc.com › 2020/07/30 › apple-aapl-earnings-q3-2020\n",
            "       </div>\n",
            "      </a>\n",
            "     </div>\n",
            "     <div class=\"x54gtf\">\n",
            "     </div>\n",
            "     <div class=\"kCrYT\">\n",
            "      <div>\n",
            "       <div class=\"BNeawe s3v9rd AP7Wnd\">\n",
            "        <div>\n",
            "         <div>\n",
            "          <div class=\"BNeawe s3v9rd AP7Wnd\">\n",
            "           <span class=\"r0bn4c rQMQod\">\n",
            "            Jul 30, 2020\n",
            "           </span>\n",
            "           <span class=\"r0bn4c rQMQod\">\n",
            "            ·\n",
            "           </span>\n",
            "           Apple's business is highly seasonal, and its revenue was the highest the company has ever reported in its third quarter, up 11% year over year.\n",
            "          </div>\n",
            "         </div>\n",
            "        </div>\n",
            "       </div>\n",
            "      </div>\n",
            "     </div>\n",
            "    </div>\n",
            "   </div>\n",
            "   <div>\n",
            "    <div class=\"ZINbbc xpd O9g5cc uUPGi\">\n",
            "     <div class=\"kCrYT\">\n",
            "      <a href=\"/url?q=https://www.ft.com/content/20d1ef26-2bf4-4900-85b2-08ef7c6d1ae1&amp;sa=U&amp;ved=2ahUKEwjFlIjix9PwAhU6CjQIHalsBEoQFjALegQIBhAB&amp;usg=AOvVaw1YhHiK5fbCYFa5LPI4Xmzw\">\n",
            "       <h3 class=\"zBAuLc\">\n",
            "        <div class=\"BNeawe vvjwJb AP7Wnd\">\n",
            "         Apple's revenues defy expectations and store closures | Financial ...\n",
            "        </div>\n",
            "       </h3>\n",
            "       <div class=\"BNeawe UPmit AP7Wnd\">\n",
            "        www.ft.com › content\n",
            "       </div>\n",
            "      </a>\n",
            "     </div>\n",
            "     <div class=\"x54gtf\">\n",
            "     </div>\n",
            "     <div class=\"kCrYT\">\n",
            "      <div>\n",
            "       <div class=\"BNeawe s3v9rd AP7Wnd\">\n",
            "        <div>\n",
            "         <div>\n",
            "          <div class=\"BNeawe s3v9rd AP7Wnd\">\n",
            "           <span class=\"r0bn4c rQMQod\">\n",
            "            Jul 30, 2020\n",
            "           </span>\n",
            "           <span class=\"r0bn4c rQMQod\">\n",
            "            ·\n",
            "           </span>\n",
            "           Apple's revenues rose 11 per cent to a new record for the June quarter, trumping forecasts that its business would decline because of the ...\n",
            "          </div>\n",
            "         </div>\n",
            "        </div>\n",
            "       </div>\n",
            "      </div>\n",
            "     </div>\n",
            "    </div>\n",
            "   </div>\n",
            "   <div>\n",
            "    <div class=\"ZINbbc xpd O9g5cc uUPGi\">\n",
            "     <div class=\"kCrYT\">\n",
            "      <a href=\"/url?q=https://www.theverge.com/2020/7/30/21348108/apple-amazon-prime-video-app-store-special-treatment-fee-subscriptions&amp;sa=U&amp;ved=2ahUKEwjFlIjix9PwAhU6CjQIHalsBEoQFjAMegQIEBAB&amp;usg=AOvVaw03fSpe_VnTh4BKToCCFGv5\">\n",
            "       <h3 class=\"zBAuLc\">\n",
            "        <div class=\"BNeawe vvjwJb AP7Wnd\">\n",
            "         Documents show Apple gave Amazon special treatment to get Prime ...\n",
            "        </div>\n",
            "       </h3>\n",
            "       <div class=\"BNeawe UPmit AP7Wnd\">\n",
            "        www.theverge.com › apple-amazon-prime-video-app-store-special-treatme...\n",
            "       </div>\n",
            "      </a>\n",
            "     </div>\n",
            "     <div class=\"x54gtf\">\n",
            "     </div>\n",
            "     <div class=\"kCrYT\">\n",
            "      <div>\n",
            "       <div class=\"BNeawe s3v9rd AP7Wnd\">\n",
            "        <div>\n",
            "         <div>\n",
            "          <div class=\"BNeawe s3v9rd AP7Wnd\">\n",
            "           <span class=\"r0bn4c rQMQod\">\n",
            "            Jul 30, 2020\n",
            "           </span>\n",
            "           <span class=\"r0bn4c rQMQod\">\n",
            "            ·\n",
            "           </span>\n",
            "           Apple CEO Tim Cook testified on Wednesday that \"we apply the rules to all developers evenly\" when it comes to the App Store. But documents ...\n",
            "          </div>\n",
            "         </div>\n",
            "        </div>\n",
            "       </div>\n",
            "      </div>\n",
            "     </div>\n",
            "    </div>\n",
            "   </div>\n",
            "   <div>\n",
            "    <div class=\"ZINbbc xpd O9g5cc uUPGi\">\n",
            "     <div class=\"kCrYT\">\n",
            "      <a href=\"/url?q=https://www.theverge.com/2020/7/30/21348448/apple-q3-2020-earnings-sales-revenue-mac-ipad&amp;sa=U&amp;ved=2ahUKEwjFlIjix9PwAhU6CjQIHalsBEoQFjANegQIChAB&amp;usg=AOvVaw0R4yGtXnHXwKfMWADAmn1l\">\n",
            "       <h3 class=\"zBAuLc\">\n",
            "        <div class=\"BNeawe vvjwJb AP7Wnd\">\n",
            "         Apple reports strong Mac and iPad sales in record-breaking Q3 ...\n",
            "        </div>\n",
            "       </h3>\n",
            "       <div class=\"BNeawe UPmit AP7Wnd\">\n",
            "        www.theverge.com › apple-q3-2020-earnings-sales-revenue-mac-ipad\n",
            "       </div>\n",
            "      </a>\n",
            "     </div>\n",
            "     <div class=\"x54gtf\">\n",
            "     </div>\n",
            "     <div class=\"kCrYT\">\n",
            "      <div>\n",
            "       <div class=\"BNeawe s3v9rd AP7Wnd\">\n",
            "        <div>\n",
            "         <div>\n",
            "          <div class=\"BNeawe s3v9rd AP7Wnd\">\n",
            "           <span class=\"r0bn4c rQMQod\">\n",
            "            Jul 30, 2020\n",
            "           </span>\n",
            "           <span class=\"r0bn4c rQMQod\">\n",
            "            ·\n",
            "           </span>\n",
            "           Apple reported strong third quarter earnings of $59.7 billion in revenue — up 11 percent from last year's third quarter — and earnings per share ...\n",
            "          </div>\n",
            "         </div>\n",
            "        </div>\n",
            "       </div>\n",
            "      </div>\n",
            "     </div>\n",
            "    </div>\n",
            "   </div>\n",
            "   <div>\n",
            "    <div class=\"ZINbbc xpd O9g5cc uUPGi\">\n",
            "     <div class=\"kCrYT\">\n",
            "      <a href=\"/url?q=https://www.marketwatch.com/story/apple-beats-on-earnings-and-announces-stock-split-sending-shares-toward-record-high-2020-07-30&amp;sa=U&amp;ved=2ahUKEwjFlIjix9PwAhU6CjQIHalsBEoQFjAOegQIFBAB&amp;usg=AOvVaw1Q6OLPXEIZzhIexTelA11H\">\n",
            "       <h3 class=\"zBAuLc\">\n",
            "        <div class=\"BNeawe vvjwJb AP7Wnd\">\n",
            "         Apple beats on earnings and announces stock split, sending shares ...\n",
            "        </div>\n",
            "       </h3>\n",
            "       <div class=\"BNeawe UPmit AP7Wnd\">\n",
            "        www.marketwatch.com › story › apple-beats-on-earnings-and-announces-s...\n",
            "       </div>\n",
            "      </a>\n",
            "     </div>\n",
            "     <div class=\"x54gtf\">\n",
            "     </div>\n",
            "     <div class=\"kCrYT\">\n",
            "      <div>\n",
            "       <div class=\"BNeawe s3v9rd AP7Wnd\">\n",
            "        <div>\n",
            "         <div>\n",
            "          <div class=\"BNeawe s3v9rd AP7Wnd\">\n",
            "           <span class=\"r0bn4c rQMQod\">\n",
            "            Jul 31, 2020\n",
            "           </span>\n",
            "           <span class=\"r0bn4c rQMQod\">\n",
            "            ·\n",
            "           </span>\n",
            "           Apple Inc. brushed off the COVID-19 crisis to report record June-quarter results that came in ahead of expectations, and the company said in ...\n",
            "          </div>\n",
            "         </div>\n",
            "        </div>\n",
            "       </div>\n",
            "      </div>\n",
            "     </div>\n",
            "    </div>\n",
            "   </div>\n",
            "   <div>\n",
            "    <div class=\"ZINbbc xpd O9g5cc uUPGi\">\n",
            "     <div class=\"kCrYT\">\n",
            "      <a href=\"/url?q=https://www.macrumors.com/2020/07/30/apple-opens-new-bangkok-retail-store/&amp;sa=U&amp;ved=2ahUKEwjFlIjix9PwAhU6CjQIHalsBEoQFjAPegQIExAB&amp;usg=AOvVaw1Q_QyMmyrJTX4vRn-2pES5\">\n",
            "       <h3 class=\"zBAuLc\">\n",
            "        <div class=\"BNeawe vvjwJb AP7Wnd\">\n",
            "         Take a Look Inside Apple's New Retail Store in Bangkok - MacRumors\n",
            "        </div>\n",
            "       </h3>\n",
            "       <div class=\"BNeawe UPmit AP7Wnd\">\n",
            "        www.macrumors.com › 2020/07/30 › apple-opens-new-bangkok-retail-store\n",
            "       </div>\n",
            "      </a>\n",
            "     </div>\n",
            "     <div class=\"x54gtf\">\n",
            "     </div>\n",
            "     <div class=\"kCrYT\">\n",
            "      <div>\n",
            "       <div class=\"BNeawe s3v9rd AP7Wnd\">\n",
            "        <div>\n",
            "         <div>\n",
            "          <div class=\"BNeawe s3v9rd AP7Wnd\">\n",
            "           <span class=\"r0bn4c rQMQod\">\n",
            "            Jul 30, 2020\n",
            "           </span>\n",
            "           <span class=\"r0bn4c rQMQod\">\n",
            "            ·\n",
            "           </span>\n",
            "           Apple's newest retail store in Bangkok, Thailand is set to open in just a few hours, and ahead of the store's launch, MacRumors reader Scott...\n",
            "          </div>\n",
            "         </div>\n",
            "        </div>\n",
            "       </div>\n",
            "      </div>\n",
            "     </div>\n",
            "    </div>\n",
            "   </div>\n",
            "   <div>\n",
            "    <div class=\"ZINbbc xpd O9g5cc uUPGi\">\n",
            "     <div class=\"kCrYT\">\n",
            "      <a href=\"/url?q=https://finance.yahoo.com/news/apple-q3-earnings-2020-203224360.html&amp;sa=U&amp;ved=2ahUKEwjFlIjix9PwAhU6CjQIHalsBEoQFjAQegQICRAB&amp;usg=AOvVaw1Oh31RptrdmbQcHNHwmfI3\">\n",
            "       <h3 class=\"zBAuLc\">\n",
            "        <div class=\"BNeawe vvjwJb AP7Wnd\">\n",
            "         Apple earnings: Apple crushes Q3 expectations, announces 4-1 ...\n",
            "        </div>\n",
            "       </h3>\n",
            "       <div class=\"BNeawe UPmit AP7Wnd\">\n",
            "        finance.yahoo.com › news › apple-q3-earnings-2020-203224360\n",
            "       </div>\n",
            "      </a>\n",
            "     </div>\n",
            "     <div class=\"x54gtf\">\n",
            "     </div>\n",
            "     <div class=\"kCrYT\">\n",
            "      <div>\n",
            "       <div class=\"BNeawe s3v9rd AP7Wnd\">\n",
            "        <div>\n",
            "         <div>\n",
            "          <div class=\"BNeawe s3v9rd AP7Wnd\">\n",
            "           <span class=\"r0bn4c rQMQod\">\n",
            "            Jul 30, 2020\n",
            "           </span>\n",
            "           <span class=\"r0bn4c rQMQod\">\n",
            "            ·\n",
            "           </span>\n",
            "           Apple has reported its Q3 2020 earnings, crushing expectations, and announcing a 4-1 stock split.\n",
            "          </div>\n",
            "         </div>\n",
            "        </div>\n",
            "       </div>\n",
            "      </div>\n",
            "     </div>\n",
            "    </div>\n",
            "   </div>\n",
            "   <div>\n",
            "    <div class=\"ZINbbc xpd O9g5cc uUPGi\">\n",
            "     <div class=\"kCrYT\">\n",
            "      <a href=\"/url?q=https://sixcolors.com/post/2020/07/apple-q3-2020-results-everything-up/&amp;sa=U&amp;ved=2ahUKEwjFlIjix9PwAhU6CjQIHalsBEoQFjARegQIDxAB&amp;usg=AOvVaw2-tHjG8qTMvQYQEfMGOjBL\">\n",
            "       <h3 class=\"zBAuLc\">\n",
            "        <div class=\"BNeawe vvjwJb AP7Wnd\">\n",
            "         Apple Q3 2020 results: Everything up – Six Colors\n",
            "        </div>\n",
            "       </h3>\n",
            "       <div class=\"BNeawe UPmit AP7Wnd\">\n",
            "        sixcolors.com › post › 2020/07 › apple-q3-2020-results-everything-up\n",
            "       </div>\n",
            "      </a>\n",
            "     </div>\n",
            "     <div class=\"x54gtf\">\n",
            "     </div>\n",
            "     <div class=\"kCrYT\">\n",
            "      <div>\n",
            "       <div class=\"BNeawe s3v9rd AP7Wnd\">\n",
            "        <div>\n",
            "         <div>\n",
            "          <div class=\"BNeawe s3v9rd AP7Wnd\">\n",
            "           <span class=\"r0bn4c rQMQod\">\n",
            "            Jul 30, 2020\n",
            "           </span>\n",
            "           <span class=\"r0bn4c rQMQod\">\n",
            "            ·\n",
            "           </span>\n",
            "           The company was up in pretty much every category. It was, once again, a record for Apple's third fiscal quarter. Total revenue was $59.7 billion.\n",
            "          </div>\n",
            "         </div>\n",
            "        </div>\n",
            "       </div>\n",
            "      </div>\n",
            "     </div>\n",
            "    </div>\n",
            "   </div>\n",
            "   <div>\n",
            "    <div class=\"ZINbbc xpd O9g5cc uUPGi\">\n",
            "     <div class=\"kCrYT\">\n",
            "      <a href=\"/url?q=https://9to5mac.com/2020/07/30/apple-q3-2020-earnings/&amp;sa=U&amp;ved=2ahUKEwjFlIjix9PwAhU6CjQIHalsBEoQFjASegQIDBAB&amp;usg=AOvVaw0LyFO9Ss7rtC2vGxpKv0Tm\">\n",
            "       <h3 class=\"zBAuLc\">\n",
            "        <div class=\"BNeawe vvjwJb AP7Wnd\">\n",
            "         Apple announces fiscal Q3 2020 earnings: revenue of $59.7 billion ...\n",
            "        </div>\n",
            "       </h3>\n",
            "       <div class=\"BNeawe UPmit AP7Wnd\">\n",
            "        9to5mac.com › 2020/07/30 › apple-q3-2020-earnings\n",
            "       </div>\n",
            "      </a>\n",
            "     </div>\n",
            "     <div class=\"x54gtf\">\n",
            "     </div>\n",
            "     <div class=\"kCrYT\">\n",
            "      <div>\n",
            "       <div class=\"BNeawe s3v9rd AP7Wnd\">\n",
            "        <div>\n",
            "         <div>\n",
            "          <div class=\"BNeawe s3v9rd AP7Wnd\">\n",
            "           <span class=\"r0bn4c rQMQod\">\n",
            "            Jul 30, 2020\n",
            "           </span>\n",
            "           <span class=\"r0bn4c rQMQod\">\n",
            "            ·\n",
            "           </span>\n",
            "           Apple's record June quarter was driven by double-digit growth in both Products and Services and growth in each of our geographic segments. In ...\n",
            "          </div>\n",
            "         </div>\n",
            "        </div>\n",
            "       </div>\n",
            "      </div>\n",
            "     </div>\n",
            "    </div>\n",
            "   </div>\n",
            "   <div>\n",
            "    <div class=\"ZINbbc xpd O9g5cc uUPGi\">\n",
            "     <div class=\"kCrYT\">\n",
            "      <a href=\"/url?q=https://www.wsj.com/articles/apple-aapl-3q-earnings-report-2020-11596139155&amp;sa=U&amp;ved=2ahUKEwjFlIjix9PwAhU6CjQIHalsBEoQFjATegQICxAB&amp;usg=AOvVaw3vFK4aPUtrMK8Av_rO9iCT\">\n",
            "       <h3 class=\"zBAuLc\">\n",
            "        <div class=\"BNeawe vvjwJb AP7Wnd\">\n",
            "         Apple Earnings Surge Behind Stimulus and Remote Work - WSJ\n",
            "        </div>\n",
            "       </h3>\n",
            "       <div class=\"BNeawe UPmit AP7Wnd\">\n",
            "        www.wsj.com › articles › apple-aapl-3q-earnings-report-2020-11596139155\n",
            "       </div>\n",
            "      </a>\n",
            "     </div>\n",
            "     <div class=\"x54gtf\">\n",
            "     </div>\n",
            "     <div class=\"kCrYT\">\n",
            "      <div>\n",
            "       <div class=\"BNeawe s3v9rd AP7Wnd\">\n",
            "        <div>\n",
            "         <div>\n",
            "          <div class=\"BNeawe s3v9rd AP7Wnd\">\n",
            "           <span class=\"r0bn4c rQMQod\">\n",
            "            Jul 30, 2020\n",
            "           </span>\n",
            "           <span class=\"r0bn4c rQMQod\">\n",
            "            ·\n",
            "           </span>\n",
            "           Apple showed the technology industry's resilience amid the pandemic, reporting a better-than-expected 11% increase in quarterly sales as it ...\n",
            "          </div>\n",
            "         </div>\n",
            "        </div>\n",
            "       </div>\n",
            "      </div>\n",
            "     </div>\n",
            "    </div>\n",
            "   </div>\n",
            "   <div>\n",
            "    <div class=\"ZINbbc xpd O9g5cc uUPGi\">\n",
            "     <div class=\"kCrYT\">\n",
            "      <a href=\"/url?q=https://www.cnet.com/news/apples-iphone-sales-grew-despite-coronavirus-but-iphone-5g-will-launch-late/&amp;sa=U&amp;ved=2ahUKEwjFlIjix9PwAhU6CjQIHalsBEoQFjAUegQICBAB&amp;usg=AOvVaw1i_l1475MfcgD9G8ufa7jk\">\n",
            "       <h3 class=\"zBAuLc\">\n",
            "        <div class=\"BNeawe vvjwJb AP7Wnd\">\n",
            "         Apple's iPhone sales grew despite coronavirus, but iPhone 5G will ...\n",
            "        </div>\n",
            "       </h3>\n",
            "       <div class=\"BNeawe UPmit AP7Wnd\">\n",
            "        www.cnet.com › news › apples-iphone-sales-grew-despite-coronavirus-but-...\n",
            "       </div>\n",
            "      </a>\n",
            "     </div>\n",
            "     <div class=\"x54gtf\">\n",
            "     </div>\n",
            "     <div class=\"kCrYT\">\n",
            "      <div>\n",
            "       <div class=\"BNeawe s3v9rd AP7Wnd\">\n",
            "        <div>\n",
            "         <div>\n",
            "          <div class=\"BNeawe s3v9rd AP7Wnd\">\n",
            "           <span class=\"r0bn4c rQMQod\">\n",
            "            Jul 30, 2020\n",
            "           </span>\n",
            "           <span class=\"r0bn4c rQMQod\">\n",
            "            ·\n",
            "           </span>\n",
            "           Apple's been able to navigate the coronavirus so far, but this fall will be tough.\n",
            "          </div>\n",
            "         </div>\n",
            "        </div>\n",
            "       </div>\n",
            "      </div>\n",
            "     </div>\n",
            "    </div>\n",
            "   </div>\n",
            "   <div>\n",
            "    <div class=\"ZINbbc xpd O9g5cc uUPGi\">\n",
            "     <div class=\"kCrYT\">\n",
            "      <a href=\"/url?q=https://techcrunch.com/2020/07/30/telegram-hits-out-at-apples-app-store-tax-in-latest-eu-antitrust-complaint/&amp;sa=U&amp;ved=2ahUKEwjFlIjix9PwAhU6CjQIHalsBEoQFjAVegQIBxAB&amp;usg=AOvVaw13hWqWfhZOq0UYJZOI3jWi\">\n",
            "       <h3 class=\"zBAuLc\">\n",
            "        <div class=\"BNeawe vvjwJb AP7Wnd\">\n",
            "         Telegram hits out at Apple's App Store 'tax' in latest EU antitrust ...\n",
            "        </div>\n",
            "       </h3>\n",
            "       <div class=\"BNeawe UPmit AP7Wnd\">\n",
            "        techcrunch.com › 2020/07/30 › telegram-hits-out-at-apples-app-store-tax-i...\n",
            "       </div>\n",
            "      </a>\n",
            "     </div>\n",
            "     <div class=\"x54gtf\">\n",
            "     </div>\n",
            "     <div class=\"kCrYT\">\n",
            "      <div>\n",
            "       <div class=\"BNeawe s3v9rd AP7Wnd\">\n",
            "        <div>\n",
            "         <div>\n",
            "          <div class=\"BNeawe s3v9rd AP7Wnd\">\n",
            "           <span class=\"r0bn4c rQMQod\">\n",
            "            Jul 30, 2020\n",
            "           </span>\n",
            "           <span class=\"r0bn4c rQMQod\">\n",
            "            ·\n",
            "           </span>\n",
            "           Apple has another antitrust charge on its plate. Messaging app Telegram has joined Spotify in filing a formal complaint against the iOS App ...\n",
            "          </div>\n",
            "         </div>\n",
            "        </div>\n",
            "       </div>\n",
            "      </div>\n",
            "     </div>\n",
            "    </div>\n",
            "   </div>\n",
            "   <div>\n",
            "    <div class=\"ZINbbc xpd O9g5cc uUPGi\">\n",
            "     <div class=\"kCrYT\">\n",
            "      <a href=\"/url?q=https://www.usatoday.com/story/tech/2020/07/30/apples-next-iphones-miss-september-launch-delayed-several-weeks/5551048002/&amp;sa=U&amp;ved=2ahUKEwjFlIjix9PwAhU6CjQIHalsBEoQFjAWegQIAxAB&amp;usg=AOvVaw17epSUrgeHXt-o4cSpbPxt\">\n",
            "       <h3 class=\"zBAuLc\">\n",
            "        <div class=\"BNeawe vvjwJb AP7Wnd\">\n",
            "         Apple's next iPhones to miss September launch; delayed several ...\n",
            "        </div>\n",
            "       </h3>\n",
            "       <div class=\"BNeawe UPmit AP7Wnd\">\n",
            "        www.usatoday.com › story › tech › 2020/07/30 › apples-next-iphones-mis...\n",
            "       </div>\n",
            "      </a>\n",
            "     </div>\n",
            "     <div class=\"x54gtf\">\n",
            "     </div>\n",
            "     <div class=\"kCrYT\">\n",
            "      <div>\n",
            "       <div class=\"BNeawe s3v9rd AP7Wnd\">\n",
            "        <div>\n",
            "         <div>\n",
            "          <div class=\"BNeawe s3v9rd AP7Wnd\">\n",
            "           <span class=\"r0bn4c rQMQod\">\n",
            "            Jul 30, 2020\n",
            "           </span>\n",
            "           <span class=\"r0bn4c rQMQod\">\n",
            "            ·\n",
            "           </span>\n",
            "           Apple had a record June quarter, as work at home crowd bought more Macs, iPhones, iPads and Watches, and viewed more iTunes movies ...\n",
            "          </div>\n",
            "         </div>\n",
            "        </div>\n",
            "       </div>\n",
            "      </div>\n",
            "     </div>\n",
            "    </div>\n",
            "   </div>\n",
            "   <div>\n",
            "    <div class=\"ZINbbc xpd O9g5cc uUPGi\">\n",
            "     <div class=\"kCrYT\">\n",
            "      <a href=\"/url?q=https://www.bloomberg.com/news/articles/2020-07-30/apple-kicks-u-s-office-return-back-to-early-2021-ceo-cook-says&amp;sa=U&amp;ved=2ahUKEwjFlIjix9PwAhU6CjQIHalsBEoQFjAXegQIARAB&amp;usg=AOvVaw3zp9pjEEqJdP5VIoFeovWM\">\n",
            "       <h3 class=\"zBAuLc\">\n",
            "        <div class=\"BNeawe vvjwJb AP7Wnd\">\n",
            "         Apple Kicks US Office Return Back to 2021, CEO Tim Cook Says ...\n",
            "        </div>\n",
            "       </h3>\n",
            "       <div class=\"BNeawe UPmit AP7Wnd\">\n",
            "        www.bloomberg.com › news › articles › apple-kicks-u-s-office-return-bac...\n",
            "       </div>\n",
            "      </a>\n",
            "     </div>\n",
            "     <div class=\"x54gtf\">\n",
            "     </div>\n",
            "     <div class=\"kCrYT\">\n",
            "      <div>\n",
            "       <div class=\"BNeawe s3v9rd AP7Wnd\">\n",
            "        <div>\n",
            "         <div>\n",
            "          <div class=\"BNeawe s3v9rd AP7Wnd\">\n",
            "           <span class=\"r0bn4c rQMQod\">\n",
            "            Jul 30, 2020\n",
            "           </span>\n",
            "           <span class=\"r0bn4c rQMQod\">\n",
            "            ·\n",
            "           </span>\n",
            "           Apple Inc. Chief Executive Officer Tim Cook said the company has pushed back a plan to return to its U.S. offices.\n",
            "          </div>\n",
            "         </div>\n",
            "        </div>\n",
            "       </div>\n",
            "      </div>\n",
            "     </div>\n",
            "    </div>\n",
            "   </div>\n",
            "   <div>\n",
            "    <div class=\"ZINbbc xpd O9g5cc uUPGi\">\n",
            "     <div class=\"kCrYT\">\n",
            "      <a href=\"/url?q=https://www.bloomberg.com/news/articles/2020-07-30/apple-smashes-revenue-iphone-estimates-in-record-third-quarter&amp;sa=U&amp;ved=2ahUKEwjFlIjix9PwAhU6CjQIHalsBEoQFjAYegQIAhAB&amp;usg=AOvVaw1RYUFUUXXML78Vfgl3pnoz\">\n",
            "       <h3 class=\"zBAuLc\">\n",
            "        <div class=\"BNeawe vvjwJb AP7Wnd\">\n",
            "         Apple (APPL) Shares Jump, iPhone Smashes Revenue Estimates ...\n",
            "        </div>\n",
            "       </h3>\n",
            "       <div class=\"BNeawe UPmit AP7Wnd\">\n",
            "        www.bloomberg.com › news › articles › apple-smashes-revenue-iphone-est...\n",
            "       </div>\n",
            "      </a>\n",
            "     </div>\n",
            "     <div class=\"x54gtf\">\n",
            "     </div>\n",
            "     <div class=\"kCrYT\">\n",
            "      <div>\n",
            "       <div class=\"BNeawe s3v9rd AP7Wnd\">\n",
            "        <div>\n",
            "         <div>\n",
            "          <div class=\"BNeawe s3v9rd AP7Wnd\">\n",
            "           <span class=\"r0bn4c rQMQod\">\n",
            "            Jul 30, 2020\n",
            "           </span>\n",
            "           <span class=\"r0bn4c rQMQod\">\n",
            "            ·\n",
            "           </span>\n",
            "           Apple Inc. reported quarterly revenue that crushed Wall Street forecasts after locked down consumers snapped up new iPhones, iPads and ...\n",
            "          </div>\n",
            "         </div>\n",
            "        </div>\n",
            "       </div>\n",
            "      </div>\n",
            "     </div>\n",
            "    </div>\n",
            "   </div>\n",
            "   <div>\n",
            "    <div class=\"ZINbbc xpd O9g5cc uUPGi\">\n",
            "     <div class=\"kCrYT\">\n",
            "      <a href=\"/url?q=https://www.sfchronicle.com/business/article/Apple-says-workers-won-t-return-to-offices-15447385.php&amp;sa=U&amp;ved=2ahUKEwjFlIjix9PwAhU6CjQIHalsBEoQFjAZegQIBBAB&amp;usg=AOvVaw2DQpJnLrDrs4S9gC2E64gV\">\n",
            "       <h3 class=\"zBAuLc\">\n",
            "        <div class=\"BNeawe vvjwJb AP7Wnd\">\n",
            "         Apple says workers won't return to offices until early 2021\n",
            "        </div>\n",
            "       </h3>\n",
            "       <div class=\"BNeawe UPmit AP7Wnd\">\n",
            "        www.sfchronicle.com › business › article › Apple-says-workers-won-t-retu...\n",
            "       </div>\n",
            "      </a>\n",
            "     </div>\n",
            "     <div class=\"x54gtf\">\n",
            "     </div>\n",
            "     <div class=\"kCrYT\">\n",
            "      <div>\n",
            "       <div class=\"BNeawe s3v9rd AP7Wnd\">\n",
            "        <div>\n",
            "         <div>\n",
            "          <div class=\"BNeawe s3v9rd AP7Wnd\">\n",
            "           <span class=\"r0bn4c rQMQod\">\n",
            "            Jul 31, 2020\n",
            "           </span>\n",
            "           <span class=\"r0bn4c rQMQod\">\n",
            "            ·\n",
            "           </span>\n",
            "           Apple's huge new campus in Cupertino will remain largely empty of office workers until...\n",
            "          </div>\n",
            "         </div>\n",
            "        </div>\n",
            "       </div>\n",
            "      </div>\n",
            "     </div>\n",
            "    </div>\n",
            "   </div>\n",
            "   <div>\n",
            "    <div class=\"ZINbbc xpd O9g5cc uUPGi\">\n",
            "     <div class=\"kCrYT\">\n",
            "      <a href=\"/url?q=https://www.reuters.com/article/us-apple-results/apple-delivers-blowout-earnings-amid-covid-19-market-shrugs-off-iphone-delays-idUSKCN24V3J4&amp;sa=U&amp;ved=2ahUKEwjFlIjix9PwAhU6CjQIHalsBEoQFjAaegQIBRAB&amp;usg=AOvVaw2gK-SDrz8EcZU8ZEfpDZNb\">\n",
            "       <h3 class=\"zBAuLc\">\n",
            "        <div class=\"BNeawe vvjwJb AP7Wnd\">\n",
            "         Apple delivers blowout earnings amid COVID-19, market shrugs off ...\n",
            "        </div>\n",
            "       </h3>\n",
            "       <div class=\"BNeawe UPmit AP7Wnd\">\n",
            "        www.reuters.com › article › us-apple-results › apple-delivers-blowout-earni...\n",
            "       </div>\n",
            "      </a>\n",
            "     </div>\n",
            "     <div class=\"x54gtf\">\n",
            "     </div>\n",
            "     <div class=\"kCrYT\">\n",
            "      <div>\n",
            "       <div class=\"BNeawe s3v9rd AP7Wnd\">\n",
            "        <div>\n",
            "         <div>\n",
            "          <div class=\"BNeawe s3v9rd AP7Wnd\">\n",
            "           <span class=\"r0bn4c rQMQod\">\n",
            "            Jul 30, 2020\n",
            "           </span>\n",
            "           <span class=\"r0bn4c rQMQod\">\n",
            "            ·\n",
            "           </span>\n",
            "           Apple Inc on Thursday delivered blowout quarterly results, reporting revenue gains across every category and in every geography as ...\n",
            "          </div>\n",
            "         </div>\n",
            "        </div>\n",
            "       </div>\n",
            "      </div>\n",
            "     </div>\n",
            "    </div>\n",
            "   </div>\n",
            "   <div>\n",
            "    <div class=\"ZINbbc xpd O9g5cc uUPGi\">\n",
            "     <div class=\"kCrYT\">\n",
            "      <a href=\"/url?q=https://www.techradar.com/news/apple-iphone-12-delayed&amp;sa=U&amp;ved=2ahUKEwjFlIjix9PwAhU6CjQIHalsBEoQFjAbegQIABAB&amp;usg=AOvVaw0Q3tOAuiMxZFBNQU16uh1u\">\n",
            "       <h3 class=\"zBAuLc\">\n",
            "        <div class=\"BNeawe vvjwJb AP7Wnd\">\n",
            "         Apple says the iPhone 12 will be delayed | TechRadar\n",
            "        </div>\n",
            "       </h3>\n",
            "       <div class=\"BNeawe UPmit AP7Wnd\">\n",
            "        www.techradar.com › news › apple-iphone-12-delayed\n",
            "       </div>\n",
            "      </a>\n",
            "     </div>\n",
            "     <div class=\"x54gtf\">\n",
            "     </div>\n",
            "     <div class=\"kCrYT\">\n",
            "      <div>\n",
            "       <div class=\"BNeawe s3v9rd AP7Wnd\">\n",
            "        <div>\n",
            "         <div>\n",
            "          <div class=\"BNeawe s3v9rd AP7Wnd\">\n",
            "           <span class=\"r0bn4c rQMQod\">\n",
            "            Jul 30, 2020\n",
            "           </span>\n",
            "           <span class=\"r0bn4c rQMQod\">\n",
            "            ·\n",
            "           </span>\n",
            "           During Apple's Q3 2020 earnings call, the company revealed it expects the iPhone 12 to be delayed beyond its usual September release date.\n",
            "          </div>\n",
            "         </div>\n",
            "        </div>\n",
            "       </div>\n",
            "      </div>\n",
            "     </div>\n",
            "    </div>\n",
            "   </div>\n",
            "   <footer>\n",
            "    <div>\n",
            "     <div class=\"ZINbbc xpd O9g5cc uUPGi BmP5tf\">\n",
            "      <div class=\"nMymef MUxGbd lyLwlc\">\n",
            "       <a aria-label=\"Next page\" class=\"nBDE1b G5eFlf\" href=\"/search?q=Apple+after:2020-07-30+before:2020-07-31&amp;num=20&amp;ie=UTF-8&amp;ei=Lt-jYMXFObqU0PEPqdmR0AQ&amp;start=20&amp;sa=N\">\n",
            "        Next &gt;\n",
            "       </a>\n",
            "      </div>\n",
            "     </div>\n",
            "    </div>\n",
            "    <div id=\"EOlPnc\">\n",
            "     <div class=\"Srfpq\">\n",
            "      <span class=\"unknown_loc\">\n",
            "      </span>\n",
            "      <span id=\"xxxXMc\">\n",
            "       United States\n",
            "      </span>\n",
            "      <span id=\"ttWoPb\">\n",
            "       -\n",
            "      </span>\n",
            "      <span>\n",
            "       From your Internet address\n",
            "      </span>\n",
            "      <span>\n",
            "       -\n",
            "      </span>\n",
            "      <a href=\"/url?q=https://support.google.com/websearch%3Fp%3Dws_settings_location%26hl%3Den&amp;sa=U&amp;ved=0ahUKEwjFlIjix9PwAhU6CjQIHalsBEoQty4IcQ&amp;usg=AOvVaw3m-_vd1njIxzPAVGUpjRSE\">\n",
            "       Learn more\n",
            "      </a>\n",
            "     </div>\n",
            "     <div>\n",
            "      <a href=\"/url?q=https://accounts.google.com/ServiceLogin%3Fcontinue%3Dhttps://www.google.com/search%253Fq%253DApple%252Bafter:2020-07-30%252Bbefore:2020-07-31%2526num%253D20%26hl%3Den&amp;sa=U&amp;ved=0ahUKEwjFlIjix9PwAhU6CjQIHalsBEoQxs8CCHI&amp;usg=AOvVaw34Sxq5toW4ABKOlCRUEyJD\">\n",
            "       Sign in\n",
            "      </a>\n",
            "     </div>\n",
            "     <div>\n",
            "      <a class=\"xeDNfc\" href=\"https://www.google.com/preferences?hl=en&amp;fg=1&amp;sa=X&amp;ved=0ahUKEwjFlIjix9PwAhU6CjQIHalsBEoQ5fUCCHM\">\n",
            "       Settings\n",
            "      </a>\n",
            "      <a class=\"xeDNfc\" href=\"https://policies.google.com/privacy?hl=en&amp;fg=1\">\n",
            "       Privacy\n",
            "      </a>\n",
            "      <a class=\"xeDNfc\" href=\"https://policies.google.com/terms?hl=en&amp;fg=1\">\n",
            "       Terms\n",
            "      </a>\n",
            "     </div>\n",
            "    </div>\n",
            "   </footer>\n",
            "   <script nonce=\"rk3rXObKAZB6k3Rn3CuWhA==\">\n",
            "    (function(){var hl='en';(function(){\n",
            "var f=this||self,g=function(a){return a};var h,k=function(){if(void 0===h){var a=null,b=f.trustedTypes;if(b&&b.createPolicy){try{a=b.createPolicy(\"goog#html\",{createHTML:g,createScript:g,createScriptURL:g})}catch(c){f.console&&f.console.error(c.message)}h=a}else h=a}return h};var n=function(a,b){this.h=a===l&&b||\"\";this.g=m},p=function(a){return a instanceof n&&a.constructor===n&&a.g===m?a.h:\"type_error:Const\"},m={},l={};var r=function(a,b){this.g=b===q?a:\"\"};r.prototype.toString=function(){return this.g+\"\"};var t=function(a){return a instanceof r&&a.constructor===r?a.g:\"type_error:TrustedResourceUrl\"},x=function(){var a={},b=p(new n(l,\"/complete/search\"));if(!u.test(b))throw Error(\"a`\"+b);var c=b.replace(v,function(d,e){if(!Object.prototype.hasOwnProperty.call(a,e))throw Error(\"b`\"+e+\"`\"+b+\"`\"+JSON.stringify(a));d=a[e];return d instanceof n?p(d):encodeURIComponent(String(d))});return w(c)},v=/%{(\\w+)}/g,u=/^((https:)?\\/\\/[0-9a-z.:[\\]-]+\\/|\\/[^/\\\\]|[^:/\\\\%]+\\/|[^:/\\\\%]*[?#]|about:blank#)/i,y=/^([^?#]*)(\\?[^#]*)?(#[\\s\\S]*)?/,q={},w=function(a){var b=k();a=b?b.createScriptURL(a):a;return new r(a,q)},z=function(a,b,c){if(null==c)return b;if(\"string\"===typeof c)return c?a+encodeURIComponent(c):\"\";for(var d in c)if(Object.prototype.hasOwnProperty.call(c,d)){var e=c[d];e=Array.isArray(e)?e:[e];for(var C=0;C<e.length;C++){var R=e[C];null!=R&&(b||(b=a),b+=(b.length>a.length?\"&\":\"\")+encodeURIComponent(d)+\"=\"+encodeURIComponent(String(R)))}}return b};var B=function(a,b,c){this.g=c===A?a:\"\"};B.prototype.toString=function(){return this.g.toString()};var D=function(a){return a instanceof B&&a.constructor===B?a.g:\"type_error:SafeHtml\"},A={},aa=function(a){var b=k();a=b?b.createHTML(a):a;return new B(a,null,A)},ba=new B(f.trustedTypes&&f.trustedTypes.emptyHTML||\"\",0,A);var ca=function(a){var b=!1,c;return function(){b||(c=a(),b=!0);return c}}(function(){var a=document.createElement(\"div\"),b=document.createElement(\"div\");b.appendChild(document.createElement(\"div\"));a.appendChild(b);b=a.firstChild.firstChild;a.innerHTML=D(ba);return!b.parentElement}),da=function(a,b){if(ca())for(;a.lastChild;)a.removeChild(a.lastChild);a.innerHTML=D(b)},E=null,ea=/^[\\w+/_-]+[=]{0,2}$/,F=function(a){return a.querySelector?(a=a.querySelector(\"script[nonce]\"))&&(a=a.nonce||a.getAttribute(\"nonce\"))&&\n",
            "ea.test(a)?a:\"\":\"\"};var G=document.querySelector(\".l\"),H=document.querySelector(\"#sf\"),I=H.querySelector(\".sbc\"),J=H.querySelector(\"[type=text]\"),K=H.querySelector(\"[type=submit]\"),L=H.querySelector(\".sc\"),M=H.querySelector(\".x\"),N=J.value,O=[],P=-1,Q=N,S,T,U;N||(M&&(M.style.display=\"none\"),V(!1));function V(a){if(I.classList.contains(\"esbc\")){var b=I.classList.contains(\"chsbc\"),c=I.classList.contains(\"rtlsbc\");a&&(L.style.display=\"block\",b?(H.style.borderRadius=\"20px 20px 0 0\",L.style.borderBottom=\"1px solid #DFE1E5\",K.style.borderRadius=c?\"20px 0 0 0\":\"0 20px 0 0\"):I.style.borderRadius=c?\"0 8px 0 0\":\"8px 0 0 0\");a||(L.style.display=\"none\",b?(H.style.borderRadius=\"20px\",L.style.borderBottom=\"none\",K.style.borderRadius=c?\"20px 0 0 20px\":\"0 20px 20px 0\"):I.style.borderRadius=c?\"0 8px 8px 0\":\"8px 0 0 8px\")}}function W(){H.querySelector(\"[name=oq]\").value=Q;H.querySelector(\"[name=aqs]\").value=\"heirloom-srp.\"+(0<=P?P:\"\")+\".\"+(0<O.length?\"0l\"+O.length:\"\")}\n",
            "function X(){S=null;if(T){var a={client:\"heirloom-srp\",hl:hl,json:\"t\",callback:\"hS\",q:T};\"undefined\"!==typeof ds&&ds&&(a.ds=ds);var b=document;var c=\"SCRIPT\";\"application/xhtml+xml\"===b.contentType&&(c=c.toLowerCase());c=b.createElement(c);b=x();b=y.exec(t(b).toString());var d=b[3]||\"\";a=w(b[1]+z(\"?\",b[2]||\"\",a)+z(\"#\",d,void 0));c.src=t(a);(a=c.ownerDocument&&c.ownerDocument.defaultView)&&a!=f?a=F(a.document):(null===E&&(E=F(f.document)),a=E);a&&c.setAttribute(\"nonce\",a);document.body.appendChild(c);T=null;S=setTimeout(X,500)}}function Y(){for(;L.firstChild;)L.removeChild(L.firstChild);O=[];P=-1;V(!1)}function Z(){var a=L.querySelector(\".scs\");a&&(a.className=\"\");0<=P?(a=L.childNodes[P],a.className=\"scs\",N=a.textContent):N=Q;J.value=N}J.addEventListener(\"focus\",function(){G&&(G.style.display=\"none\")},!1);J.addEventListener(\"blur\",function(){Y();G&&(G.style.display=\"\")},!1);J.addEventListener(\"keyup\",function(a){N=J.value;U=!1;13==a.which?W():27==a.which?(Y(),G&&(G.style.display=\"\"),N=Q,J.value=N):40==a.which?(P++,P>=O.length&&(P=-1),Z()):38==a.which?(P--,-1>P&&(P=O.length-1),Z()):(a=N)?(M&&(M.style.display=\"\"),T=a,S||X(),Q=a):(M&&(M.style.display=\"none\"),V(!1),Y(),Q=\"\",U=!0)},!1);K.addEventListener(\"click\",W,!1);M.addEventListener(\"click\",function(){J.value=\"\";M.style.display=\"none\";V(!1)},!1);I.addEventListener(\"click\",function(){J.focus()},!1);window.hS=function(a){if(!U){Y();0==a[1].length&&V(!1);for(var b=0;b<a[1].length;b++){var c=a[1][b][0],d=document.createElement(\"div\");da(d,aa(c));d.addEventListener(\"mousedown\",function(e){e.preventDefault();return!1},!1);c=c.replace(/<\\/?b>/g,\"\");d.addEventListener(\"click\",function(e){return function(){P=e;W();Z();Y();H.submit()}}(b),!1);L.appendChild(d);V(!0);O.push(c)}}};}).call(this);})();(function(){\n",
            "function b(a){for(a=a.target||a.srcElement;a&&\"A\"!=a.nodeName;)a=a.parentElement;a&&(a.href||\"\").match(/\\/search.*[?&]tbm=isch/)&&(a.href+=\"&biw=\"+document.documentElement.clientWidth,a.href+=\"&bih=\"+document.documentElement.clientHeight)}document.addEventListener(\"click\",b,!1);document.addEventListener(\"touchStart\",b,!1);}).call(this);\n",
            "   </script>\n",
            "  </div>\n",
            "  <!-- cctlcm 5 cctlcm -->\n",
            "  <textarea class=\"csi\" name=\"csi\" style=\"display:none\"></textarea>\n",
            "  <script nonce=\"rk3rXObKAZB6k3Rn3CuWhA==\">\n",
            "   (function(){var e='Lt-jYMXFObqU0PEPqdmR0AQ';var sn='web';var coh=false;var ioh=false;(function(){\n",
            "function y(a){var c=coh,b=ioh;if(!a||z(a))return 0;if(!a.getBoundingClientRect)return 1;var d=function(f){return f.getBoundingClientRect()};return!1===c||!A(a,d)||b?H(a,d):0}function A(a,c){var b;a:{for(b=a;b&&null!==b;b=b.parentElement)if(\"hidden\"===b.style.overflow)break a;b=null}if(!b)return!1;a=c(a);c=c(b);return a.bottom<c.top||a.top>=c.bottom||a.right<c.left||a.left>=c.right}\n",
            "function z(a){return\"none\"===a.style.display?!0:document.defaultView&&document.defaultView.getComputedStyle?(a=document.defaultView.getComputedStyle(a),!!a&&(\"hidden\"===a.visibility||\"0px\"===a.height&&\"0px\"===a.width)):!1}\n",
            "function H(a,c){var b=c(a);a=b.left+window.pageXOffset;c=b.top+window.pageYOffset;var d=b.width;b=b.height;var f=0;if(0>=b&&0>=d)return f;var n=window.innerHeight||document.documentElement.clientHeight;0>c+b?f=2:c>=n&&(f=4);if(0>a+d||a>=(window.innerWidth||document.documentElement.clientWidth))f|=8;f||(f=1,c+b>n&&(f|=4));return f};var I=e,J=sn,K=[];function L(a,c,b){a=\"/gen_204?atyp=csi&s=\"+(J||\"web\")+\"&t=\"+a+(\"&lite=1&ei=\"+I+\"&conn=\"+(window.navigator&&window.navigator.connection?window.navigator.connection.type:-1)+c);c=\"&rt=\";for(var d in b)a+=\"\"+c+d+\".\"+b[d],c=\",\";return a}function M(a){a={prt:a};window.wsrt&&(a.wsrt=window.wsrt);return a}function N(a){window.ping?window.ping(a):(new Image).src=a}\n",
            "(function(){for(var a=(new Date).getTime()-window.start,c=M(a),b=0,d=0,f=0,n=document.getElementsByTagName(\"img\"),p=\"&imn=\"+n.length+\"&biw=\"+window.innerWidth+\"&bih=\"+window.innerHeight,O=function(h,q){h.onload=function(){d=(new Date).getTime()-window.start;q&&++u==f&&(b=d,B());h.onload=null}},B=function(){p+=\"&ima=\"+f;c.aft=b;N(L(\"aft\",p,c))},u=0,P=0,g=void 0;g=n[P++];){var r=y(g),t=!!(r&1);t&&++f;var m=g.hasAttribute(\"data-ilite\"),v=g.hasAttribute(\"data-deferred\")||m,C=g.getAttribute(\"data-src\")||\n",
            "g.getAttribute(\"data-lzysrc\");K.push([r,v,!v&&C,google.ldi&&g.id&&google.ldi[g.id]||m&&C]);m=(r=g.complete&&(m||!v))&&Number(g.getAttribute(\"data-iml\"))||0;r&&m?(t&&++u,m&&(g=m-window.start,t&&(b=Math.max(b,g)),d=Math.max(d,g))):O(g,t)}b||(b=a);d||(d=b);u==f&&B();google.rglh&&google.rglh();window.addEventListener(\"load\",function(){window.setTimeout(function(){c.ol=(new Date).getTime()-window.start;c.iml=d;var h=window.performance&&window.performance.timing;h&&(c.rqst=h.responseEnd-h.requestStart,c.rspt=h.responseEnd-h.responseStart);for(var q=h=0,D=0,E=0,F=0,Q=0,k;k=K[Q++];){var l=k[0],w=k[1],R=k[2];k=k[3];var S=0==l,x=l&8,G=l&4;l=1==l||2==l||x&&!G;!l||x||w&&!k||++D;w&&(l&&k&&++h,G&&!k&&++q);S||x?R||++F:w||++E}p+=\"&ime=\"+D+(\"&imex=\"+E+\"&imeh=\"+F)+(\"&imea=\"+h+\"&imeb=\"+q);N(L(\"all\",p,c))},0)},!1)})();}).call(this);})();\n",
            "  </script>\n",
            "  <script nonce=\"rk3rXObKAZB6k3Rn3CuWhA==\">\n",
            "   (function(){var e='Lt-jYMXFObqU0PEPqdmR0AQ';(function(){\n",
            "var a=e;2===(window.performance&&window.performance.navigation&&window.performance.navigation.type)&&window.ping(\"/gen_204?ct=backbutton&ei=\"+a);}).call(this);})();(function(){\n",
            "var b=[function(){google.tick&&google.tick(\"load\",\"dcl\")}];google.dclc=function(a){b.length?b.push(a):a()};function c(){for(var a;a=b.shift();)a()}window.addEventListener?(document.addEventListener(\"DOMContentLoaded\",c,!1),window.addEventListener(\"load\",c,!1)):window.attachEvent&&window.attachEvent(\"onload\",c);}).call(this);(function(){(function(){google.csct={};google.csct.ps='AOvVaw3LTyuucfEfReKH5YTd_eZL\\x26ust\\x3d1621438638987924';})();})();(function(){(function(){google.csct.rd=true;})();})();(function(){\n",
            "window.xp=function(b){function f(k,g,h){return\"xp\"+(\"x\"==g?\"c\":\"x\")+h}for(var c=/\\bxp(x|c)(\\d?)\\b/,a=b;a;){var e=a.className,d=e.match(c);if(d){d=\"c\"==d[1];a.className=e.replace(c,f);b&&b.setAttribute(\"aria-expanded\",d);if(d)for(b=a.getElementsByTagName(\"img\"),c=0;c<b.length;++c)if(a=b[c],e=a.getAttribute(\"data-ll\"))a.src=e,a.removeAttribute(\"data-ll\");break}a=a.parentElement}};})();(function(){(function(){\n",
            "window.logVe=function(a){a&&a.attributes[\"data-ved\"]&&window.ping(\"/gen_204?ved=\"+a.attributes[\"data-ved\"].value)};}).call(this);})();(function(){(function(){var id='tsuid1';var lve=true;(function(){\n",
            "\n",
            "\n",
            "var e=\"undefined\"!=typeof navigator&&!/Opera/.test(navigator.userAgent)&&/WebKit/.test(navigator.userAgent),f={A:1,INPUT:1,TEXTAREA:1,SELECT:1,BUTTON:1},g={A:13,BUTTON:0,CHECKBOX:32,COMBOBOX:13,FILE:0,GRIDCELL:13,LINK:13,LISTBOX:13,MENU:0,MENUBAR:0,MENUITEM:0,MENUITEMCHECKBOX:0,MENUITEMRADIO:0,OPTION:0,RADIO:32,RADIOGROUP:32,RESET:0,SUBMIT:0,SWITCH:32,TAB:0,TREE:13,TREEITEM:13},h={CHECKBOX:!0,FILE:!0,OPTION:!0,RADIO:!0},k={COLOR:!0,DATE:!0,DATETIME:!0,\"DATETIME-LOCAL\":!0,EMAIL:!0,MONTH:!0,NUMBER:!0,PASSWORD:!0,RANGE:!0,SEARCH:!0,TEL:!0,TEXT:!0,TEXTAREA:!0,TIME:!0,URL:!0,WEEK:!0};document.getElementById(id).onclick=function(){window.xp(this);lve&&window.logVe(this)};document.getElementById(id).onkeydown=function(d){var c=d.which||d.keyCode;e&&3==c&&(c=13);if(13!=c&&32!=c)c=!1;else{var a=d.target||d.srcElement;!a.getAttribute&&a.parentNode&&(a=a.parentNode);var b;if(!(b=\"keydown\"!=d.type)){if(b=\"getAttribute\"in a)b=!((a.getAttribute(\"type\")||a.tagName).toUpperCase()in k);b=!(b&&!(\"BUTTON\"==a.tagName.toUpperCase()||a.type&&\"FILE\"==a.type.toUpperCase())&&!a.isContentEditable)}(b=b||d.ctrlKey||d.shiftKey||d.altKey||d.metaKey||(a.getAttribute(\"type\")||a.tagName).toUpperCase()in\n",
            "h&&32==c)||((b=a.tagName in f)||(b=a.getAttributeNode(\"tabindex\"),b=null!=b&&b.specified),b=!(b&&!a.disabled));if(b)c=!1;else{b=(a.getAttribute(\"role\")||a.type||a.tagName).toUpperCase();var l=!(b in g)&&13==c;a=\"INPUT\"!=a.tagName.toUpperCase()||!!a.type;c=(0==g[b]%c||l)&&a}}c&&(d.preventDefault(),window.xp(this),lve&&window.logVe(this))};}).call(this);})();})();(function(){window.jsl=window.jsl||{};window.jsl.dh=window.jsl.dh||function(i,c,d){try{var e=document.getElementById(i);if(e){e.innerHTML=c;if(d){d();}}else{if(window.jsl.el){window.jsl.el(new Error('Missing ID.'),{'id':i});}}}catch(e){if(window.jsl.el){window.jsl.el(new Error('jsl.dh'));}}};})();(function(){window.jsl.dh('accdef_2','\\x3cdiv\\x3e\\x3cdiv class\\x3d\\x22hwc M56Nqc\\x22\\x3e\\x3cdiv class\\x3d\\x22Z8j5ae\\x22\\x3e\\x3cdiv\\x3e\\x3cdiv class\\x3d\\x22ZINbbc xpd O9g5cc uUPGi\\x22\\x3e\\x3cdiv class\\x3d\\x22kCrYT\\x22\\x3e\\x3cdiv\\x3e\\x3cdiv class\\x3d\\x22BNeawe s3v9rd AP7Wnd\\x22\\x3e\\x3cdiv\\x3e\\x3cdiv class\\x3d\\x22BNeawe s3v9rd AP7Wnd\\x22\\x3eCupertino, California \\u2014 July 30, 2020 \\u2014 Apple today announced financial results for its fiscal 2020 third quarter ended June 27, 2020. The Company posted quarterly revenue of \\x3cspan class\\x3d\\x22FCUp0c rQMQod\\x22\\x3e$59.7 billion\\x3c/span\\x3e, an increase of 11 percent from the year-ago quarter, and quarterly earnings per diluted share of \\x3cspan class\\x3d\\x22FCUp0c rQMQod\\x22\\x3e$2.58\\x3c/span\\x3e, up 18 percent.\\x3c/div\\x3e\\x3c/div\\x3e\\x3c/div\\x3e\\x3c/div\\x3e\\x3c/div\\x3e\\x3cdiv class\\x3d\\x22x54gtf\\x22\\x3e\\x3c/div\\x3e\\x3cdiv class\\x3d\\x22kCrYT\\x22\\x3e\\x3ca href\\x3d\\x22/url?q\\x3dhttps://www.apple.com/newsroom/2020/07/apple-reports-third-quarter-results/\\x26amp;sa\\x3dU\\x26amp;ved\\x3d2ahUKEwjFlIjix9PwAhU6CjQIHalsBEoQFnoECBIQAg\\x26amp;usg\\x3dAOvVaw2B7_-D18VhzJ6F2L-KPzYr\\x22\\x3e\\x3cspan\\x3e\\x3cdiv class\\x3d\\x22BNeawe vvjwJb AP7Wnd\\x22\\x3eApple Reports Third Quarter Results - Apple\\x3c/div\\x3e\\x3c/span\\x3e\\x3cspan\\x3e\\x3cdiv class\\x3d\\x22BNeawe UPmit AP7Wnd\\x22\\x3ewww.apple.com \\x26gt; newsroom \\x26gt; 2020/07 \\x26gt; apple-reports-third-quarter-results\\x3c/div\\x3e\\x3c/span\\x3e\\x3c/a\\x3e\\x3c/div\\x3e\\x3c/div\\x3e\\x3c/div\\x3e\\x3c/div\\x3e\\x3cdiv\\x3e\\x3cdiv class\\x3d\\x22PDHNXc\\x22\\x3e\\x3cdiv class\\x3d\\x22iU269d TeHtNe\\x22\\x3e\\x3cspan class\\x3d\\x22kXUfPb Vp9uZ\\x22\\x3e\\x3ca class\\x3d\\x22RtoYlb\\x22 href\\x3d\\x22https://www.google.com/search?num\\x3d20\\x26amp;ie\\x3dUTF-8\\x26amp;ei\\x3dLt-jYMXFObqU0PEPqdmR0AQ\\x26amp;q\\x3dHow+much+money+did+Apple+make+in+all+of+2020?\\x26amp;sa\\x3dX\\x26amp;ved\\x3d2ahUKEwjFlIjix9PwAhU6CjQIHalsBEoQzmd6BAgYEAM\\x22\\x3eMore results\\x3c/a\\x3e\\x3c/span\\x3e\\x3c/div\\x3e\\x3c/div\\x3e\\x3c/div\\x3e\\x3c/div\\x3e\\x3c/div\\x3e');})();(function(){(function(){var id='tsuid4';var lve=true;(function(){\n",
            "\n",
            "\n",
            "var e=\"undefined\"!=typeof navigator&&!/Opera/.test(navigator.userAgent)&&/WebKit/.test(navigator.userAgent),f={A:1,INPUT:1,TEXTAREA:1,SELECT:1,BUTTON:1},g={A:13,BUTTON:0,CHECKBOX:32,COMBOBOX:13,FILE:0,GRIDCELL:13,LINK:13,LISTBOX:13,MENU:0,MENUBAR:0,MENUITEM:0,MENUITEMCHECKBOX:0,MENUITEMRADIO:0,OPTION:0,RADIO:32,RADIOGROUP:32,RESET:0,SUBMIT:0,SWITCH:32,TAB:0,TREE:13,TREEITEM:13},h={CHECKBOX:!0,FILE:!0,OPTION:!0,RADIO:!0},k={COLOR:!0,DATE:!0,DATETIME:!0,\"DATETIME-LOCAL\":!0,EMAIL:!0,MONTH:!0,NUMBER:!0,PASSWORD:!0,RANGE:!0,SEARCH:!0,TEL:!0,TEXT:!0,TEXTAREA:!0,TIME:!0,URL:!0,WEEK:!0};document.getElementById(id).onclick=function(){window.xp(this);lve&&window.logVe(this)};document.getElementById(id).onkeydown=function(d){var c=d.which||d.keyCode;e&&3==c&&(c=13);if(13!=c&&32!=c)c=!1;else{var a=d.target||d.srcElement;!a.getAttribute&&a.parentNode&&(a=a.parentNode);var b;if(!(b=\"keydown\"!=d.type)){if(b=\"getAttribute\"in a)b=!((a.getAttribute(\"type\")||a.tagName).toUpperCase()in k);b=!(b&&!(\"BUTTON\"==a.tagName.toUpperCase()||a.type&&\"FILE\"==a.type.toUpperCase())&&!a.isContentEditable)}(b=b||d.ctrlKey||d.shiftKey||d.altKey||d.metaKey||(a.getAttribute(\"type\")||a.tagName).toUpperCase()in\n",
            "h&&32==c)||((b=a.tagName in f)||(b=a.getAttributeNode(\"tabindex\"),b=null!=b&&b.specified),b=!(b&&!a.disabled));if(b)c=!1;else{b=(a.getAttribute(\"role\")||a.type||a.tagName).toUpperCase();var l=!(b in g)&&13==c;a=\"INPUT\"!=a.tagName.toUpperCase()||!!a.type;c=(0==g[b]%c||l)&&a}}c&&(d.preventDefault(),window.xp(this),lve&&window.logVe(this))};}).call(this);})();})();(function(){window.jsl.dh('accdef_5','\\x3cdiv\\x3e\\x3cdiv class\\x3d\\x22hwc M56Nqc\\x22\\x3e\\x3cdiv class\\x3d\\x22Z8j5ae\\x22\\x3e\\x3cdiv\\x3e\\x3cdiv class\\x3d\\x22ZINbbc xpd O9g5cc uUPGi\\x22\\x3e\\x3cdiv class\\x3d\\x22kCrYT\\x22\\x3e\\x3cdiv\\x3e\\x3cdiv class\\x3d\\x22BNeawe s3v9rd AP7Wnd\\x22\\x3e\\x3cdiv\\x3e\\x3cdiv class\\x3d\\x22BNeawe s3v9rd AP7Wnd\\x22\\x3eYesterday, \\x3cspan class\\x3d\\x22FCUp0c rQMQod\\x22\\x3eApple\\x3c/span\\x3e announced financial results for their 91-\\x3cspan class\\x3d\\x22FCUp0c rQMQod\\x22\\x3eday\\x3c/span\\x3e quarter. The company posted quarterly \\x3cspan class\\x3d\\x22FCUp0c rQMQod\\x22\\x3erevenue\\x3c/span\\x3e of $91.8 billion, an increase of 9 percent from the year-ago quarter and an all-time record. That averages out to $1,008,791,208.79 per \\x3cspan class\\x3d\\x22FCUp0c rQMQod\\x22\\x3eday\\x3c/span\\x3e \\u2013 over $1 billion per \\x3cspan class\\x3d\\x22FCUp0c rQMQod\\x22\\x3eday\\x3c/span\\x3e, every \\x3cspan class\\x3d\\x22FCUp0c rQMQod\\x22\\x3eday\\x3c/span\\x3e last quarter!\\x3c/div\\x3e\\x3c/div\\x3e\\x3c/div\\x3e\\x3c/div\\x3e\\x3c/div\\x3e\\x3cdiv class\\x3d\\x22x54gtf\\x22\\x3e\\x3c/div\\x3e\\x3cdiv class\\x3d\\x22kCrYT\\x22\\x3e\\x3ca href\\x3d\\x22/url?q\\x3dhttps://macdailynews.com/2020/01/29/for-the-first-time-apple-made-over-1-billion-per-day-last-quarter/\\x26amp;sa\\x3dU\\x26amp;ved\\x3d2ahUKEwjFlIjix9PwAhU6CjQIHalsBEoQFnoECBUQAg\\x26amp;usg\\x3dAOvVaw2dTMe7QTwLtetNYz3hqA1Y\\x22\\x3e\\x3cspan\\x3e\\x3cdiv class\\x3d\\x22BNeawe vvjwJb AP7Wnd\\x22\\x3eFor the first time, Apple made over $1 billion per day in revenue last ...\\x3c/div\\x3e\\x3c/span\\x3e\\x3cspan\\x3e\\x3cdiv class\\x3d\\x22BNeawe UPmit AP7Wnd\\x22\\x3emacdailynews.com \\x26gt; 2020/01/29 \\x26gt; for-the-first-time-apple-made-over-1-bi...\\x3c/div\\x3e\\x3c/span\\x3e\\x3c/a\\x3e\\x3c/div\\x3e\\x3c/div\\x3e\\x3c/div\\x3e\\x3c/div\\x3e\\x3cdiv\\x3e\\x3cdiv class\\x3d\\x22PDHNXc\\x22\\x3e\\x3cdiv class\\x3d\\x22iU269d TeHtNe\\x22\\x3e\\x3cspan class\\x3d\\x22kXUfPb Vp9uZ\\x22\\x3e\\x3ca class\\x3d\\x22RtoYlb\\x22 href\\x3d\\x22https://www.google.com/search?num\\x3d20\\x26amp;ie\\x3dUTF-8\\x26amp;ei\\x3dLt-jYMXFObqU0PEPqdmR0AQ\\x26amp;q\\x3dHow+much+money+does+Apple+make+a+day+2020?\\x26amp;sa\\x3dX\\x26amp;ved\\x3d2ahUKEwjFlIjix9PwAhU6CjQIHalsBEoQzmd6BAgYEAY\\x22\\x3eMore results\\x3c/a\\x3e\\x3c/span\\x3e\\x3c/div\\x3e\\x3c/div\\x3e\\x3c/div\\x3e\\x3c/div\\x3e\\x3c/div\\x3e');})();(function(){(function(){var id='tsuid7';var lve=true;(function(){\n",
            "\n",
            "\n",
            "var e=\"undefined\"!=typeof navigator&&!/Opera/.test(navigator.userAgent)&&/WebKit/.test(navigator.userAgent),f={A:1,INPUT:1,TEXTAREA:1,SELECT:1,BUTTON:1},g={A:13,BUTTON:0,CHECKBOX:32,COMBOBOX:13,FILE:0,GRIDCELL:13,LINK:13,LISTBOX:13,MENU:0,MENUBAR:0,MENUITEM:0,MENUITEMCHECKBOX:0,MENUITEMRADIO:0,OPTION:0,RADIO:32,RADIOGROUP:32,RESET:0,SUBMIT:0,SWITCH:32,TAB:0,TREE:13,TREEITEM:13},h={CHECKBOX:!0,FILE:!0,OPTION:!0,RADIO:!0},k={COLOR:!0,DATE:!0,DATETIME:!0,\"DATETIME-LOCAL\":!0,EMAIL:!0,MONTH:!0,NUMBER:!0,PASSWORD:!0,RANGE:!0,SEARCH:!0,TEL:!0,TEXT:!0,TEXTAREA:!0,TIME:!0,URL:!0,WEEK:!0};document.getElementById(id).onclick=function(){window.xp(this);lve&&window.logVe(this)};document.getElementById(id).onkeydown=function(d){var c=d.which||d.keyCode;e&&3==c&&(c=13);if(13!=c&&32!=c)c=!1;else{var a=d.target||d.srcElement;!a.getAttribute&&a.parentNode&&(a=a.parentNode);var b;if(!(b=\"keydown\"!=d.type)){if(b=\"getAttribute\"in a)b=!((a.getAttribute(\"type\")||a.tagName).toUpperCase()in k);b=!(b&&!(\"BUTTON\"==a.tagName.toUpperCase()||a.type&&\"FILE\"==a.type.toUpperCase())&&!a.isContentEditable)}(b=b||d.ctrlKey||d.shiftKey||d.altKey||d.metaKey||(a.getAttribute(\"type\")||a.tagName).toUpperCase()in\n",
            "h&&32==c)||((b=a.tagName in f)||(b=a.getAttributeNode(\"tabindex\"),b=null!=b&&b.specified),b=!(b&&!a.disabled));if(b)c=!1;else{b=(a.getAttribute(\"role\")||a.type||a.tagName).toUpperCase();var l=!(b in g)&&13==c;a=\"INPUT\"!=a.tagName.toUpperCase()||!!a.type;c=(0==g[b]%c||l)&&a}}c&&(d.preventDefault(),window.xp(this),lve&&window.logVe(this))};}).call(this);})();})();(function(){window.jsl.dh('accdef_8','\\x3cdiv\\x3e\\x3cdiv class\\x3d\\x22hwc M56Nqc\\x22\\x3e\\x3cdiv class\\x3d\\x22Z8j5ae\\x22\\x3e\\x3cdiv\\x3e\\x3cdiv class\\x3d\\x22ZINbbc xpd O9g5cc uUPGi\\x22\\x3e\\x3cdiv class\\x3d\\x22kCrYT\\x22\\x3e\\x3cdiv\\x3e\\x3cdiv class\\x3d\\x22BNeawe s3v9rd AP7Wnd\\x22\\x3e\\x3cdiv\\x3e\\x3cdiv class\\x3d\\x22BNeawe s3v9rd AP7Wnd\\x22\\x3eCupertino, California \\u2014 January 27, 2021 \\u2014 \\x3cspan class\\x3d\\x22FCUp0c rQMQod\\x22\\x3eApple\\x3c/span\\x3e today announced \\x3cspan class\\x3d\\x22FCUp0c rQMQod\\x22\\x3efinancial\\x3c/span\\x3e results for its fiscal 2021 first quarter ended December 26, 2020. The Company posted all-time record revenue of $111.4 billion, up 21 percent year over year, and quarterly earnings per diluted share of $1.68, up 35 percent.\\x3c/div\\x3e\\x3c/div\\x3e\\x3c/div\\x3e\\x3c/div\\x3e\\x3c/div\\x3e\\x3cdiv class\\x3d\\x22x54gtf\\x22\\x3e\\x3c/div\\x3e\\x3cdiv class\\x3d\\x22kCrYT\\x22\\x3e\\x3ca href\\x3d\\x22/url?q\\x3dhttps://www.apple.com/newsroom/2021/01/apple-reports-first-quarter-results/\\x26amp;sa\\x3dU\\x26amp;ved\\x3d2ahUKEwjFlIjix9PwAhU6CjQIHalsBEoQFnoECBYQAg\\x26amp;usg\\x3dAOvVaw1C--gZjWB9mFy6iwkO3wjJ\\x22\\x3e\\x3cspan\\x3e\\x3cdiv class\\x3d\\x22BNeawe vvjwJb AP7Wnd\\x22\\x3eApple Reports First Quarter Results - Apple\\x3c/div\\x3e\\x3c/span\\x3e\\x3cspan\\x3e\\x3cdiv class\\x3d\\x22BNeawe UPmit AP7Wnd\\x22\\x3ewww.apple.com \\x26gt; newsroom \\x26gt; 2021/01 \\x26gt; apple-reports-first-quarter-results\\x3c/div\\x3e\\x3c/span\\x3e\\x3c/a\\x3e\\x3c/div\\x3e\\x3c/div\\x3e\\x3c/div\\x3e\\x3c/div\\x3e\\x3cdiv\\x3e\\x3cdiv class\\x3d\\x22PDHNXc\\x22\\x3e\\x3cdiv class\\x3d\\x22iU269d TeHtNe\\x22\\x3e\\x3cspan class\\x3d\\x22kXUfPb Vp9uZ\\x22\\x3e\\x3ca class\\x3d\\x22RtoYlb\\x22 href\\x3d\\x22https://www.google.com/search?num\\x3d20\\x26amp;ie\\x3dUTF-8\\x26amp;ei\\x3dLt-jYMXFObqU0PEPqdmR0AQ\\x26amp;q\\x3dIs+Apple+doing+well+financially?\\x26amp;sa\\x3dX\\x26amp;ved\\x3d2ahUKEwjFlIjix9PwAhU6CjQIHalsBEoQzmd6BAgYEAk\\x22\\x3eMore results\\x3c/a\\x3e\\x3c/span\\x3e\\x3c/div\\x3e\\x3c/div\\x3e\\x3c/div\\x3e\\x3c/div\\x3e\\x3c/div\\x3e');})();(function(){(function(){var id='tsuid10';var lve=true;(function(){\n",
            "\n",
            "\n",
            "var e=\"undefined\"!=typeof navigator&&!/Opera/.test(navigator.userAgent)&&/WebKit/.test(navigator.userAgent),f={A:1,INPUT:1,TEXTAREA:1,SELECT:1,BUTTON:1},g={A:13,BUTTON:0,CHECKBOX:32,COMBOBOX:13,FILE:0,GRIDCELL:13,LINK:13,LISTBOX:13,MENU:0,MENUBAR:0,MENUITEM:0,MENUITEMCHECKBOX:0,MENUITEMRADIO:0,OPTION:0,RADIO:32,RADIOGROUP:32,RESET:0,SUBMIT:0,SWITCH:32,TAB:0,TREE:13,TREEITEM:13},h={CHECKBOX:!0,FILE:!0,OPTION:!0,RADIO:!0},k={COLOR:!0,DATE:!0,DATETIME:!0,\"DATETIME-LOCAL\":!0,EMAIL:!0,MONTH:!0,NUMBER:!0,PASSWORD:!0,RANGE:!0,SEARCH:!0,TEL:!0,TEXT:!0,TEXTAREA:!0,TIME:!0,URL:!0,WEEK:!0};document.getElementById(id).onclick=function(){window.xp(this);lve&&window.logVe(this)};document.getElementById(id).onkeydown=function(d){var c=d.which||d.keyCode;e&&3==c&&(c=13);if(13!=c&&32!=c)c=!1;else{var a=d.target||d.srcElement;!a.getAttribute&&a.parentNode&&(a=a.parentNode);var b;if(!(b=\"keydown\"!=d.type)){if(b=\"getAttribute\"in a)b=!((a.getAttribute(\"type\")||a.tagName).toUpperCase()in k);b=!(b&&!(\"BUTTON\"==a.tagName.toUpperCase()||a.type&&\"FILE\"==a.type.toUpperCase())&&!a.isContentEditable)}(b=b||d.ctrlKey||d.shiftKey||d.altKey||d.metaKey||(a.getAttribute(\"type\")||a.tagName).toUpperCase()in\n",
            "h&&32==c)||((b=a.tagName in f)||(b=a.getAttributeNode(\"tabindex\"),b=null!=b&&b.specified),b=!(b&&!a.disabled));if(b)c=!1;else{b=(a.getAttribute(\"role\")||a.type||a.tagName).toUpperCase();var l=!(b in g)&&13==c;a=\"INPUT\"!=a.tagName.toUpperCase()||!!a.type;c=(0==g[b]%c||l)&&a}}c&&(d.preventDefault(),window.xp(this),lve&&window.logVe(this))};}).call(this);})();})();(function(){window.jsl.dh('accdef_11','\\x3cdiv\\x3e\\x3cdiv class\\x3d\\x22hwc M56Nqc\\x22\\x3e\\x3cdiv class\\x3d\\x22Z8j5ae\\x22\\x3e\\x3cdiv\\x3e\\x3cdiv class\\x3d\\x22ZINbbc xpd O9g5cc uUPGi\\x22\\x3e\\x3cdiv class\\x3d\\x22kCrYT\\x22\\x3e\\x3cdiv\\x3e\\x3cdiv class\\x3d\\x22BNeawe s3v9rd AP7Wnd\\x22\\x3e\\x3cdiv\\x3e\\x3cdiv class\\x3d\\x22BNeawe s3v9rd AP7Wnd\\x22\\x3eAnalysts expect over 21% revenue growth from \\x3cspan class\\x3d\\x22FCUp0c rQMQod\\x22\\x3eApple\\x3c/span\\x3e this fiscal year, along with a 35% increase in earnings per share. The company\\x27s revenue was up just 5.5% in fiscal \\x3cspan class\\x3d\\x22FCUp0c rQMQod\\x22\\x3e2020\\x3c/span\\x3e. So investors can \\x3cspan class\\x3d\\x22FCUp0c rQMQod\\x22\\x3ebuy Apple\\x3c/span\\x3e at a relatively cheap valuation compared to last year and see the company deliver a much-improved financial performance.\\x3c/div\\x3e\\x3c/div\\x3e\\x3c/div\\x3e\\x3c/div\\x3e\\x3c/div\\x3e\\x3cdiv class\\x3d\\x22x54gtf\\x22\\x3e\\x3c/div\\x3e\\x3cdiv class\\x3d\\x22kCrYT\\x22\\x3e\\x3ca href\\x3d\\x22/url?q\\x3dhttps://www.nasdaq.com/articles/why-apple-is-the-best-growth-stock-you-can-buy-right-now-2021-03-09\\x26amp;sa\\x3dU\\x26amp;ved\\x3d2ahUKEwjFlIjix9PwAhU6CjQIHalsBEoQFnoECBcQAg\\x26amp;usg\\x3dAOvVaw0g4FMsZ384XoiQH1fG1QYL\\x22\\x3e\\x3cspan\\x3e\\x3cdiv class\\x3d\\x22BNeawe vvjwJb AP7Wnd\\x22\\x3eWhy Apple Is the Best Growth Stock You Can Buy Right Now | Nasdaq\\x3c/div\\x3e\\x3c/span\\x3e\\x3cspan\\x3e\\x3cdiv class\\x3d\\x22BNeawe UPmit AP7Wnd\\x22\\x3ewww.nasdaq.com \\x26gt; articles \\x26gt; why-apple-is-the-best-growth-stock-you-can-...\\x3c/div\\x3e\\x3c/span\\x3e\\x3c/a\\x3e\\x3c/div\\x3e\\x3c/div\\x3e\\x3c/div\\x3e\\x3c/div\\x3e\\x3cdiv\\x3e\\x3cdiv class\\x3d\\x22PDHNXc\\x22\\x3e\\x3cdiv class\\x3d\\x22iU269d TeHtNe\\x22\\x3e\\x3cspan class\\x3d\\x22kXUfPb Vp9uZ\\x22\\x3e\\x3ca class\\x3d\\x22RtoYlb\\x22 href\\x3d\\x22https://www.google.com/search?num\\x3d20\\x26amp;ie\\x3dUTF-8\\x26amp;ei\\x3dLt-jYMXFObqU0PEPqdmR0AQ\\x26amp;q\\x3dIs+Apple+a+good+investment+in+2020?\\x26amp;sa\\x3dX\\x26amp;ved\\x3d2ahUKEwjFlIjix9PwAhU6CjQIHalsBEoQzmd6BAgYEAw\\x22\\x3eMore results\\x3c/a\\x3e\\x3c/span\\x3e\\x3c/div\\x3e\\x3c/div\\x3e\\x3c/div\\x3e\\x3c/div\\x3e\\x3c/div\\x3e');})();google.drty&&google.drty();\n",
            "  </script>\n",
            " </body>\n",
            "</html>\n"
          ],
          "name": "stdout"
        }
      ]
    },
    {
      "cell_type": "markdown",
      "metadata": {
        "id": "8MNVXSTwLCHh"
      },
      "source": [
        "##Extracting Articles "
      ]
    },
    {
      "cell_type": "markdown",
      "metadata": {
        "id": "ezM_Cz7FQ6Wx"
      },
      "source": [
        "We can then find all with the following tag and class that pulls up the link to each article, and the corresponding title, along with other information.\n",
        "\n",
        "---\n",
        "\n"
      ]
    },
    {
      "cell_type": "code",
      "metadata": {
        "id": "InqV_vAMJDOk",
        "colab": {
          "base_uri": "https://localhost:8080/"
        },
        "outputId": "008fd6cd-3176-42c7-aeed-bb25eaf1e951"
      },
      "source": [
        "key_data=results_page.find_all('div', class_='ZINbbc xpd O9g5cc uUPGi')\n",
        "\n",
        "\n",
        "# print the data type for the kv_data object\n",
        "\n",
        "#print(key_data)\n",
        "#print(type(key_data))\n",
        "print(key_data[0])"
      ],
      "execution_count": 52,
      "outputs": [
        {
          "output_type": "stream",
          "text": [
            "<div class=\"ZINbbc xpd O9g5cc uUPGi\"><div class=\"kCrYT\"><a href=\"/url?q=https://www.apple.com/newsroom/2020/07/apple-reports-third-quarter-results/&amp;sa=U&amp;ved=2ahUKEwjFlIjix9PwAhU6CjQIHalsBEoQFjAAegQIDRAB&amp;usg=AOvVaw2Vp1c2ZO3-SEn6ufEQNTym\"><h3 class=\"zBAuLc\"><div class=\"BNeawe vvjwJb AP7Wnd\">Apple Reports Third Quarter Results - Apple</div></h3><div class=\"BNeawe UPmit AP7Wnd\">www.apple.com › newsroom › 2020/07 › apple-reports-third-quarter-results</div></a></div><div class=\"x54gtf\"></div><div class=\"kCrYT\"><div><div class=\"BNeawe s3v9rd AP7Wnd\"><div><div><div class=\"BNeawe s3v9rd AP7Wnd\"><span class=\"r0bn4c rQMQod\">Jul 30, 2020</span><span class=\"r0bn4c rQMQod\"> · </span>Apple reported its third quarter financial results for the fiscal year after the market close on Thursday, July 30, 2020.</div></div></div></div></div></div></div>\n"
          ],
          "name": "stdout"
        }
      ]
    },
    {
      "cell_type": "markdown",
      "metadata": {
        "id": "eArdkTgO1RQ2"
      },
      "source": [
        "We can extract a title and meta-description that can give us a quick glance of what the article is about."
      ]
    },
    {
      "cell_type": "code",
      "metadata": {
        "id": "vUO-YuAdNu7e",
        "colab": {
          "base_uri": "https://localhost:8080/"
        },
        "outputId": "00605a97-062f-462a-9f8f-c592720a9b34"
      },
      "source": [
        "# extract the label \n",
        "Title = key_data[0].find('div', class_='BNeawe vvjwJb AP7Wnd').get_text()\n",
        "\n",
        "Link = key_data[0].find('div', class_='kCrYT').get_text()\n",
        "\n",
        "# extract the value\n",
        "Info = key_data[0].find('div', class_='BNeawe s3v9rd AP7Wnd').get_text()\n",
        "\n",
        "# print the results\n",
        "print(Title)\n",
        "print(Link)\n",
        "print(Info)\n"
      ],
      "execution_count": 53,
      "outputs": [
        {
          "output_type": "stream",
          "text": [
            "Apple Reports Third Quarter Results - Apple\n",
            "Apple Reports Third Quarter Results - Applewww.apple.com › newsroom › 2020/07 › apple-reports-third-quarter-results\n",
            "Jul 30, 2020 · Apple reported its third quarter financial results for the fiscal year after the market close on Thursday, July 30, 2020.\n"
          ],
          "name": "stdout"
        }
      ]
    },
    {
      "cell_type": "markdown",
      "metadata": {
        "id": "iwFk3ndd1YVx"
      },
      "source": [
        "To make things simpler, we can instead just pull up 20 article titles, as including the link and meta-description not only may make the program run slower, but will actually be redundant in this exercise. (20 is the parameter we set in the search query. We use about 20, as more than that may lead to some results that are less relevant.)"
      ]
    },
    {
      "cell_type": "code",
      "metadata": {
        "colab": {
          "base_uri": "https://localhost:8080/"
        },
        "id": "8s8_U_eR1Xud",
        "outputId": "34ba3791-96cf-4788-c28b-0ea40c13fc1b"
      },
      "source": [
        "key_data=results_page.find_all('div', class_='BNeawe vvjwJb AP7Wnd')\n",
        "for i in (key_data):\n",
        "  print(i.get_text())\n",
        "\n",
        "\n"
      ],
      "execution_count": 49,
      "outputs": [
        {
          "output_type": "stream",
          "text": [
            "Apple Reports Third Quarter Results - Apple\n",
            "Apple Gift Card - Apple\n",
            "Apple (AAPL) earnings Q3 2020 - CNBC\n",
            "Apple's revenues defy expectations and store closures | Financial ...\n",
            "Documents show Apple gave Amazon special treatment to get Prime ...\n",
            "Apple reports strong Mac and iPad sales in record-breaking Q3 ...\n",
            "Apple beats on earnings and announces stock split, sending shares ...\n",
            "Take a Look Inside Apple's New Retail Store in Bangkok - MacRumors\n",
            "Apple earnings: Apple crushes Q3 expectations, announces 4-1 ...\n",
            "Apple Q3 2020 results: Everything up – Six Colors\n",
            "Apple announces fiscal Q3 2020 earnings: revenue of $59.7 billion ...\n",
            "Apple Earnings Surge Behind Stimulus and Remote Work - WSJ\n",
            "Apple's iPhone sales grew despite coronavirus, but iPhone 5G will ...\n",
            "Telegram hits out at Apple's App Store 'tax' in latest EU antitrust ...\n",
            "Apple's next iPhones to miss September launch; delayed several ...\n",
            "Apple Kicks US Office Return Back to 2021, CEO Tim Cook Says ...\n",
            "Apple (APPL) Shares Jump, iPhone Smashes Revenue Estimates ...\n",
            "Apple says workers won't return to offices until early 2021\n",
            "Apple delivers blowout earnings amid COVID-19, market shrugs off ...\n",
            "Apple says the iPhone 12 will be delayed | TechRadar\n"
          ],
          "name": "stdout"
        }
      ]
    },
    {
      "cell_type": "markdown",
      "metadata": {
        "id": "Pw-GpCTj2Td1"
      },
      "source": [
        "Scanning through the list of 20 articles, we see information includes Apple's Earnings several times. (\"Apple delivers blowout earnings\" and \"Apple crushes Q3 earnings\".) This obviously implies that Apple's earnings reports may be the reason for the result. For our first trial, the news about the specific stock does have some association with the stock movement. The very positive news of Apple's earnings matches its increased stock price for that time period."
      ]
    },
    {
      "cell_type": "markdown",
      "metadata": {
        "id": "3vbDJa5pOe5h"
      },
      "source": [
        "#Putting it all together in a few methods"
      ]
    },
    {
      "cell_type": "markdown",
      "metadata": {
        "id": "HoIngMX75aUC"
      },
      "source": [
        "We'll try to test this with the second date - but first, we'll condense what we've done into a few methods to reduce the bloat.\n",
        "\n",
        "We'll have 3 helper methods, and 1 \"main\" method.\n",
        "\n",
        "The helper methods will be:\n",
        "\n",
        "**plotStock()**\n",
        "\n",
        "**getRefinedYMDstr()**\n",
        "\n",
        "**googleStock()**\n",
        "\n",
        "And the main method will be:\n",
        "\n",
        "**webScrapeStock()**\n"
      ]
    },
    {
      "cell_type": "markdown",
      "metadata": {
        "id": "EAw1UvTzBK3H"
      },
      "source": [
        "This is our revised \"plotStock()\" method. It will take a stock, starting time period, and ending time period as paramaters, and display a plot while also returning lists that consist of the time and stock prices respectively."
      ]
    },
    {
      "cell_type": "code",
      "metadata": {
        "id": "GRQDlAez8qUS"
      },
      "source": [
        " def plotStock(stockSymbol, startYear, startMonth, startDay, endYear, endMonth, endDay): \n",
        "  data_source='yahoo'\n",
        "\n",
        "  start = datetime(startYear, startMonth, startDay)\n",
        "  end = datetime(endYear, endMonth, endDay)\n",
        "\n",
        "  #Generates Plot\n",
        "  drPlot = data.DataReader(stockSymbol, data_source, start, end)[['Close']]\n",
        "  drPlot.plot(title= stockSymbol +' Plot for ' + str(startMonth) + '/' + str(startDay) + '/' + str(startYear) + ' to ' + str(endMonth) + '/' + str(endDay) + '/' + str(endYear), legend=True, xlabel='Time', ylabel='Closing Prices')\n",
        "  \n",
        "  drAF = pd.DataFrame(drPlot) \n",
        "  drAF.head()\n",
        "\n",
        "  closePriceList = drAF['Close'].tolist()\n",
        "  closeDateList = drAF['Close'].keys().tolist() \n",
        "\n",
        "  returnList = [closePriceList, closeDateList]\n",
        "  return returnList\n",
        "\n"
      ],
      "execution_count": 36,
      "outputs": []
    },
    {
      "cell_type": "markdown",
      "metadata": {
        "id": "V9XNAQdUPm-2"
      },
      "source": [
        "Helper method. Refined yyyy,mm,dd method that takes a single year-month-date item from a tuple and slices the year, month, and data out of it so it can easily fit into the query."
      ]
    },
    {
      "cell_type": "code",
      "metadata": {
        "id": "fs4UTO57JNmX"
      },
      "source": [
        "def getRefinedYMDstr(dateStrTupleList):\n",
        "  date1 = dateStrTupleList\n",
        "  year = date1[0:4]\n",
        "  month = date1[5:7]\n",
        "  day = date1[8:10]\n",
        "  return(year, month, day)\n"
      ],
      "execution_count": 37,
      "outputs": []
    },
    {
      "cell_type": "markdown",
      "metadata": {
        "id": "07iraNM_PrPs"
      },
      "source": [
        "Second helper method. Takes the sliced out year, month, and day from a datetime and places it into the query. Returns about 20 google results. "
      ]
    },
    {
      "cell_type": "code",
      "metadata": {
        "id": "R8ELjwzwHJ6P"
      },
      "source": [
        "def googleStock(dateStrTupleList, searchTerm, numberOfResults):\n",
        "\n",
        "  startYear = getRefinedYMDstr(dateStrTupleList[0])[0]\n",
        "  startMonth = getRefinedYMDstr(dateStrTupleList[0])[1]\n",
        "  startDay = getRefinedYMDstr(dateStrTupleList[0])[2]\n",
        "  endYear = getRefinedYMDstr(dateStrTupleList[1])[0]\n",
        "  endMonth = getRefinedYMDstr(dateStrTupleList[1])[1]\n",
        "  endDay = getRefinedYMDstr(dateStrTupleList[1])[2] \n",
        "\n",
        "  url = \"https://google.com/search?q=\" + searchTerm + \"+after:\"+ startYear + \"-\" + startMonth + \"-\" + startDay + \"+before:\" + endYear + \"-\" + endMonth + \"-\" + endDay + \"&num=\"+ str(numberOfResults)\n",
        "  response =requests.get(url)\n",
        "  if not response.status_code==200 :\n",
        "      print(\"request not successful\")\n",
        "  else:\n",
        "      print(url)\n",
        "\n",
        "  results_page = BeautifulSoup(response.content, 'lxml') \n",
        "\n",
        "  key_data=results_page.find_all('div', class_='BNeawe vvjwJb AP7Wnd')\n",
        "  for i in (key_data):\n",
        "    print(i.get_text())\n",
        "\n"
      ],
      "execution_count": 38,
      "outputs": []
    },
    {
      "cell_type": "markdown",
      "metadata": {
        "id": "wK1qf-XJPoqO"
      },
      "source": [
        "The big, completed method."
      ]
    },
    {
      "cell_type": "code",
      "metadata": {
        "id": "_O6SYKiSBom6"
      },
      "source": [
        "def webScrapeStock(stockSymbol, startYear, startMonth, startDay, endYear, endMonth, endDay, numberOfResults):\n",
        "\n",
        "  #This is so that when we search for news about the company, we are typing in the actual company name rather than the stock symbol\n",
        "  stockSymbolDict = {'AAPL': 'Apple', \n",
        "                     'MSFT': 'Microsoft',\n",
        "                     'TSLA':'Tesla',\n",
        "                     'SNE':'Sony',\n",
        "                     'FB':'Facebook',\n",
        "                     'NIO':'Nio',\n",
        "                     'NFLX':'Netflix',\n",
        "                     'DIS':'Disney',\n",
        "                     'GE':'General Electric',\n",
        "                     'BYND':'Beyond Meat',\n",
        "                     'F':'Ford',\n",
        "                     'BAC':'Bank of America',\n",
        "                     'SBUX':'Starbucks'\n",
        "                     \n",
        "                     }\n",
        "\n",
        "  closePriceList = plotStock(stockSymbol, startYear, startMonth, startDay, endYear, endMonth, endDay)[0]\n",
        "  closeDateList = plotStock(stockSymbol, startYear, startMonth, startDay, endYear, endMonth, endDay)[1]\n",
        "\n",
        "\n",
        "  slopesList=[]\n",
        "  stockJumpsList = [] \n",
        "\n",
        "  #Get slopes from graph, day-to-day\n",
        "  for i in closePriceList:\n",
        "    if closePriceList.index(i) < (len(closePriceList)-1):    \n",
        "      slope = (closePriceList[closePriceList.index(i)+1] - i)\n",
        "      slopesList.append(slope)  \n",
        "\n",
        "  #Append outlier slopes (which represents steep increases or steep declines in stock) to slope list\n",
        "  for i in slopesList:\n",
        "    if ((i > np.std(slopesList)) or (i < - np.std(slopesList))):\n",
        "      stockJumpsList.append(i)\n",
        "\n",
        "  #Get the indexes of the slopes in the original slopes list so we can find the dates\n",
        "  indexList = []\n",
        "  for i in stockJumpsList:\n",
        "    indexList.append(slopesList.index(i))\n",
        "\n",
        "  #Get matching dates, append to a datequeryList\n",
        "  dateQueryList =[]\n",
        "  for i in indexList:\n",
        "    dateQueryList.append((closeDateList[i], closeDateList[i+1]))\n",
        "  \n",
        "  #Using our method we made before, convert the dates to a string format\n",
        "  convertedStringDateList = convertDateTupleListToStrings(dateQueryList)\n",
        "\n",
        "  \n",
        "\n",
        "  #Take the list date tuples, and parse them into a yyyy, mm, dd format and run a query with them, each\n",
        "  print(\"Total Search Results\")\n",
        "  for i in convertedStringDateList:\n",
        "    if(stockSymbol in stockSymbolDict):\n",
        "      print(\"\\n\", \"Results for\", stockSymbolDict[stockSymbol], \"from\", i[0][0:-8],\"through\", i[1][0:-8])\n",
        "      googleStock(i, stockSymbolDict[stockSymbol], numberOfResults)\n",
        "    else:\n",
        "      print(\"\\n\", \"Results for\", stockSymbol, \"from\", i[0][0:-8],\"through\", i[1][0:-8])\n",
        "      googleStock(i, stockSymbol, numberOfResults)\n",
        " \n"
      ],
      "execution_count": 74,
      "outputs": []
    },
    {
      "cell_type": "markdown",
      "metadata": {
        "id": "uFrLX2vVOpoM"
      },
      "source": [
        "###Running it with Apple"
      ]
    },
    {
      "cell_type": "markdown",
      "metadata": {
        "id": "FT_FQdz0QPQy"
      },
      "source": [
        "Now, we will run the method with the whole thing."
      ]
    },
    {
      "cell_type": "code",
      "metadata": {
        "colab": {
          "base_uri": "https://localhost:8080/",
          "height": 1000
        },
        "id": "MmA34Sn_QVGL",
        "outputId": "0608405a-0d1c-4169-85a2-0c7b4d87bdd9"
      },
      "source": [
        "webScrapeStock('AAPL', 2020, 7, 28, 2020, 8, 6, 20)"
      ],
      "execution_count": 40,
      "outputs": [
        {
          "output_type": "stream",
          "text": [
            "Total Search Results\n",
            "\n",
            " Results for Apple from 2020-07-30  through 2020-07-31 \n",
            "https://google.com/search?q=Apple+after:2020-07-30+before:2020-07-31&num=20\n",
            "Apple Reports Third Quarter Results - Apple\n",
            "Apple Gift Card - Apple\n",
            "Apple (AAPL) earnings Q3 2020 - CNBC\n",
            "Apple's revenues defy expectations and store closures | Financial ...\n",
            "Documents show Apple gave Amazon special treatment to get Prime ...\n",
            "Apple reports strong Mac and iPad sales in record-breaking Q3 ...\n",
            "Apple beats on earnings and announces stock split, sending shares ...\n",
            "Take a Look Inside Apple's New Retail Store in Bangkok - MacRumors\n",
            "Apple earnings: Apple crushes Q3 expectations, announces 4-1 ...\n",
            "Apple Q3 2020 results: Everything up – Six Colors\n",
            "Apple announces fiscal Q3 2020 earnings: revenue of $59.7 billion ...\n",
            "Apple Earnings Surge Behind Stimulus and Remote Work - WSJ\n",
            "Apple's iPhone sales grew despite coronavirus, but iPhone 5G will ...\n",
            "Telegram hits out at Apple's App Store 'tax' in latest EU antitrust ...\n",
            "Apple's next iPhones to miss September launch; delayed several ...\n",
            "Apple Kicks US Office Return Back to 2021, CEO Tim Cook Says ...\n",
            "Apple (APPL) Shares Jump, iPhone Smashes Revenue Estimates ...\n",
            "Apple says workers won't return to offices until early 2021\n",
            "Apple delivers blowout earnings amid COVID-19, market shrugs off ...\n",
            "Apple says the iPhone 12 will be delayed | TechRadar\n",
            "\n",
            " Results for Apple from 2020-08-05  through 2020-08-06 \n",
            "https://google.com/search?q=Apple+after:2020-08-05+before:2020-08-06&num=20\n",
            "Business - Apple\n",
            "Business - Partners - Apple\n",
            "The Apple Store app is hiding a virtual surprise party - 9to5Mac\n",
            "10+ Apple Products Still Coming In 2020! AirTags, AirPods Studio ...\n",
            "Apple patents: 8 game-changing ideas we wish would come true ...\n",
            "First U.S. app using Apple-Google coronavirus notification technology\n",
            "Apple and Google's COVID-19 tracking system will make its full US ...\n",
            "Apple Celebrates 10th Anniversary of Apple Store App With ...\n",
            "Here's why Apple believes it's an AI leader—and why it says critics ...\n",
            "An Open Letter To Apple: Thank You For Throwing The Industry In ...\n",
            "SPI Announces Collaboration with Apple & T-Mobile - Year 2020 ...\n",
            "Apple's Stunning New iPhone Leaves The Android Competition ...\n",
            "Apple Watch Series 3 GPS - 38mm - Sport Band - Aluminum Case ...\n",
            "Apple Explains Why Services Like Xbox Game Pass Aren't on iPhone\n",
            "Key Apple suppliers approached for possible Arm sale - Nikkei Asia\n",
            "Microsoft slams Apple in new statement about xCloud and App Store ...\n",
            "Home - Apple Therapy Services | Physical Therapy | New Hampshire\n",
            "Apple's excuse for denying Xbox cloud gaming is patently absurd\n",
            "Apple 27-inch iMac review | TechCrunch\n",
            "Fizzy Paint Apple Craft - Messy Little Monster\n"
          ],
          "name": "stdout"
        },
        {
          "output_type": "display_data",
          "data": {
            "image/png": "[encoded data removed]",
            "text/plain": [
              "<Figure size 432x288 with 1 Axes>"
            ]
          },
          "metadata": {
            "tags": [],
            "needs_background": "light"
          }
        },
        {
          "output_type": "display_data",
          "data": {
            "image/png": "[encoded data removed]",
            "text/plain": [
              "<Figure size 432x288 with 1 Axes>"
            ]
          },
          "metadata": {
            "tags": [],
            "needs_background": "light"
          }
        }
      ]
    },
    {
      "cell_type": "markdown",
      "metadata": {
        "id": "rkWq58kRW4_-"
      },
      "source": [
        "As we see, for the second stock jump, there is a noticeable difference; the results seem a little less consistent. We see some info about Apple competing with Microsoft's xCloud - more specifcally Microsoft's action towards Apple. We do see some positive news though - such as Apple teasing information about its App Store for its 10th anneversary. However, this is actually fitting, as on the plot above, the second stock jump (August 5-6) was noticeably smaller than the stock jump from July 30th to the 31st."
      ]
    },
    {
      "cell_type": "markdown",
      "metadata": {
        "id": "i7nqXyv2OxkR"
      },
      "source": [
        "###Running it with Microsoft"
      ]
    },
    {
      "cell_type": "markdown",
      "metadata": {
        "id": "1Rm84m5Y8qpY"
      },
      "source": [
        "We'll now do the same with Microsoft.\n",
        "\n",
        "First, we'll use the plotStock method independently and plug in random dates just to display a plot so we can see any noticeable changes in Microsoft's stock price. We'll choose a time period of say July 20th, 2020, to say, August 20th, 2020."
      ]
    },
    {
      "cell_type": "code",
      "metadata": {
        "colab": {
          "base_uri": "https://localhost:8080/",
          "height": 1000
        },
        "id": "Y5TXWGv6X3Y1",
        "outputId": "8228790d-abc5-447d-c7f3-42295e559d6c"
      },
      "source": [
        "plotStock('MSFT', 2020, 7, 20, 2020, 8, 20)"
      ],
      "execution_count": 41,
      "outputs": [
        {
          "output_type": "execute_result",
          "data": {
            "text/plain": [
              "[[211.60000610351562,\n",
              "  208.75,\n",
              "  211.75,\n",
              "  202.5399932861328,\n",
              "  201.3000030517578,\n",
              "  203.85000610351562,\n",
              "  202.02000427246094,\n",
              "  204.05999755859375,\n",
              "  203.89999389648438,\n",
              "  205.00999450683594,\n",
              "  216.5399932861328,\n",
              "  213.2899932861328,\n",
              "  212.94000244140625,\n",
              "  216.35000610351562,\n",
              "  212.47999572753906,\n",
              "  208.25,\n",
              "  203.3800048828125,\n",
              "  209.19000244140625,\n",
              "  208.6999969482422,\n",
              "  208.89999389648438,\n",
              "  210.27999877929688,\n",
              "  211.49000549316406,\n",
              "  209.6999969482422,\n",
              "  214.5800018310547],\n",
              " [Timestamp('2020-07-20 00:00:00'),\n",
              "  Timestamp('2020-07-21 00:00:00'),\n",
              "  Timestamp('2020-07-22 00:00:00'),\n",
              "  Timestamp('2020-07-23 00:00:00'),\n",
              "  Timestamp('2020-07-24 00:00:00'),\n",
              "  Timestamp('2020-07-27 00:00:00'),\n",
              "  Timestamp('2020-07-28 00:00:00'),\n",
              "  Timestamp('2020-07-29 00:00:00'),\n",
              "  Timestamp('2020-07-30 00:00:00'),\n",
              "  Timestamp('2020-07-31 00:00:00'),\n",
              "  Timestamp('2020-08-03 00:00:00'),\n",
              "  Timestamp('2020-08-04 00:00:00'),\n",
              "  Timestamp('2020-08-05 00:00:00'),\n",
              "  Timestamp('2020-08-06 00:00:00'),\n",
              "  Timestamp('2020-08-07 00:00:00'),\n",
              "  Timestamp('2020-08-10 00:00:00'),\n",
              "  Timestamp('2020-08-11 00:00:00'),\n",
              "  Timestamp('2020-08-12 00:00:00'),\n",
              "  Timestamp('2020-08-13 00:00:00'),\n",
              "  Timestamp('2020-08-14 00:00:00'),\n",
              "  Timestamp('2020-08-17 00:00:00'),\n",
              "  Timestamp('2020-08-18 00:00:00'),\n",
              "  Timestamp('2020-08-19 00:00:00'),\n",
              "  Timestamp('2020-08-20 00:00:00')]]"
            ]
          },
          "metadata": {
            "tags": []
          },
          "execution_count": 41
        },
        {
          "output_type": "display_data",
          "data": {
            "image/png": "[encoded data removed]",
            "text/plain": [
              "<Figure size 432x288 with 1 Axes>"
            ]
          },
          "metadata": {
            "tags": [],
            "needs_background": "light"
          }
        }
      ]
    },
    {
      "cell_type": "markdown",
      "metadata": {
        "id": "uTm3z4CWYmqe"
      },
      "source": [
        "This plot shows a lot of variety in Micrisoft's stock price. It is noticeably up and down, compared to Apple. It will be interesting to see what happened to Microsoft during this time...\n",
        "\n",
        "Next we'll run the webscrape method to see what happened with Microsoft directly."
      ]
    },
    {
      "cell_type": "code",
      "metadata": {
        "colab": {
          "base_uri": "https://localhost:8080/",
          "height": 1000
        },
        "id": "DS-JRUudYvoY",
        "outputId": "531e1b80-ca7f-4ff5-cf07-04f924165206"
      },
      "source": [
        "webScrapeStock('MSFT', 2020, 7, 20, 2020, 8, 20, 20)"
      ],
      "execution_count": 42,
      "outputs": [
        {
          "output_type": "stream",
          "text": [
            "Total Search Results\n",
            "\n",
            " Results for Microsoft from 2020-07-22  through 2020-07-23 \n",
            "https://google.com/search?q=Microsoft+after:2020-07-22+before:2020-07-23&num=20\n",
            "FY20 Q4 - Press Releases - Investor Relations - Microsoft\n",
            "Microsoft cloud strength drives fourth quarter results - Stories\n",
            "Microsoft reports $38 billion in Q4 2020 revenue: Azure up 47 ...\n",
            "Microsoft just had a stellar three months thanks to Azure, Surface ...\n",
            "Microsoft (MSFT) earnings Q4 2020 - CNBC\n",
            "Why I'm leaving Microsoft - YouTube\n",
            "Microsoft Inspire 2020: CEO Satya Nadella - YouTube\n",
            "Microsoft Earnings Beat Q4 Estimates, But MSFT Stock Falls ...\n",
            "Multitasking improvements in Windows 10 and Microsoft Edge ...\n",
            "Microsoft Shares Drop as Azure Cloud-Services Sales Slow ...\n",
            "Microsoft revenue up 13% to $38B as stay-at-home orders boost ...\n",
            "Microsoft (MSFT) Overdue for Intermediate Correction - Investopedia\n",
            "Microsoft cloud flagship posts first growth under 50%; bookings ...\n",
            "Microsoft reports record revenue to wrap up a record-breaking fiscal ...\n",
            "New look for Microsoft Office and Microsoft 365 will tackle work-life ...\n",
            "Microsoft Q4 earnings: Softening small/mid-size business demand ...\n",
            "Slack Accuses Microsoft of Illegally Crushing Competition - The New ...\n",
            "Slack files EU antitrust complaint against Microsoft | Financial Times\n",
            "This Microsoft Office course concisely lays out real-world use cases ...\n",
            "Microsoft sees $46 billion in market value erased after missing ...\n",
            "\n",
            " Results for Microsoft from 2020-07-31  through 2020-08-03 \n",
            "https://google.com/search?q=Microsoft+after:2020-07-31+before:2020-08-03&num=20\n",
            "Microsoft to continue discussions on potential TikTok purchase in ...\n",
            "Microsoft Family Safety - One account for all things Microsoft\n",
            "Microsoft Services Agreement\n",
            "Microsoft confirms talks to buy TikTok in U.S. - CNBC\n",
            "Microsoft Said to Be in Talks to Buy TikTok, as Trump Weighs ...\n",
            "Microsoft Extends Work-From-Home Option Through January - CRN\n",
            "Microsoft's US offices won't reopen until January 2021 at the earliest ...\n",
            "Microsoft Ready To Continue Talks To Buy TikTok After Speaking To ...\n",
            "Microsoft pursuing TikTok purchase by September 15th, may invite ...\n",
            "Microsoft in talks to buy TikTok | Financial Times\n",
            "Microsoft and TikTok talks continue after Trump call - BBC News\n",
            "Microsoft says it is still talking with Trump about buying TikTok from ...\n",
            "Microsoft confirms plan to buy TikTok as Trump weighs options - The ...\n",
            "Reuters Exclusive: Trump gives Microsoft 45 days to clinch TikTok deal\n",
            "Microsoft Teams | IT@Cornell\n",
            "Microsoft redesigned the Xbox store ahead of Series X debut ...\n",
            "If Microsoft Pays $5 Billion For TikTok America, Buy The Stock - Forbes\n",
            "Microsoft confirms it wants to buy U.S. TikTok operations - Los ...\n",
            "What would Microsoft do with TikTok? Hit social video app goes ...\n",
            "Microsoft to end support for Cortana app on mobile; Harman Kardon ...\n",
            "\n",
            " Results for Microsoft from 2020-08-07  through 2020-08-10 \n",
            "https://google.com/search?q=Microsoft+after:2020-08-07+before:2020-08-10&num=20\n",
            "Power BI on Microsoft Learn | Microsoft Docs\n",
            "How to Get Microsoft Office for Free 2020 - YouTube\n",
            "Get to know Microsoft Windows Autopilot - YouTube\n",
            "Microsoft signals renewed interest in Windows with latest reshuffle ...\n",
            "How to use Microsoft Teams with your friends and family - The Verge\n",
            "Microsoft 365: A cheat sheet - TechRepublic\n",
            "Join the Office Insider Program - Office 365\n",
            "Facebook and Microsoft, smelling blood in the water, clash with ...\n",
            "Microsoft and Facebook blast Apple over rules on gaming apps\n",
            "Why Would Anyone Think That Microsoft Buying TikTok Is A Good ...\n",
            "Bill Gates Calls Microsoft's Potential TikTok Deal 'A Poison Chalice'\n",
            "Xbox slams Apple for blocking Microsoft's Project xCloud streaming ...\n",
            "TikTok is either Microsoft's 'poisoned chalice,' next big thing or easy ...\n",
            "Opinion: Microsoft's Nadella is making a smart bet with TikTok ...\n",
            "Microsoft Office 365 is becoming the core of many businesses. And ...\n",
            "Microsoft breaks ranks with its own service mesh | InfoWorld\n",
            "Buying TikTok may be Microsoft's best brand move in ages\n",
            "Blackstone discussed joining Microsoft in potential bid for TikTok ...\n",
            "Microsoft's TikTok deal: bargain of the decade or a $50bn blunder ...\n",
            "What is Microsoft's relationship with China like? - Deccan Chronicle\n",
            "\n",
            " Results for Microsoft from 2020-08-10  through 2020-08-11 \n",
            "https://google.com/search?q=Microsoft+after:2020-08-10+before:2020-08-11&num=20\n",
            "One Day, One Microsoft - YouTube\n",
            "TikTok is either Microsoft's 'poisoned chalice,' next big thing or easy ...\n",
            "Microsoft's TikTok deal: bargain of the decade or a $50bn blunder ...\n",
            "Xbox Series X Launches this November with Thousands of Games ...\n",
            "Microsoft 365: A cheat sheet - TechRepublic\n",
            "Microsoft buying TikTok could lead to problems monitoring social ...\n",
            "Exclusive: Microsoft faces complex technical challenges in TikTok ...\n",
            "Got kids? Help protect them with the new Microsoft Family Safety ...\n",
            "Download Microsoft Access Database Engine 2016 Redistributable ...\n",
            "How to manage the changes in Netlogon secure ... - Microsoft Support\n",
            "Microsoft (MSFT) Doesn't Need TikTok To Hit New Highs\n",
            "Microsoft opens xCloud game streaming beta early on August 11th ...\n",
            "Microsoft delays Halo Infinite to 2021 - The Verge\n",
            "Filing shows where Microsoft is really making its money; reveals ...\n",
            "Microsoft - Enterprise Master Data Management • Profisee\n",
            "Microsoft's TikTok acquisition presents both political and technical ...\n",
            "Class action joke: Three Microsoft customers walk into a court ...\n",
            "Why Windows is Microsoft's shield against a federal onslaught ...\n",
            "Apple, Ford, McDonald's and Microsoft among this summer's climate ...\n",
            "Microsoft Patch Tuesday, August 2020 Edition – Krebs on Security\n",
            "\n",
            " Results for Microsoft from 2020-08-11  through 2020-08-12 \n",
            "https://google.com/search?q=Microsoft+after:2020-08-11+before:2020-08-12&num=20\n",
            "Surface Duo – Dual-Screen Mobile Productivity, Do One ... - Microsoft\n",
            "Xbox Series X Launches this November with Thousands of Games ...\n",
            "Microsoft Surface - YouTube\n",
            "Filing shows where Microsoft is really making its money; reveals ...\n",
            "Available for preorder today, Surface Duo is purpose-built for mobile ...\n",
            "Microsoft (MSFT) Doesn't Need TikTok To Hit New Highs\n",
            "Microsoft delays Halo Infinite to 2021 - The Verge\n",
            "Microsoft to launch Xbox Series X in November - The Verge\n",
            "Why Windows is Microsoft's shield against a federal onslaught ...\n",
            "Microsoft Patch Tuesday, August 2020 Edition – Krebs on Security\n",
            "Microsoft Surface Duo Foldable Computer-Phone Device Available ...\n",
            "Microsoft August 2020 Patch Tuesday fixes 120 vulnerabilities, two ...\n",
            "Microsoft Or Twitter? Ad Buyers Weigh In On TikTok's Future ...\n",
            "6 Things To Know About Microsoft's Surface Duo - CRN\n",
            "Microsoft Releases August 2020 Security Updates | CISA\n",
            "Microsoft Patches 120 Vulnerabilities, Two Zero-Days - Dark Reading\n",
            "Designing for the Microsoft Surface Duo | by Jon Friedman - Medium\n",
            "Satya Nadella and Panos Panay on Microsoft's Surface Duo\n",
            "Microsoft Surface Duo price, release date and phone specs ...\n",
            "Microsoft Surface Duo launches Sept. 10 for $1,400 - CNBC\n",
            "\n",
            " Results for Microsoft from 2020-08-19  through 2020-08-20 \n",
            "https://google.com/search?q=Microsoft+after:2020-08-19+before:2020-08-20&num=20\n",
            "New data from Microsoft shows how the pandemic is accelerating ...\n",
            "Certification support | Microsoft Docs\n",
            "Meet Microsoft To Do - YouTube\n",
            "The New Xbox Experience: Connecting You to Fun, Wherever You ...\n",
            "Microsoft has a plan to try to improve Azure outage assistance | ZDNet\n",
            "Make a more personal connection with Eye Contact, now generally ...\n",
            "Microsoft Lists and the Curious Case of Project Osaka - Petri\n",
            "Microsoft Forms Pro Now Called Microsoft Dynamics 365 Customer ...\n",
            "Oracle joins Microsoft, Twitter in battle to buy TikTok. What's next\n",
            "Just what would an enterprise company like Microsoft or Oracle do ...\n",
            "Negotiations to sell TikTok's US assets to Microsoft in 'top of the 7th ...\n",
            "Microsoft takes one more step toward the death of Internet Explorer ...\n",
            "Microsoft delivers emergency patch for nasty Windows flaw ...\n",
            "Internet Explorer: Microsoft kills off 25-year-old browser | The ...\n",
            "Microsoft Power Automate: Information Technology - Northwestern ...\n",
            "Microsoft Deepens Oil Ties, Helping Petrobras Weather Pandemic ...\n",
            "Microsoft Advertising Editor gets updated with recommendations ...\n",
            "How to share a Microsoft Form | The Training Lady\n",
            "Opinion | I Tried Microsoft's Flight Simulator. The Earth Never ...\n",
            "Microsoft and TikTok's Partnership Could Benefit Both - Adweek\n"
          ],
          "name": "stdout"
        },
        {
          "output_type": "display_data",
          "data": {
            "image/png": "[encoded data removed]",
            "text/plain": [
              "<Figure size 432x288 with 1 Axes>"
            ]
          },
          "metadata": {
            "tags": [],
            "needs_background": "light"
          }
        },
        {
          "output_type": "display_data",
          "data": {
            "image/png": "[encoded data removed]",
            "text/plain": [
              "<Figure size 432x288 with 1 Axes>"
            ]
          },
          "metadata": {
            "tags": [],
            "needs_background": "light"
          }
        }
      ]
    },
    {
      "cell_type": "markdown",
      "metadata": {
        "id": "DwkpjPSpouBt"
      },
      "source": [
        "Just like magic, we get search results from both positive and negative swings in the stock price.\n",
        "\n",
        "Off the bat, the query appears to accurately reflect both positive and negative swings in the stock price over time (or as we defined it, when the outlier slope is larger than one standard deviation above the mean or smaller than one standard deviation below the mean). \n",
        "\n",
        "The first set of results (from July 22nd to July 23rd) has a mix of positive and negative news. However, the negative news dealt with *legal issues* - Slack filing an anti-trust complaint. Gauging whether legal matters drasitcally influence stock prices is beyond the scope of this project and is a topic for another day, but on a casual level, it is safe to assume that legal issues are *definitely* important. \n",
        "\n",
        "The period from July 31st to August 3rd has a slight dip; but given that this dip is a small swing in the middle of a stark jump up from the week before, it is still worth checking articles from the whole period. Anyway, during this time, Microsoft was rumored to have purchased the popular social media platform TikTok. This is a no brainer for stock prices.\n",
        "\n",
        "The next two periods are interesting: Bill Gates calling the TikTok acquisition a \"poisoned chalice\" seems to be the only negative news, as Microsoft's stock plummetted. This is relevant, coming from the founder and former CEO Bill Gates, who is still connected to Microsoft.\n",
        "\n",
        "\n",
        "Let's move on to Tesla for another case example.\n",
        "\n"
      ]
    },
    {
      "cell_type": "markdown",
      "metadata": {
        "id": "RT1ggL81O3UB"
      },
      "source": [
        "###Tesla"
      ]
    },
    {
      "cell_type": "code",
      "metadata": {
        "colab": {
          "base_uri": "https://localhost:8080/",
          "height": 1000
        },
        "id": "8zAkCbC-005W",
        "outputId": "c6d29884-b499-4997-ef85-489ce06ce2b5"
      },
      "source": [
        "webScrapeStock('TSLA', 2020, 12, 17, 2021, 1, 30, 20)"
      ],
      "execution_count": 43,
      "outputs": [
        {
          "output_type": "stream",
          "text": [
            "Total Search Results\n",
            "\n",
            " Results for Tesla from 2020-12-17  through 2020-12-18 \n",
            "https://google.com/search?q=Tesla+after:2020-12-17+before:2020-12-18&num=20\n",
            "5 Companies Owned by Tesla - Investopedia\n",
            "Tesla shares jump to record high ahead of S&P 500 debut | Reuters\n",
            "Sleeping in My Tesla! - YouTube\n",
            "I wanted a Tesla. Then I found out the company doesn't hire enough ...\n",
            "Tesla debt edges close to investment-grade rating at S&P ...\n",
            "Elon Musk should apologize for mocking gender pronouns, says HRC\n",
            "Tesla Model S review: Still the king of the hill? | CAR Magazine\n",
            "Tesla Joins the S&P 500: Five Things to Watch - WSJ\n",
            "Why Tesla Stock Jumped on Thursday | The Motley Fool\n",
            "Watch Out, Elon Musk. These EV Startups Are Trying To Take On ...\n",
            "Tesla Upgraded by S&P After Cash Levels Soar to Record High ...\n",
            "Tesla Tardiness Is Echoed in Mattel's Cybertruck Toy Delay ...\n",
            "Wall Street braces for trading surge as Tesla enters S&P 500\n",
            "Tesla Joins the S&P 500. What to Know. | Barron's\n",
            "Toyota Plays Tesla Spoiler: Sees a Mismatch in Cost vs. Goals for ...\n",
            "Hot Wheels is giving the real Tesla experience by delaying their ...\n",
            "Tesla Commits to Installation of Automatic Emergency Braking ...\n",
            "Tesla's upcoming S&P 500 inclusion won't make the index as ...\n",
            "Tesla Cybertruck Hot Wheels toy ships late—just like real Tesla cars ...\n",
            "Tesla heads to the S&P after meteoric rise and some investors want ...\n",
            "\n",
            " Results for Tesla from 2020-12-18  through 2020-12-21 \n",
            "https://google.com/search?q=Tesla+after:2020-12-18+before:2020-12-21&num=20\n",
            "Tesla Model 3's motor - The Brilliant Engineering behind it - YouTube\n",
            "Why Tesla's vehicles are successful: Jay Leno - YouTube\n",
            "Audi RS6 v Tesla Model 3 Performance - DRAG RACE *ICE vs EV ...\n",
            "High-flying Tesla stock takes a hit on 1st day in S&P 500 - AP News\n",
            "Tesla has become synonymous with electric vehicles. That could ...\n",
            "Tesla's rise made 2020 the year the U.S. auto industry went electric ...\n",
            "Tesla Bulls Double Down as Stock Reaches New Heights - WSJ\n",
            "Jay Leno reveals what he thinks is the genius behind Elon Musk, Tesla\n",
            "Tesla Up 700% This Year–Here Are 9 More Staggering Numbers ...\n",
            "Tesla will immediately become 2020's top S&P 500 stock. It's not ...\n",
            "Tesla to join key share index as it defies critics - BBC News\n",
            "Tesla shares fall 6% as it enters the S&P 500 with 1.69% weighting ...\n",
            "Electric Vehicles: Investors Want to Know Who the Next Tesla (TSLA ...\n",
            "Tesla's ($TSLA) Stock Price: An Army of Millionaire Retail Traders ...\n",
            "Tesla Model Y starts production at Gigafactory in China, drone video ...\n",
            "Tesla Shares Hit Record After Last-Minute Surge Ahead of S&P 500 ...\n",
            "Elon Musk says Tesla's Full Self-Driving subscription arrives in early ...\n",
            "Elon Musk's suggestive tweet leads to a discussion about a potential ...\n",
            "Wall Street braces for trading surge as Tesla joins S&P 500\n",
            "\n",
            " Results for Tesla from 2021-01-06  through 2021-01-07 \n",
            "https://google.com/search?q=Tesla+after:2021-01-06+before:2021-01-07&num=20\n",
            "Tesla short sellers lost $40 billion in 2020. Elon Musk made more ...\n",
            "Ford Mustang Mach-E vs Tesla Model 3, Model Y - Tesla's Still King ...\n",
            "Tesla Stock Could Be Worth a Trillion Dollars | Barron's\n",
            "Morgan Stanley lifts target price on Tesla to $810, while Barclays ...\n",
            "Police Department in New York Buys Tesla Model Y, Receives ...\n",
            "Tesla Option Traders Are Dumping Massive Amounts Of Calls\n",
            "Waymo says it's ditching the term 'self-driving' in dig at Tesla - The ...\n",
            "Tesla's Model Y to Stimulate Private EV Demand in China\n",
            "Tesla's 2020 Delivery Milestone Is Irrelevant for Investors | The ...\n",
            "Why Tesla Stock Jumped on Wednesday | The Motley Fool\n",
            "Tesla Kept Busy in 2020 - Bloomberg\n",
            "Tesla Eyes Another Milestone as Valuation Nears Facebook's ...\n",
            "How General Motors plans to overtake Tesla for the ... - Financial Post\n",
            "These Repair Bulletins for Tesla's Quality Problems Are Downright ...\n",
            "Tesla Now Lets Owners Customize Their Cars' Horns\n",
            "Tesla's Elon Musk Now World's Richest Person | Transport Topics\n",
            "New Tesla Model X (2021) Review | CAR Magazine\n",
            "New TG mag out now: Mustang Mach-E vs Tesla Model Y | Top Gear\n",
            "How General Motors plans to overtake Tesla for the electric car ...\n",
            "Tesla founder Elon Musk is now the world's richest human — Quartz\n",
            "\n",
            " Results for Tesla from 2021-01-07  through 2021-01-08 \n",
            "https://google.com/search?q=Tesla+after:2021-01-07+before:2021-01-08&num=20\n",
            "Can Nio Become The Tesla Of China? - YouTube\n",
            "Is this Tesla's biggest rival? | CNBC Explains - YouTube\n",
            "Tesla Is Testing A Secret Plan to Overtake All Airlines - YouTube\n",
            "Tesla stock tops $800 on 'blue' hopes, Wall Street upgrade ...\n",
            "Tesla Now Lets Owners Customize Their Cars' Horns\n",
            "2021 Tesla Model 3 Prices, Reviews, & Pictures | U.S. News & World ...\n",
            "Tesla's stock market value tops Facebook's in huge trading | Reuters\n",
            "Apple's ($AAPL) Tesla ($TSLA) Killer Won't Ship for at Least Half a ...\n",
            "Longtime Tesla bear throws in the towel and upgrades shares after ...\n",
            "Elon Musk surpasses Jeff Bezos as world's richest person as Tesla ...\n",
            "Tesla debuts lowest price Model Y SUV | Fortune\n",
            "An Analyst Got Tesla Stock 'Completely Wrong.' Why He's Changing ...\n",
            "Tesla Stock's Rise Means Elon Musk Is the Richest Man in the World ...\n",
            "Tesla vehicles shipped with missing bolts and gaps between panels ...\n",
            "Tesla founder Elon Musk is now the world's richest human — Quartz\n",
            "Tesla surpasses Facebook in market value as Elon Musk becomes ...\n",
            "Elon Musk becomes world's richest person as wealth tops $185bn ...\n",
            "Tesla Rally Makes Elon Musk World's Richest Person - The New ...\n",
            "Tesla's Elon Musk Overtakes Amazon's Jeff Bezos as World's ...\n",
            "Why this company is called China's Tesla - CNBC\n",
            "\n",
            " Results for Tesla from 2021-01-08  through 2021-01-11 \n",
            "https://google.com/search?q=Tesla+after:2021-01-08+before:2021-01-11&num=20\n",
            "Tesla is surging. Is it too late for investors to get in? - CNN\n",
            "Tesla market cap passes Facebook, now fifth most valuable U.S. ...\n",
            "Tesla Model Y Adds Standard Range Model and Third-Row Option\n",
            "Cheaper Tesla Model Y Standard Range and a New Three-Row ...\n",
            "Tesla Model Y Long Range Dual Motor - POV Review / First ...\n",
            "Tesla stock approaches $900 in its longest-ever winning streak, as ...\n",
            "Tesla debuts lowest price Model Y SUV | Fortune\n",
            "'Big Short' investor Michael Burry predicts Tesla stock will collapse ...\n",
            "2021 Tesla Model 3 Prices, Reviews, & Pictures | U.S. News & World ...\n",
            "Tesla's stock market value is now higher than Facebook — Quartz\n",
            "Tesla Model Y Standard Range makes a surprise launch, 7-seat ...\n",
            "Tesla's Model Y now available in cheaper Standard Range option ...\n",
            "Tesla has decided to sell the cheaper Model Y standard range after ...\n",
            "What is up with Tesla's value? | TechCrunch\n",
            "Tesla China Rival Nio Ups Competition With New Electric Sedan ...\n",
            "Motor Mouth: What if Tesla buys General Motors this year? – Driving ...\n",
            "Tesla sudden acceleration incidents that led to crashes caused by ...\n",
            "Watch Out, Tesla Stock. New Ford Mustang Mach-E Is an EV Threat ...\n",
            "Tesla Stock Up On New Model Y Version Elon Musk Once Called ...\n",
            "Tesla launches low-priced Model Y Musk called unacceptable as ...\n",
            "\n",
            " Results for Tesla from 2021-01-11  through 2021-01-12 \n",
            "https://google.com/search?q=Tesla+after:2021-01-11+before:2021-01-12&num=20\n",
            "Tesla: the real environmental impact - Inhabitat\n",
            "Our Tesla Model 3 Proves EVs Are Cheaper When Charged at Home\n",
            "2019 Tesla Model 3 Long-Term Road Test: 20,000-Mile Update\n",
            "He began buying Tesla at just $7.50, and now he's retiring at 39 ...\n",
            "Tesla Stock Dips, but Not for the Reason You'd Expect | Barron's\n",
            "Tesla Time News - Apple Hyundai EV? - YouTube\n",
            "TSLA Streak Ends Despite New High Price Target + Tesla AI Day ...\n",
            "Tesla: Impressive Production Mark, But the Stock Needs a Breather\n",
            "Wall Street Tesla Skeptics Give Up Amid Soaring Stocks - Bloomberg\n",
            "Analysis: Tesla's Model Y to emerge disruptor as China EV sales ...\n",
            "Opinion: Tesla′s rise should cheer climate change campaigners ...\n",
            "The World's Top Maker of Mini Motors Bets It Can Win Over Tesla ...\n",
            "Nio and Tesla vie for dominance in China's electric vehicles market\n",
            "Tata Motors Stock Is Surging on India Tesla Rumors | The Motley Fool\n",
            "Tesla's $25,000 Car May Hit The Market Sooner Than Planned ...\n",
            "Tesla Model Y Standard Range specifications and pricing revealed\n",
            "The Nio ET7 Wants to Be China's Tesla Model S - Autoweek\n",
            "Tesla Skeptics Are Capitulating - BloombergQuint\n",
            "Austin chamber wins Deal of the Year for Tesla factory - Austin ...\n",
            "\n",
            " Results for Tesla from 2021-01-22  through 2021-01-25 \n",
            "https://google.com/search?q=Tesla+after:2021-01-22+before:2021-01-25&num=20\n",
            "TSLA: Tesla Inc - Stock Price, Quote and News - CNBC\n",
            "Careers | Tesla\n",
            "Tesla's U.S. Sales Slowed in 22 States in 2020 - The New York Times\n",
            "First Electric Car? The Good, Bad Of Choosing A Tesla Model 3 ...\n",
            "Is Tesla an American Car Company? - MotorBiscuit.com\n",
            "NEW Tesla Model S to Launch Soon - YouTube\n",
            "Elon Musk's Tesla Is Suing an Ex-Worker, Who It Says Downloaded ...\n",
            "Tesla earnings: Can sales growth match stock's rise? - MarketWatch\n",
            "Long road for Tesla in India with infrastructure, supply chain woes ...\n",
            "Tesla Is Shaking Up One of the Hottest Areas in Solar Power | Barron's\n",
            "Tesla's Autopilot Won't Achieve Full Autonomy, Waymo CEO Says ...\n",
            "Tesla Claims Engineer Stole Secrets Just Days Into the Job ...\n",
            "Tesla on Twitter: \"Stamping Model Y body parts at our Fremont ...\n",
            "Tesla Model 3 Review (2020) | CAR Magazine\n",
            "Tesla Accuses Employee Who Worked For Company For Less Than ...\n",
            "Waymo CEO dismisses Tesla self-driving plan: “This is not how it ...\n",
            "Ares Design's Model S Convertible May Be the Most Stylish Tesla ...\n",
            "Tesla plans to enter India, which is going to be far from easy | Autoblog\n",
            "Tesla investment reaps $29bn profit for Edinburgh fund manager ...\n",
            "\n",
            " Results for Tesla from 2021-01-28  through 2021-01-29 \n",
            "https://google.com/search?q=Tesla+after:2021-01-28+before:2021-01-29&num=20\n",
            "2021 Tesla Model S Refresh Reaction! - YouTube\n",
            "15 NEW Tesla Model S Features - YouTube\n",
            "Tesla Model S refresh features radical steering yoke, 520-mile range ...\n",
            "First 2022 Tesla Cybertruck Deliveries Could Start This Year\n",
            "Just Yoking Around? Tesla Has a Normal Steering Wheel for the ...\n",
            "How 2021 Tesla Model S and Model X Will Shift Themselves into Gear\n",
            "Tesla refreshes Model S with a new interior and longer 660-km ...\n",
            "Tesla stock falls after earnings disappoint, but analysts brush aside ...\n",
            "Tesla's fancy new Model S will cost $10,000 more -- here's what it ...\n",
            "Tesla Reveals Yoke-Style Steering in Model S Update - Autoweek\n",
            "Tesla (TSLA) Under Pressure After Missing EPS Estimates\n",
            "Tesla Model S upgrade comes with super fast Plaid Mode and 520 ...\n",
            "New Tesla Model S: 1,100bhp, and half a steering wheel | Top Gear\n",
            "Tesla shares fall despite electric carmaker's first annual profit | Tesla ...\n",
            "They've Gone To Plaid! Redesigned Tesla Model S Brings 200 Mph ...\n",
            "Tesla Model S and X Get High-Power Video Game Hardware\n",
            "Tesla Semi production on hold until company can make its own ...\n",
            "Tesla Model S to get comprehensive refresh, 200mph “Plaid ...\n",
            "Tesla Unveils Redesigned Model S That Has a 520-Mile Range ...\n"
          ],
          "name": "stdout"
        },
        {
          "output_type": "display_data",
          "data": {
            "image/png": "[encoded data removed]",
            "text/plain": [
              "<Figure size 432x288 with 1 Axes>"
            ]
          },
          "metadata": {
            "tags": [],
            "needs_background": "light"
          }
        },
        {
          "output_type": "display_data",
          "data": {
            "image/png": "[encoded data removed]",
            "text/plain": [
              "<Figure size 432x288 with 1 Axes>"
            ]
          },
          "metadata": {
            "tags": [],
            "needs_background": "light"
          }
        }
      ]
    },
    {
      "cell_type": "markdown",
      "metadata": {
        "id": "s1NuZNdL-vMb"
      },
      "source": [
        "Tesla stock is interesting to analyze because for much of its rises (during early January), much of the news articles were \"meta\", for a lack of a better term. Much of the articles seemed to be about how successful it is doing, and how it may rise. \n",
        "\n",
        "Interestingly enough, it's decline at the end of January seemed to have articles that, well, did not *predominantly* feature negative news. Only a handful of articles in our 20 results seem to reference Tesla's earnings disappointment. However, missing earnings is always enough to cause alarm.\n",
        "\n",
        "Another fall it suffered from January 11th to the 12th is interesting to look at, as no articles are distinctly negative. Much of them describe a sales competition with Nio. Additionally, we see a few more 'meta' articles that are aware of Tesla's stock randomly dipping, such as \"TSLA Streak Ends Despite New High Price Target + Tesla AI Day ...\" and \"Tesla Stock Dips, but Not for the Reason You'd Expect\". This strange self awareness posits that simple happenstances regarding the company that happen to make the news itself aren't the only factors responsible for the stock decline. There may be other external factors not strictly tied to the news. \n",
        "\n",
        "This is why Tesla is interesting to analyze.\n"
      ]
    },
    {
      "cell_type": "markdown",
      "metadata": {
        "id": "BClBT4kiO6LD"
      },
      "source": [
        "###Running Facebook"
      ]
    },
    {
      "cell_type": "markdown",
      "metadata": {
        "id": "XIlMVMYGsRe8"
      },
      "source": [
        "Lastly, we'll look at Facebook"
      ]
    },
    {
      "cell_type": "code",
      "metadata": {
        "colab": {
          "base_uri": "https://localhost:8080/",
          "height": 1000
        },
        "id": "QqglaBJGsXzD",
        "outputId": "7cc56b10-4d59-4f51-f9dc-86d359c3c731"
      },
      "source": [
        "webScrapeStock('FB', 2021, 1, 1, 2021, 2, 1, 20)"
      ],
      "execution_count": 44,
      "outputs": [
        {
          "output_type": "stream",
          "text": [
            "Total Search Results\n",
            "\n",
            " Results for Facebook from 2021-01-05  through 2021-01-06 \n",
            "https://google.com/search?q=Facebook+after:2021-01-05+before:2021-01-06&num=20\n",
            "Introducing the New Pages Experience - About Facebook\n",
            "Our Response to the Violence in Washington - About Facebook\n",
            "This Might Be What Finally Makes Me Quit Facebook in 2021. It's an ...\n",
            "Edit Your Ad | Facebook Business Help Center\n",
            "Close an Ad Account in Ads Manager | Facebook Business Help ...\n",
            "Troubleshoot Unrecognized Activity on Your Ad Account | Facebook ...\n",
            "Create disclaimers and link ad accounts for ads about ... - Facebook\n",
            "• Facebook by the Numbers (2021): Stats, Demographics & Fun Facts\n",
            "Facebook's foolish attack on Apple | ZDNet\n",
            "Apple's upcoming iPhone privacy feature puts Facebook and Snap ...\n",
            "Facebook to Announce Fourth Quarter and Full Year 2020 Results\n",
            "Facebook to restart political ad ban after Georgia Senate runoffs ...\n",
            "Facebook revamps Pages with cleaner design, hides likes - CNET\n",
            "Facebook Pages Redesigned, 5 New Features Added\n",
            "Facebook's push into Asia-Pacific runs into political hurdles ...\n",
            "Facebook redesigns Pages with a more simplified layout and no ...\n",
            "Facebook will turn all US political advertising off again after Georgia ...\n",
            "How to Grow a Facebook Group Quickly and Effortlessly : Social ...\n",
            "Facebook drops 'likes' button from public pages | Reuters\n",
            "Facebook Smart Glasses Coming 'Sooner Than Later' Without AR ...\n",
            "\n",
            " Results for Facebook from 2021-01-08  through 2021-01-11 \n",
            "https://google.com/search?q=Facebook+after:2021-01-08+before:2021-01-11&num=20\n",
            "47 Facebook Stats That Matter to Marketers in 2021 - Hootsuite Blog\n",
            "Facebook Users Have 3 Superb Reasons To Quit In 2021 - Forbes\n",
            "Is This The Real Reason Facebook Banned President Trump?\n",
            "Our Preparations Ahead of Inauguration Day - About Facebook\n",
            "WhatsApp users are really Facebook customers now – it's getting ...\n",
            "WhatsApp Has Shared Your Data With Facebook for Years, Actually ...\n",
            "About Journalist Registration | Facebook Business Help Center\n",
            "IK Multimedia - Home | Facebook\n",
            "About Disputes and Claim Decisions | Facebook Business Help ...\n",
            "Facebook Ads Tutorial 2021 - How To Create Facebook Ads For ...\n",
            "Facebook Cares About Money, Not Values - Foreign Policy\n",
            "Facebook's Latest Executive Departure Raises Red Flags | The ...\n",
            "Getting Started on Facebook? 10 Things You Need to Do First\n",
            "Amanda Chase, Virginia state senator and governor candidate ...\n",
            "Twitter, Facebook and Others Silenced Trump. Now They Learn ...\n",
            "Tesla market cap passes Facebook, now fifth most valuable U.S. ...\n",
            "Facebook sees $34 billion erased from market cap as Trump-ban ...\n",
            "Facebook bans all 'stop the steal' content - NBC News\n",
            "Facebook Will Remove Posts That Include the Phrase 'Stop the ...\n",
            "Capitol Hill violence stokes ire at Facebook, Google and Twitter ...\n",
            "\n",
            " Results for Facebook from 2021-01-15  through 2021-01-19 \n",
            "https://google.com/search?q=Facebook+after:2021-01-15+before:2021-01-19&num=20\n",
            "Best Practices For Aspect Ratios Across Placements | Facebook ...\n",
            "About Custom Audiences | Facebook Business Help Center\n",
            "How to delete your Facebook account - The Verge\n",
            "Facebook Can't Fix What It Won't Admit To | WIRED\n",
            "An Update on Facebook in Turkey - About Facebook\n",
            "Behind a Secret Deal Between Google and Facebook - The New ...\n",
            "Facebook may take 7% revenue hit from Apple privacy changes ...\n",
            "WhatsApp delays privacy update amid Facebook data sharing ...\n",
            "Facebook will pay more than $300 each to 1.6M Illinois users in ...\n",
            "Facebook posts promoting violence still circulated even after ... - CNN\n",
            "Facebook Says It Will Pause Ads For Gun Accessories After ...\n",
            "US Lawmakers Ask Facebook To Halt Ads Of Military Gear After Riot\n",
            "Facebook Stops Military Gear and Weapon Accessory Ads Until ...\n",
            "Facebook to ban ads promoting weapon accessories, protective ...\n",
            "Despite Parler backlash, Facebook played huge role in fueling ...\n",
            "TikTok Beats Facebook in Time Spent Per User\n",
            "Facebook's Removing the 'Our Story' Section from Pages Next ...\n",
            "Facebook and Google allegedly cut a deal that reduced ad ...\n",
            "3 Reasons I Finally Sold My Facebook Stock | The Motley Fool\n",
            "Facebook Business Suite: What Marketers Need to Know : Social ...\n",
            "\n",
            " Results for Facebook from 2021-01-19  through 2021-01-20 \n",
            "https://google.com/search?q=Facebook+after:2021-01-19+before:2021-01-20&num=20\n",
            "Best Practices For Aspect Ratios Across Placements | Facebook ...\n",
            "About Custom Audiences | Facebook Business Help Center\n",
            "Using AI to Improve Photo Descriptions for People ... - About Facebook\n",
            "Capitol Attack Was Months in the Making on Facebook | Tech ...\n",
            "27 Facebook Demographics to Inform Your Strategy in 2021\n",
            "How to Save Posts on Facebook to Read Them Later\n",
            "Trump Supporters Planned Coup On Facebook - BuzzFeed News\n",
            "'Anti-Facebook' MeWe social network adds 2.5 million new members ...\n",
            "Facebook Ads Rejected? Here's What to Do : Social Media Examiner\n",
            "Top 3 Differences Between Facebook and YouTube Videos ...\n",
            "Facebook Marketing Consulting and Training with Andrea Vahl\n",
            "3 Terrible Reasons To Sell Facebook Stock | The Motley Fool\n",
            "Facebook and Instagram's AI-generated image captions now offer ...\n",
            "Facebook Confirms It's Preserving Account Data Related To Capitol ...\n",
            "Facebook stock upgraded as BMO says risks to ad targeting could ...\n",
            "Behind the Google-Facebook deal that is the focus of an antitrust ...\n",
            "How Democrats could end Wall Street's infatuation with Facebook ...\n",
            "How to Create a Facebook Group for Your Business [+ Why You ...\n",
            "Facebook asks Australia to let it make content deals with news ...\n",
            "Facebook under pressure to resume scanning messages for child ...\n",
            "\n",
            " Results for Facebook from 2021-01-26  through 2021-01-27 \n",
            "https://google.com/search?q=Facebook+after:2021-01-26+before:2021-01-27&num=20\n",
            "Facebook Reports Fourth Quarter and Full Year 2020 Results\n",
            "How does News Feed predict what you want to see? - Facebook ...\n",
            "About Conversions API | Facebook Business Help Center\n",
            "Prepare to Advertise on Facebook | Facebook Business Help Center\n",
            "Facebook (FB) earnings Q4 2020 - CNBC\n",
            "Facebook Earnings: What Happened With FB - Investopedia\n",
            "[PDF] Facebook Reports Fourth Quarter and Full Year 2020 Results Fourth ...\n",
            "Facebook sees earnings grow but warns Apple iOS changes could ...\n",
            "Facebook Aggregated Event Measurement for WordPress websites\n",
            "Facebook Reports Fourth Quarter and Full Year ... - PR Newswire\n",
            "Facebook is bombarding rightwing users with ads for combat gear ...\n",
            "Facebook CEO Mark Zuckerberg says platform will halt political ...\n",
            "Facebook's Zuckerberg Sees Battles Escalating With Apple on ...\n",
            "Facebook revenue lifted by ecommerce push during pandemic ...\n",
            "Facebook Posts a 53 Percent Jump in Profit - The New York Times\n",
            "Facebook beats expectations but warns of 'cross currents' in 2021 ...\n",
            "Facebook Q4 results soar; Zuckerberg hits Apple over privacy\n",
            "Facebook predicts 'significant' obstacles to ad targeting and revenue ...\n",
            "For older adults, specific Facebook activities more important than ...\n",
            "Facebook predicts 'uncertainty' in 2021 | Engadget\n",
            "\n",
            " Results for Facebook from 2021-01-27  through 2021-01-28 \n",
            "https://google.com/search?q=Facebook+after:2021-01-27+before:2021-01-28&num=20\n",
            "Facebook Reports Fourth Quarter and Full Year 2020 Results\n",
            "Facebook (FB) earnings Q4 2020 - CNBC\n",
            "[PDF] Facebook Reports Fourth Quarter and Full Year 2020 Results Fourth ...\n",
            "Facebook sees earnings grow but warns Apple iOS changes could ...\n",
            "Facebook Reports Fourth Quarter and Full Year ... - PR Newswire\n",
            "Facebook revenue lifted by ecommerce push during pandemic ...\n",
            "Facebook's Zuckerberg Sees Battles Escalating With Apple on ...\n",
            "Facebook Posts a 53 Percent Jump in Profit - The New York Times\n",
            "Facebook beats expectations but warns of 'cross currents' in 2021 ...\n",
            "Louis Vuitton | Verified Facebook Page\n",
            "Facebook plans to reduce political content in the News Feed - CNN\n",
            "Facebook Q4 results soar; Zuckerberg hits Apple over privacy\n",
            "Facebook says it will permanently stop recommending political ...\n",
            "Facebook predicts 'uncertainty' in 2021 | Engadget\n",
            "Facebook predicts 'significant' obstacles to ad targeting and revenue ...\n",
            "Facebook CEO Mark Zuckerberg says platform will halt political ...\n",
            "Facebook's Sales Jump; Social Network Warns of 'Uncertainty'\n",
            "Facebook beats on Q4 earnings, revenue, but stock slides on ...\n",
            "Despite Posting Monster Q4 And 2020 Results, Facebook's Stock ...\n",
            "Facebook Q4 tops expectations, CFO warns of iOS 14 impact on ...\n",
            "\n",
            " Results for Facebook from 2021-01-28  through 2021-01-29 \n",
            "https://google.com/search?q=Facebook+after:2021-01-28+before:2021-01-29&num=20\n",
            "Responding to the Oversight Board's First Decisions - About Facebook\n",
            "Community Standards | Facebook\n",
            "Announcing the Oversight Board's first case decisions | Oversight ...\n",
            "Facebook Preps Antitrust Lawsuit Against Apple — The Information\n",
            "Facebook's 'supreme court' just ruled against Facebook on several ...\n",
            "Facebook Oversight Board Rules 4 Deleted Posts Must Be Restored ...\n",
            "Everything that happened in Apple and Facebook's privacy feud ...\n",
            "Apple comes out swinging against Facebook over data privacy - CNET\n",
            "Facebook reportedly considers hitting Apple with antitrust suit - CNET\n",
            "Facebook oversight board overrules company on most cases in first ...\n",
            "Apple v. Facebook: After years of tension, a legal battle looms\n",
            "Facebook's 'Oversight Board' overturns 4 cases in first rulings\n",
            "Facebook (FB) Trading Higher After Strong Quarter - Investopedia\n",
            "Facebook Stock Falls as Zuckerberg Calls Out Apple | Barron's\n",
            "Apple and Facebook at odds over privacy move that will hit online ...\n",
            "Facebook shuts popular Robinhood Stock Traders group amid ...\n",
            "How Facebook Made So Much Money Despite Its Reputation - The ...\n",
            "Facebook temporarily shuts stock trading group after GameStop ...\n",
            "Facebook panel overturns 4 content takedowns in first ruling\n",
            "No, Facebook's recent logout glitch is not related to its off ... - PolitiFact\n"
          ],
          "name": "stdout"
        },
        {
          "output_type": "display_data",
          "data": {
            "image/png": "[encoded data removed]",
            "text/plain": [
              "<Figure size 432x288 with 1 Axes>"
            ]
          },
          "metadata": {
            "tags": [],
            "needs_background": "light"
          }
        },
        {
          "output_type": "display_data",
          "data": {
            "image/png": "[encoded data removed]",
            "text/plain": [
              "<Figure size 432x288 with 1 Axes>"
            ]
          },
          "metadata": {
            "tags": [],
            "needs_background": "light"
          }
        }
      ]
    },
    {
      "cell_type": "markdown",
      "metadata": {
        "id": "116s7FqgsYVP"
      },
      "source": [
        "Facebook shows a clearer association between the articles and price movements. The massive plunge from January 8th to January 11th correlated with news about Facebook banning Trump, and pro-Trump content. This would obviously alienate users of the platform that support Trump, and thus the stock price did fall in response.\n",
        "\n",
        "It's subsequent rise during the middle of January is less obvious. There were some articles discussing how Facebook would ban ads promoting guns and military gear. Additionally, some negative articles in regards to Facebook's privacy issues. However, the stock rose. This could engender further outside research as to the state of the market to determine why Facebook would rise.\n",
        "\n",
        "It's later decline in the the last week of Janaury appears to coincide with Mark Zuckerberg's comments on Facebook facing \"uncertainty\" in 2021, Facebook continuing to lose users in the USA and Canada, and perhaps most importantly, legal issues and controversy surrounding Facebook: more specifically, Apple's new requirements that apps on their platform would not be able to require users to accept intrusive tracking, ads, and data collection just to use an app. Facebook - whose revenue relies heavily on such activity - publicly rallied against it, even purchasing newspaper ads in the process. They claimed that it would hurt small businesses, but the price of Facebook's stock still went down, thus showing doubt over Facebook's intentions."
      ]
    },
    {
      "cell_type": "markdown",
      "metadata": {
        "id": "xho_S-DTsa7g"
      },
      "source": [
        "#Conclusion\n",
        "\n",
        "By looking at some of these popular stocks, we see that there definitely is an association between news articles regarding the company, and the company's stock. But even without a complicated mathematical analysis to determine the exact correlation between the prices and articles, simply looking at Tesla and Facebook shows that this association is not 1 to 1: anyone that trades stocks regularly would know this, as often times, stocks can inexplicably fall or rise without a clear cause. Tesla seemed to rise *because* it was rising one point, for example.\n",
        "\n",
        "Other times, they may have a cause, but it may be bigger than the company itself. For instance, many popular stocks did decline following the capitol riots, before subsequently rising again a day or so later. And as we saw with Facebook, \n",
        "Overall, stock prices changed without any clear reason. The news about Facebook in the media during that time did not particularly lean positive or negative, yet the stock still jumped - and this was well after the effects of the capital riot on the stock market had been reversed.\n",
        "\n",
        "All in all, there is an association with a company's news, and its corresponding stock price, but there are other factors, from time to time. This is a subject that definitely warrants more research in the future."
      ]
    }
  ]
}